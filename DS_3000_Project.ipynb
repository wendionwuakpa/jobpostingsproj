{
 "cells": [
  {
   "cell_type": "markdown",
   "id": "3867e317",
   "metadata": {},
   "source": [
    "# Topic Modeling of Data Science Job Postings and Northeastern CS Courses "
   ]
  },
  {
   "cell_type": "code",
   "execution_count": 79,
   "id": "ced31777",
   "metadata": {},
   "outputs": [],
   "source": [
    "#imports \n",
    "import pandas as pd\n",
    "import numpy as np\n",
    "from collections import Counter\n",
    "import warnings\n",
    "warnings.filterwarnings('ignore')\n",
    "\n",
    "from sklearn.feature_extraction.text import CountVectorizer\n",
    "from sklearn.metrics.pairwise import cosine_similarity\n",
    "import numpy as np\n",
    "from summa import keywords\n",
    "import matplotlib.pyplot as plt\n",
    "from wordcloud import WordCloud, STOPWORDS\n",
    "import sys, os\n",
    "import plotly.graph_objs as go\n",
    "import plotly.offline as py\n"
   ]
  },
  {
   "cell_type": "code",
   "execution_count": 41,
   "id": "bfe6ae3a",
   "metadata": {},
   "outputs": [],
   "source": [
    "#load data from csv\n",
    "df = pd.read_csv('data_scientist_united_states_job_postings_jobspikr.csv', low_memory = True)"
   ]
  },
  {
   "cell_type": "markdown",
   "id": "2062fc65",
   "metadata": {},
   "source": [
    "### EDA and Data Wrangling"
   ]
  },
  {
   "cell_type": "code",
   "execution_count": 42,
   "id": "7574f66d",
   "metadata": {},
   "outputs": [],
   "source": [
    "#drop not needed columns\n",
    "drop_cols = ['crawl_timestamp', 'salary_offered', 'job_board','geo', 'cursor', 'contact_email', 'contact_phone_number', 'html_job_description', 'inferred_city', 'inferred_state', 'inferred_country']\n",
    "df = df.drop(columns  = drop_cols)\n",
    "\n",
    "#drop all rows with any null columns\n",
    "df = df.dropna(axis = 0, how = 'any', subset = None, inplace = False)\n"
   ]
  },
  {
   "cell_type": "code",
   "execution_count": 43,
   "id": "4c0f64d2",
   "metadata": {},
   "outputs": [],
   "source": [
    "#change the types of the columns from object to necessary type \n",
    "df['category'] = df['category'].astype('category')\n",
    "df['company_name'] = df['company_name'].astype('string')\n",
    "df['city'] = df['city'].astype('string')\n",
    "df['state'] = df['state'].astype('string')\n",
    "df['country'] = df['country'].astype('string')\n",
    "df['job_type'] = df['job_type'].astype('category')\n",
    "df['job_description'] = df['job_description'].astype('string')"
   ]
  },
  {
   "cell_type": "markdown",
   "id": "db440150",
   "metadata": {},
   "source": [
    "- We can see below that the types have been changed from object to the necessary types, and all null values have removed and the data in each row is uniform "
   ]
  },
  {
   "cell_type": "code",
   "execution_count": 44,
   "id": "264f202d",
   "metadata": {},
   "outputs": [
    {
     "name": "stdout",
     "output_type": "stream",
     "text": [
      "<class 'pandas.core.frame.DataFrame'>\n",
      "Int64Index: 8700 entries, 0 to 9992\n",
      "Data columns (total 11 columns):\n",
      " #   Column           Non-Null Count  Dtype   \n",
      "---  ------           --------------  -----   \n",
      " 0   url              8700 non-null   object  \n",
      " 1   job_title        8700 non-null   object  \n",
      " 2   category         8700 non-null   category\n",
      " 3   company_name     8700 non-null   string  \n",
      " 4   city             8700 non-null   string  \n",
      " 5   state            8700 non-null   string  \n",
      " 6   country          8700 non-null   string  \n",
      " 7   post_date        8700 non-null   object  \n",
      " 8   job_description  8700 non-null   string  \n",
      " 9   job_type         8700 non-null   category\n",
      " 10  uniq_id          8700 non-null   object  \n",
      "dtypes: category(2), object(4), string(5)\n",
      "memory usage: 716.2+ KB\n"
     ]
    }
   ],
   "source": [
    "df.info()"
   ]
  },
  {
   "cell_type": "code",
   "execution_count": 45,
   "id": "156ef4eb",
   "metadata": {},
   "outputs": [
    {
     "data": {
      "text/html": [
       "<div>\n",
       "<style scoped>\n",
       "    .dataframe tbody tr th:only-of-type {\n",
       "        vertical-align: middle;\n",
       "    }\n",
       "\n",
       "    .dataframe tbody tr th {\n",
       "        vertical-align: top;\n",
       "    }\n",
       "\n",
       "    .dataframe thead th {\n",
       "        text-align: right;\n",
       "    }\n",
       "</style>\n",
       "<table border=\"1\" class=\"dataframe\">\n",
       "  <thead>\n",
       "    <tr style=\"text-align: right;\">\n",
       "      <th></th>\n",
       "      <th>url</th>\n",
       "      <th>job_title</th>\n",
       "      <th>category</th>\n",
       "      <th>company_name</th>\n",
       "      <th>city</th>\n",
       "      <th>state</th>\n",
       "      <th>country</th>\n",
       "      <th>post_date</th>\n",
       "      <th>job_description</th>\n",
       "      <th>job_type</th>\n",
       "      <th>uniq_id</th>\n",
       "    </tr>\n",
       "  </thead>\n",
       "  <tbody>\n",
       "    <tr>\n",
       "      <th>0</th>\n",
       "      <td>https://www.indeed.com/viewjob?jk=fd83355c2b23...</td>\n",
       "      <td>Enterprise Data Scientist I</td>\n",
       "      <td>Accounting/Finance</td>\n",
       "      <td>Farmers Insurance Group</td>\n",
       "      <td>Woodland Hills</td>\n",
       "      <td>CA</td>\n",
       "      <td>Usa</td>\n",
       "      <td>2019-02-06</td>\n",
       "      <td>Read what people are saying about working here...</td>\n",
       "      <td>Undefined</td>\n",
       "      <td>3b6c6acfcba6135a31c83bd7ea493b18</td>\n",
       "    </tr>\n",
       "    <tr>\n",
       "      <th>3</th>\n",
       "      <td>https://www.indeed.com/viewjob?jk=841edd86ead2...</td>\n",
       "      <td>Data Scientist, Aladdin Wealth Tech, Associate...</td>\n",
       "      <td>Accounting/Finance</td>\n",
       "      <td>BlackRock</td>\n",
       "      <td>New York</td>\n",
       "      <td>NY 10055 (Midtown area)</td>\n",
       "      <td>Usa</td>\n",
       "      <td>2019-02-06</td>\n",
       "      <td>Read what people are saying about working here...</td>\n",
       "      <td>Undefined</td>\n",
       "      <td>1c8541cd2c2c924f9391c7d3f526f64e</td>\n",
       "    </tr>\n",
       "    <tr>\n",
       "      <th>4</th>\n",
       "      <td>https://job-openings.monster.com/senior-data-s...</td>\n",
       "      <td>Senior Data Scientist</td>\n",
       "      <td>biotech</td>\n",
       "      <td>CyberCoders</td>\n",
       "      <td>Charlotte</td>\n",
       "      <td>NC</td>\n",
       "      <td>Usa</td>\n",
       "      <td>2019-02-05</td>\n",
       "      <td>We are seeking an extraordinary Data Scientist...</td>\n",
       "      <td>Full Time</td>\n",
       "      <td>445652a560a5441060857853cf267470</td>\n",
       "    </tr>\n",
       "    <tr>\n",
       "      <th>5</th>\n",
       "      <td>https://www.indeed.com/viewjob?jk=14fa3772cd5f...</td>\n",
       "      <td>CIB – Fixed Income Research – Machine Learning...</td>\n",
       "      <td>Accounting/Finance</td>\n",
       "      <td>JP Morgan Chase</td>\n",
       "      <td>New York</td>\n",
       "      <td>NY 10179 (Midtown area)</td>\n",
       "      <td>Usa</td>\n",
       "      <td>2019-02-05</td>\n",
       "      <td>Read what people are saying about working here...</td>\n",
       "      <td>Undefined</td>\n",
       "      <td>9571ec617ba209fd9a4f842973a4e9c8</td>\n",
       "    </tr>\n",
       "    <tr>\n",
       "      <th>6</th>\n",
       "      <td>https://www.indeed.com/viewjob?jk=c6db96b37f8a...</td>\n",
       "      <td>Data Scientist, Licensing Operations</td>\n",
       "      <td>Accounting/Finance</td>\n",
       "      <td>Spotify</td>\n",
       "      <td>New York</td>\n",
       "      <td>NY 10011 (Chelsea area)</td>\n",
       "      <td>Usa</td>\n",
       "      <td>2019-02-06</td>\n",
       "      <td>Read what people are saying about working here...</td>\n",
       "      <td>Undefined</td>\n",
       "      <td>0ec629c03f3e82651711f2626c23cadb</td>\n",
       "    </tr>\n",
       "    <tr>\n",
       "      <th>8</th>\n",
       "      <td>https://www.indeed.com/viewjob?jk=0fc298b9f3a8...</td>\n",
       "      <td>Data Scientist, Aladdin Wealth Tech, Associate</td>\n",
       "      <td>Accounting/Finance</td>\n",
       "      <td>BlackRock</td>\n",
       "      <td>New York</td>\n",
       "      <td>NY 10055 (Midtown area)</td>\n",
       "      <td>Usa</td>\n",
       "      <td>2019-02-06</td>\n",
       "      <td>Read what people are saying about working here...</td>\n",
       "      <td>Undefined</td>\n",
       "      <td>80d64b46bc7c89602f63daf06b9f1b4c</td>\n",
       "    </tr>\n",
       "    <tr>\n",
       "      <th>10</th>\n",
       "      <td>https://www.indeed.com/viewjob?jk=fe663233109e...</td>\n",
       "      <td>Data Scientist</td>\n",
       "      <td>Computer/Internet</td>\n",
       "      <td>Northrop Grumman</td>\n",
       "      <td>Monterey</td>\n",
       "      <td>CA 93940</td>\n",
       "      <td>Usa</td>\n",
       "      <td>2019-02-06</td>\n",
       "      <td>Read what people are saying about working here...</td>\n",
       "      <td>Undefined</td>\n",
       "      <td>9cd3ed78e5cac9e516ea41173de2c25f</td>\n",
       "    </tr>\n",
       "    <tr>\n",
       "      <th>12</th>\n",
       "      <td>https://www.indeed.com/viewjob?jk=27a8eb5fa40b...</td>\n",
       "      <td>ETL Developer / Data Scientist</td>\n",
       "      <td>Computer/Internet</td>\n",
       "      <td>Noblis</td>\n",
       "      <td>Reston</td>\n",
       "      <td>VA 20191</td>\n",
       "      <td>Usa</td>\n",
       "      <td>2019-02-06</td>\n",
       "      <td>Read what people are saying about working here...</td>\n",
       "      <td>Undefined</td>\n",
       "      <td>53224da901548e7137bbb163d456ba6a</td>\n",
       "    </tr>\n",
       "    <tr>\n",
       "      <th>13</th>\n",
       "      <td>https://www.indeed.com/viewjob?jk=5d05c5d90a50...</td>\n",
       "      <td>Research Data Scientist</td>\n",
       "      <td>Computer/Internet</td>\n",
       "      <td>ARUP Laboratories</td>\n",
       "      <td>Salt Lake City</td>\n",
       "      <td>UT</td>\n",
       "      <td>Usa</td>\n",
       "      <td>2019-02-06</td>\n",
       "      <td>Read what people are saying about working here...</td>\n",
       "      <td>Undefined</td>\n",
       "      <td>010b5d671896d26eba50948c7c337f94</td>\n",
       "    </tr>\n",
       "    <tr>\n",
       "      <th>18</th>\n",
       "      <td>https://www.indeed.com/viewjob?jk=be9a799359df...</td>\n",
       "      <td>Data Scientist</td>\n",
       "      <td>Computer/Internet</td>\n",
       "      <td>Bank of America</td>\n",
       "      <td>Seattle</td>\n",
       "      <td>WA 98104 (First Hill area)</td>\n",
       "      <td>Usa</td>\n",
       "      <td>2019-02-06</td>\n",
       "      <td>Read what people are saying about working here...</td>\n",
       "      <td>Undefined</td>\n",
       "      <td>4a8b875d1acc4f560716561d699aa022</td>\n",
       "    </tr>\n",
       "  </tbody>\n",
       "</table>\n",
       "</div>"
      ],
      "text/plain": [
       "                                                  url  \\\n",
       "0   https://www.indeed.com/viewjob?jk=fd83355c2b23...   \n",
       "3   https://www.indeed.com/viewjob?jk=841edd86ead2...   \n",
       "4   https://job-openings.monster.com/senior-data-s...   \n",
       "5   https://www.indeed.com/viewjob?jk=14fa3772cd5f...   \n",
       "6   https://www.indeed.com/viewjob?jk=c6db96b37f8a...   \n",
       "8   https://www.indeed.com/viewjob?jk=0fc298b9f3a8...   \n",
       "10  https://www.indeed.com/viewjob?jk=fe663233109e...   \n",
       "12  https://www.indeed.com/viewjob?jk=27a8eb5fa40b...   \n",
       "13  https://www.indeed.com/viewjob?jk=5d05c5d90a50...   \n",
       "18  https://www.indeed.com/viewjob?jk=be9a799359df...   \n",
       "\n",
       "                                            job_title            category  \\\n",
       "0                         Enterprise Data Scientist I  Accounting/Finance   \n",
       "3   Data Scientist, Aladdin Wealth Tech, Associate...  Accounting/Finance   \n",
       "4                               Senior Data Scientist             biotech   \n",
       "5   CIB – Fixed Income Research – Machine Learning...  Accounting/Finance   \n",
       "6                Data Scientist, Licensing Operations  Accounting/Finance   \n",
       "8      Data Scientist, Aladdin Wealth Tech, Associate  Accounting/Finance   \n",
       "10                                     Data Scientist   Computer/Internet   \n",
       "12                     ETL Developer / Data Scientist   Computer/Internet   \n",
       "13                            Research Data Scientist   Computer/Internet   \n",
       "18                                     Data Scientist   Computer/Internet   \n",
       "\n",
       "               company_name            city                       state  \\\n",
       "0   Farmers Insurance Group  Woodland Hills                          CA   \n",
       "3                 BlackRock        New York     NY 10055 (Midtown area)   \n",
       "4               CyberCoders       Charlotte                          NC   \n",
       "5           JP Morgan Chase        New York     NY 10179 (Midtown area)   \n",
       "6                   Spotify        New York     NY 10011 (Chelsea area)   \n",
       "8                 BlackRock        New York     NY 10055 (Midtown area)   \n",
       "10         Northrop Grumman        Monterey                    CA 93940   \n",
       "12                   Noblis          Reston                    VA 20191   \n",
       "13        ARUP Laboratories  Salt Lake City                          UT   \n",
       "18          Bank of America         Seattle  WA 98104 (First Hill area)   \n",
       "\n",
       "   country   post_date                                    job_description  \\\n",
       "0      Usa  2019-02-06  Read what people are saying about working here...   \n",
       "3      Usa  2019-02-06  Read what people are saying about working here...   \n",
       "4      Usa  2019-02-05  We are seeking an extraordinary Data Scientist...   \n",
       "5      Usa  2019-02-05  Read what people are saying about working here...   \n",
       "6      Usa  2019-02-06  Read what people are saying about working here...   \n",
       "8      Usa  2019-02-06  Read what people are saying about working here...   \n",
       "10     Usa  2019-02-06  Read what people are saying about working here...   \n",
       "12     Usa  2019-02-06  Read what people are saying about working here...   \n",
       "13     Usa  2019-02-06  Read what people are saying about working here...   \n",
       "18     Usa  2019-02-06  Read what people are saying about working here...   \n",
       "\n",
       "     job_type                           uniq_id  \n",
       "0   Undefined  3b6c6acfcba6135a31c83bd7ea493b18  \n",
       "3   Undefined  1c8541cd2c2c924f9391c7d3f526f64e  \n",
       "4   Full Time  445652a560a5441060857853cf267470  \n",
       "5   Undefined  9571ec617ba209fd9a4f842973a4e9c8  \n",
       "6   Undefined  0ec629c03f3e82651711f2626c23cadb  \n",
       "8   Undefined  80d64b46bc7c89602f63daf06b9f1b4c  \n",
       "10  Undefined  9cd3ed78e5cac9e516ea41173de2c25f  \n",
       "12  Undefined  53224da901548e7137bbb163d456ba6a  \n",
       "13  Undefined  010b5d671896d26eba50948c7c337f94  \n",
       "18  Undefined  4a8b875d1acc4f560716561d699aa022  "
      ]
     },
     "execution_count": 45,
     "metadata": {},
     "output_type": "execute_result"
    }
   ],
   "source": [
    "df.head(10)"
   ]
  },
  {
   "cell_type": "markdown",
   "id": "3e9262d2",
   "metadata": {},
   "source": [
    "# Web Scraping Course information"
   ]
  },
  {
   "cell_type": "code",
   "execution_count": 84,
   "id": "1d93783f",
   "metadata": {},
   "outputs": [],
   "source": [
    "from selenium import webdriver\n",
    "from bs4 import BeautifulSoup\n",
    "import pandas as pd\n",
    "import requests"
   ]
  },
  {
   "cell_type": "code",
   "execution_count": 85,
   "id": "10a1f145",
   "metadata": {},
   "outputs": [],
   "source": [
    "# open websites\n",
    "cs_URL = \"https://catalog.northeastern.edu/undergraduate/computer-information-science/computer-science/#coursestext\"\n",
    "cs_page = requests.get(cs_URL)\n",
    "\n",
    "ds_URL = \"https://catalog.northeastern.edu/undergraduate/computer-information-science/data-science/#coursestext\"\n",
    "ds_page = requests.get(ds_URL)\n"
   ]
  },
  {
   "cell_type": "code",
   "execution_count": 86,
   "id": "26b21af9",
   "metadata": {},
   "outputs": [],
   "source": [
    "soup = BeautifulSoup(cs_page.content, \"html.parser\")\n",
    "soup2 = BeautifulSoup(ds_page.content, \"html.parser\")"
   ]
  },
  {
   "cell_type": "code",
   "execution_count": 87,
   "id": "75bc729e",
   "metadata": {},
   "outputs": [],
   "source": [
    "# get each course\n",
    "cs_classes = soup.find_all(\"div\", class_=\"courseblock\")\n",
    "cs_classes[0]\n",
    "ds_classes = soup2.find_all(\"div\", class_=\"courseblock\")"
   ]
  },
  {
   "cell_type": "code",
   "execution_count": 88,
   "id": "f7126282",
   "metadata": {},
   "outputs": [],
   "source": [
    "# collect data\n",
    "data = {}\n",
    "titles = []\n",
    "descriptions = []\n",
    "course_nums = []\n",
    "credits = []\n",
    "for cl in cs_classes:\n",
    "    title = cl.find(\"p\", class_ = \"courseblocktitle noindent\").text.strip()\n",
    "    desc = cl.find(\"p\", class_ = \"cb_desc\").text.strip()\n",
    "    course_num, name, credit = title.split('.')\n",
    "    titles.append(name)\n",
    "    course_nums.append(course_num)\n",
    "    credits.append(credit)\n",
    "    descriptions.append(desc)\n",
    "    #data['titles'] = titles\n",
    "    #data['decriptions'] = descriptions\n",
    "for cl in ds_classes:\n",
    "    title = cl.find(\"p\", class_ = \"courseblocktitle noindent\").text.strip()\n",
    "    desc = cl.find(\"p\", class_ = \"cb_desc\").text.strip()\n",
    "    course_num, name, credit = title.split('.')\n",
    "    titles.append(name)\n",
    "    course_nums.append(course_num)\n",
    "    credits.append(credit)\n",
    "    descriptions.append(desc)\n",
    "data['course number'] = course_nums\n",
    "data['titles'] = titles\n",
    "data['descriptions'] = descriptions\n",
    "data['credits'] = credits"
   ]
  },
  {
   "cell_type": "code",
   "execution_count": 90,
   "id": "6aed729f",
   "metadata": {},
   "outputs": [
    {
     "data": {
      "text/html": [
       "<div>\n",
       "<style scoped>\n",
       "    .dataframe tbody tr th:only-of-type {\n",
       "        vertical-align: middle;\n",
       "    }\n",
       "\n",
       "    .dataframe tbody tr th {\n",
       "        vertical-align: top;\n",
       "    }\n",
       "\n",
       "    .dataframe thead th {\n",
       "        text-align: right;\n",
       "    }\n",
       "</style>\n",
       "<table border=\"1\" class=\"dataframe\">\n",
       "  <thead>\n",
       "    <tr style=\"text-align: right;\">\n",
       "      <th></th>\n",
       "      <th>course number</th>\n",
       "      <th>titles</th>\n",
       "      <th>descriptions</th>\n",
       "      <th>credits</th>\n",
       "    </tr>\n",
       "  </thead>\n",
       "  <tbody>\n",
       "    <tr>\n",
       "      <th>0</th>\n",
       "      <td>CS 1100</td>\n",
       "      <td>Computer Science and Its Applications</td>\n",
       "      <td>Introduces students to the field of computer s...</td>\n",
       "      <td>(4 Hours)</td>\n",
       "    </tr>\n",
       "    <tr>\n",
       "      <th>1</th>\n",
       "      <td>CS 1101</td>\n",
       "      <td>Lab for CS 1100</td>\n",
       "      <td>Accompanies CS 1100. Involves experiments and ...</td>\n",
       "      <td>(1 Hour)</td>\n",
       "    </tr>\n",
       "    <tr>\n",
       "      <th>2</th>\n",
       "      <td>CS 1200</td>\n",
       "      <td>First Year Seminar</td>\n",
       "      <td>Seeks to support students in their transition ...</td>\n",
       "      <td>(1 Hour)</td>\n",
       "    </tr>\n",
       "    <tr>\n",
       "      <th>3</th>\n",
       "      <td>CS 1210</td>\n",
       "      <td>Professional Development for Khoury Co-op</td>\n",
       "      <td>Continues the preparation of students for care...</td>\n",
       "      <td>(1 Hour)</td>\n",
       "    </tr>\n",
       "    <tr>\n",
       "      <th>4</th>\n",
       "      <td>CS 1800</td>\n",
       "      <td>Discrete Structures</td>\n",
       "      <td>Introduces the mathematical structures and met...</td>\n",
       "      <td>(4 Hours)</td>\n",
       "    </tr>\n",
       "    <tr>\n",
       "      <th>...</th>\n",
       "      <td>...</td>\n",
       "      <td>...</td>\n",
       "      <td>...</td>\n",
       "      <td>...</td>\n",
       "    </tr>\n",
       "    <tr>\n",
       "      <th>127</th>\n",
       "      <td>DS 5020</td>\n",
       "      <td>Introduction to Linear Algebra and Probabili...</td>\n",
       "      <td>Offers an introductory course on the basics of...</td>\n",
       "      <td>(4 Hours)</td>\n",
       "    </tr>\n",
       "    <tr>\n",
       "      <th>128</th>\n",
       "      <td>DS 5110</td>\n",
       "      <td>Introduction to Data Management and Processing</td>\n",
       "      <td>Introduces students to the core tasks in data ...</td>\n",
       "      <td>(4 Hours)</td>\n",
       "    </tr>\n",
       "    <tr>\n",
       "      <th>129</th>\n",
       "      <td>DS 5220</td>\n",
       "      <td>Supervised Machine Learning and Learning Theory</td>\n",
       "      <td>Introduces supervised machine learning, which ...</td>\n",
       "      <td>(4 Hours)</td>\n",
       "    </tr>\n",
       "    <tr>\n",
       "      <th>130</th>\n",
       "      <td>DS 5230</td>\n",
       "      <td>Unsupervised Machine Learning and Data Mining</td>\n",
       "      <td>Introduces unsupervised machine learning and d...</td>\n",
       "      <td>(4 Hours)</td>\n",
       "    </tr>\n",
       "    <tr>\n",
       "      <th>131</th>\n",
       "      <td>DS 5500</td>\n",
       "      <td>Capstone: Applications in Data Science</td>\n",
       "      <td>Offers students a capstone opportunity to prac...</td>\n",
       "      <td>(4 Hours)</td>\n",
       "    </tr>\n",
       "  </tbody>\n",
       "</table>\n",
       "<p>132 rows × 4 columns</p>\n",
       "</div>"
      ],
      "text/plain": [
       "    course number                                             titles  \\\n",
       "0         CS 1100              Computer Science and Its Applications   \n",
       "1         CS 1101                                    Lab for CS 1100   \n",
       "2         CS 1200                                 First Year Seminar   \n",
       "3         CS 1210          Professional Development for Khoury Co-op   \n",
       "4         CS 1800                                Discrete Structures   \n",
       "..            ...                                                ...   \n",
       "127       DS 5020    Introduction to Linear Algebra and Probabili...   \n",
       "128       DS 5110     Introduction to Data Management and Processing   \n",
       "129       DS 5220    Supervised Machine Learning and Learning Theory   \n",
       "130       DS 5230      Unsupervised Machine Learning and Data Mining   \n",
       "131       DS 5500             Capstone: Applications in Data Science   \n",
       "\n",
       "                                          descriptions      credits  \n",
       "0    Introduces students to the field of computer s...    (4 Hours)  \n",
       "1    Accompanies CS 1100. Involves experiments and ...     (1 Hour)  \n",
       "2    Seeks to support students in their transition ...     (1 Hour)  \n",
       "3    Continues the preparation of students for care...     (1 Hour)  \n",
       "4    Introduces the mathematical structures and met...    (4 Hours)  \n",
       "..                                                 ...          ...  \n",
       "127  Offers an introductory course on the basics of...    (4 Hours)  \n",
       "128  Introduces students to the core tasks in data ...    (4 Hours)  \n",
       "129  Introduces supervised machine learning, which ...    (4 Hours)  \n",
       "130  Introduces unsupervised machine learning and d...    (4 Hours)  \n",
       "131  Offers students a capstone opportunity to prac...    (4 Hours)  \n",
       "\n",
       "[132 rows x 4 columns]"
      ]
     },
     "execution_count": 90,
     "metadata": {},
     "output_type": "execute_result"
    }
   ],
   "source": [
    "df_courses = pd.DataFrame(data)"
   ]
  },
  {
   "cell_type": "markdown",
   "id": "adb27aa7",
   "metadata": {},
   "source": [
    "# Create word clouds"
   ]
  },
  {
   "cell_type": "code",
   "execution_count": 50,
   "id": "21f8c014",
   "metadata": {},
   "outputs": [
    {
     "data": {
      "text/plain": [
       "<wordcloud.wordcloud.WordCloud at 0x1b0b373f370>"
      ]
     },
     "execution_count": 50,
     "metadata": {},
     "output_type": "execute_result"
    }
   ],
   "source": [
    "\n",
    "os.chdir(sys.path[0])\n",
    "\n",
    "# Read text \n",
    "text = open('data_scientist_united_states_job_postings_jobspikr.csv', mode='r', encoding='utf-8').read()\n",
    "stopwords = STOPWORDS\n",
    "\n",
    "wc = WordCloud(\n",
    "    background_color='white',\n",
    "    stopwords=stopwords,\n",
    "    height=200,\n",
    "    width=400\n",
    ")\n",
    "\n",
    "wc.generate(text)\n",
    "\n",
    "#store to file \n",
    "wc.to_file('wordcloud_output_jobs.png')"
   ]
  },
  {
   "cell_type": "code",
   "execution_count": 91,
   "id": "e2c86c5b",
   "metadata": {},
   "outputs": [
    {
     "data": {
      "text/plain": [
       "<wordcloud.wordcloud.WordCloud at 0x1b0dd1f9d80>"
      ]
     },
     "execution_count": 91,
     "metadata": {},
     "output_type": "execute_result"
    }
   ],
   "source": [
    "# Classes Wordcloud\n",
    "os.chdir(sys.path[0])\n",
    "\n",
    "# Read text\n",
    "text = df_courses['descriptions'].sum()\n",
    "stopwords = STOPWORDS\n",
    "additional = {'including', 'students', 'Covers', 'offers', 'opportunity'}\n",
    "stopwords = stopwords.update(additional)\n",
    "\n",
    "wc = WordCloud(\n",
    "    background_color='white',\n",
    "    stopwords=stopwords,\n",
    "    height=200,\n",
    "    width=400\n",
    ")\n",
    "\n",
    "wc.generate(text)\n",
    "\n",
    "#store to file\n",
    "wc.to_file('wordcloud_output_classes.png')"
   ]
  },
  {
   "cell_type": "markdown",
   "id": "b91f2f0a",
   "metadata": {},
   "source": [
    "# Document Normalization "
   ]
  },
  {
   "cell_type": "code",
   "execution_count": 53,
   "id": "3537152a",
   "metadata": {},
   "outputs": [],
   "source": [
    "from sklearn.feature_extraction.text import CountVectorizer\n",
    "from sklearn.metrics.pairwise import cosine_similarity\n",
    "import numpy as np\n",
    "corpus = df['job_description']\n",
    "count_vect = CountVectorizer()\n",
    "\n",
    "X_train_counts = count_vect.fit_transform(corpus)"
   ]
  },
  {
   "cell_type": "code",
   "execution_count": 54,
   "id": "964a50d0",
   "metadata": {},
   "outputs": [],
   "source": [
    "import nltk \n",
    "nltk.download('wordnet')\n",
    "nltk.download('omw-1.4')\n",
    "import re\n",
    "\n",
    "wpt = nltk.WordPunctTokenizer()\n",
    "stop_words = nltk.corpus.stopwords.words('english')\n",
    "\n",
    "stop_words.append(['make', 'etc', 'made', 'preferred', 'please'])\n",
    "lemmatizer = nltk.WordNetLemmatizer()\n",
    "\n",
    "#Function to pre-process the text information\n",
    "\n",
    "def normalize_document(doc):\n",
    "    \n",
    "    # lower case and remove special characters\\whitespaces\n",
    "    doc = re.sub(r'[^a-zA-Z\\s]', '', doc, re.I|re.A) #re.I (ignore case), re.A (ASCII-only matching)\n",
    "    doc = doc.lower()\n",
    "    doc = doc.strip()\n",
    "    \n",
    "    # tokenize document\n",
    "    tokens = wpt.tokenize(doc)\n",
    "    \n",
    "    # filter stopwords out of document\n",
    "    filtered_tokens = [token for token in tokens if token not in stop_words]\n",
    "    \n",
    "    # Lemmatise document from filtered tokens\n",
    "    lem_text = [lemmatizer.lemmatize(i) for i in filtered_tokens]\n",
    "    \n",
    "    # Remove words that are only one character.\n",
    "    lem_text = [token for token in lem_text if len(token) > 1]\n",
    "    \n",
    "    # Remove numbers, but not words that contain numbers.\n",
    "    lem_text = [token for token in lem_text if not token.isnumeric()]\n",
    "    \n",
    "    doc = ' '.join(lem_text)\n",
    "    return doc\n",
    "\n",
    "normalize_corpus = np.vectorize(normalize_document)\n",
    "\n",
    "norm_corpus = normalize_corpus(corpus)"
   ]
  },
  {
   "cell_type": "code",
   "execution_count": 55,
   "id": "775f6917",
   "metadata": {},
   "outputs": [],
   "source": [
    "from nltk.tokenize import word_tokenize\n",
    "import gensim.corpora as corpora\n",
    "nltk.download('punkt')\n",
    "\n",
    "#Tokenise the corpus\n",
    "tokenized_corp = [word_tokenize(i) for i in norm_corpus]\n",
    "\n",
    "# Create Dictionary\n",
    "id2word = corpora.Dictionary(tokenized_corp)\n",
    "\n",
    "#Remove words that don't feature 20 times and those that feature in over 50% of documents\n",
    "id2word.filter_extremes(no_below=1) #no_above\n",
    "\n",
    "texts = tokenized_corp\n",
    "\n",
    "# Term Document Frequency\n",
    "corpus = [id2word.doc2bow(text) for text in texts]"
   ]
  },
  {
   "cell_type": "code",
   "execution_count": null,
   "id": "9fef0133",
   "metadata": {},
   "outputs": [],
   "source": [
    "import gensim\n",
    "import gensim.corpora as corpora\n",
    "from gensim.corpora import Dictionary\n",
    "from gensim.models import CoherenceModel\n",
    "from gensim.models.ldamodel import LdaModel\n",
    "\n",
    "from pprint import pprint\n",
    "\n",
    "import pickle\n",
    "import re\n",
    "import pyLDAvis\n",
    "import pyLDAvis.gensim_models"
   ]
  },
  {
   "cell_type": "markdown",
   "id": "d0c28034",
   "metadata": {},
   "source": [
    "# Hyper Parameter Tuning"
   ]
  },
  {
   "cell_type": "code",
   "execution_count": 63,
   "id": "77aaf975",
   "metadata": {},
   "outputs": [
    {
     "ename": "AttributeError",
     "evalue": "module 'matplotlib' has no attribute 'plot'",
     "output_type": "error",
     "traceback": [
      "\u001b[1;31m---------------------------------------------------------------------------\u001b[0m",
      "\u001b[1;31mAttributeError\u001b[0m                            Traceback (most recent call last)",
      "Cell \u001b[1;32mIn [63], line 17\u001b[0m\n\u001b[0;32m     15\u001b[0m     num_topics\u001b[38;5;241m.\u001b[39mappend(n)\n\u001b[0;32m     16\u001b[0m     coherences\u001b[38;5;241m.\u001b[39mappend(coherence_lda)\n\u001b[1;32m---> 17\u001b[0m \u001b[43mplt\u001b[49m\u001b[38;5;241;43m.\u001b[39;49m\u001b[43mplot\u001b[49m(num_topics, coherences)\n\u001b[0;32m     18\u001b[0m plt\u001b[38;5;241m.\u001b[39mtitle(\u001b[38;5;124m'\u001b[39m\u001b[38;5;124mChoosing number of topics\u001b[39m\u001b[38;5;124m'\u001b[39m)\n\u001b[0;32m     19\u001b[0m plt\u001b[38;5;241m.\u001b[39mxlabel(\u001b[38;5;124m'\u001b[39m\u001b[38;5;124mn_topics\u001b[39m\u001b[38;5;124m'\u001b[39m)\n",
      "File \u001b[1;32m~\\AppData\\Local\\Packages\\PythonSoftwareFoundation.Python.3.10_qbz5n2kfra8p0\\LocalCache\\local-packages\\Python310\\site-packages\\matplotlib\\_api\\__init__.py:222\u001b[0m, in \u001b[0;36mcaching_module_getattr.<locals>.__getattr__\u001b[1;34m(name)\u001b[0m\n\u001b[0;32m    220\u001b[0m \u001b[38;5;28;01mif\u001b[39;00m name \u001b[38;5;129;01min\u001b[39;00m props:\n\u001b[0;32m    221\u001b[0m     \u001b[38;5;28;01mreturn\u001b[39;00m props[name]\u001b[38;5;241m.\u001b[39m\u001b[38;5;21m__get__\u001b[39m(instance)\n\u001b[1;32m--> 222\u001b[0m \u001b[38;5;28;01mraise\u001b[39;00m \u001b[38;5;167;01mAttributeError\u001b[39;00m(\n\u001b[0;32m    223\u001b[0m     \u001b[38;5;124mf\u001b[39m\u001b[38;5;124m\"\u001b[39m\u001b[38;5;124mmodule \u001b[39m\u001b[38;5;132;01m{\u001b[39;00m\u001b[38;5;28mcls\u001b[39m\u001b[38;5;241m.\u001b[39m\u001b[38;5;18m__module__\u001b[39m\u001b[38;5;132;01m!r}\u001b[39;00m\u001b[38;5;124m has no attribute \u001b[39m\u001b[38;5;132;01m{\u001b[39;00mname\u001b[38;5;132;01m!r}\u001b[39;00m\u001b[38;5;124m\"\u001b[39m)\n",
      "\u001b[1;31mAttributeError\u001b[0m: module 'matplotlib' has no attribute 'plot'"
     ]
    }
   ],
   "source": [
    "import seaborn as sns\n",
    "num_topics = []\n",
    "coherences = []\n",
    "sns.set()\n",
    "for n in range(1,11):\n",
    "    lda_model = gensim.models.LdaMulticore(corpus=corpus,\n",
    "                                       id2word=id2word,\n",
    "                                       num_topics=n, \n",
    "                                       random_state=123,\n",
    "                                       chunksize=100,\n",
    "                                       passes=10,\n",
    "                                       per_word_topics=True)\n",
    "    coherence_model_lda = CoherenceModel(model=lda_model, texts=tokenized_corp, dictionary=id2word, coherence='c_v')\n",
    "    coherence_lda = coherence_model_lda.get_coherence()\n",
    "    num_topics.append(n)\n",
    "    coherences.append(coherence_lda)"
   ]
  },
  {
   "cell_type": "code",
   "execution_count": 66,
   "id": "672cc9ce",
   "metadata": {},
   "outputs": [
    {
     "data": {
      "text/plain": [
       "Text(0, 0.5, 'Coherence score')"
      ]
     },
     "execution_count": 66,
     "metadata": {},
     "output_type": "execute_result"
    },
    {
     "data": {
      "image/png": "[encoded data removed]",
      "text/plain": [
       "<Figure size 640x480 with 1 Axes>"
      ]
     },
     "metadata": {},
     "output_type": "display_data"
    }
   ],
   "source": [
    "plt.plot(num_topics, coherences)\n",
    "plt.title('Choosing number of topics')\n",
    "plt.xlabel('n_topics')\n",
    "plt.ylabel('Coherence score')"
   ]
  },
  {
   "cell_type": "code",
   "execution_count": 69,
   "id": "e462f21e",
   "metadata": {},
   "outputs": [],
   "source": [
    "import seaborn as sns\n",
    "num_topics = []\n",
    "coherence_s = []\n",
    "sns.set()\n",
    "beta = np.arange(0,2,0.1)\n",
    "for b in beta:\n",
    "    lda_model = gensim.models.LdaMulticore(corpus=corpus,\n",
    "                                       id2word=id2word,\n",
    "                                       num_topics=5, \n",
    "                                       random_state=123,\n",
    "                                       chunksize=100,\n",
    "                                       passes=10,\n",
    "                                       per_word_topics=True,\n",
    "                                       eta = b)\n",
    "    coherence_model_lda = CoherenceModel(model=lda_model, texts=tokenized_corp, dictionary=id2word, coherence='c_v')\n",
    "    coherence_lda = coherence_model_lda.get_coherence()\n",
    "    coherence_s.append(coherence_lda)"
   ]
  },
  {
   "cell_type": "code",
   "execution_count": 70,
   "id": "65a1a064",
   "metadata": {},
   "outputs": [
    {
     "data": {
      "text/plain": [
       "Text(0, 0.5, 'Coherence score')"
      ]
     },
     "execution_count": 70,
     "metadata": {},
     "output_type": "execute_result"
    },
    {
     "data": {
      "image/png": "[encoded data removed]",
      "text/plain": [
       "<Figure size 640x480 with 1 Axes>"
      ]
     },
     "metadata": {},
     "output_type": "display_data"
    }
   ],
   "source": [
    "plt.plot(beta, coherence_s)\n",
    "plt.title('Choosing beta value')\n",
    "plt.xlabel('beta')\n",
    "plt.ylabel('Coherence score')"
   ]
  },
  {
   "cell_type": "markdown",
   "id": "ec0977eb",
   "metadata": {},
   "source": [
    "# Model"
   ]
  },
  {
   "cell_type": "code",
   "execution_count": 56,
   "id": "da2b7226",
   "metadata": {},
   "outputs": [],
   "source": [
    "import gensim\n",
    "lda_model_jobs = gensim.models.LdaMulticore(corpus=corpus,\n",
    "                                       id2word=id2word,\n",
    "                                       num_topics=5, \n",
    "                                       random_state=123,\n",
    "                                       chunksize=100,\n",
    "                                       passes=10,\n",
    "                                       per_word_topics=True,\n",
    "                                       eta = 1.2)"
   ]
  },
  {
   "cell_type": "code",
   "execution_count": 57,
   "id": "347eb1a0",
   "metadata": {},
   "outputs": [
    {
     "name": "stdout",
     "output_type": "stream",
     "text": [
      "[(0,\n",
      "  '0.009*\"customer\" + 0.006*\"help\" + 0.006*\"insight\" + 0.006*\"people\" + '\n",
      "  '0.005*\"build\" + 0.005*\"role\" + 0.004*\"building\" + 0.004*\"research\" + '\n",
      "  '0.004*\"deep\" + 0.004*\"algorithm\"'),\n",
      " (1,\n",
      "  '0.019*\"aws\" + 0.010*\"client\" + 0.009*\"big\" + 0.009*\"please\" + '\n",
      "  '0.008*\"service\" + 0.008*\"candidate\" + 0.008*\"azure\" + 0.007*\"role\" + '\n",
      "  '0.007*\"cloud\" + 0.007*\"customer\"'),\n",
      " (2,\n",
      "  '0.015*\"client\" + 0.007*\"service\" + 0.007*\"system\" + 0.006*\"security\" + '\n",
      "  '0.006*\"world\" + 0.005*\"career\" + 0.005*\"professional\" + 0.005*\"industry\" + '\n",
      "  '0.004*\"location\" + 0.004*\"challenge\"'),\n",
      " (3,\n",
      "  '0.012*\"--\" + 0.011*\"set\" + 0.010*\"ibm\" + 0.009*\"algorithm\" + 0.008*\"etc\" + '\n",
      "  '0.007*\"customer\" + 0.007*\"drive\" + 0.007*\"insight\" + 0.006*\"qualification\" '\n",
      "  '+ 0.006*\"large\"'),\n",
      " (4,\n",
      "  '0.009*\"use\" + 0.008*\"training\" + 0.007*\"intelligence\" + 0.007*\"youll\" + '\n",
      "  '0.007*\"research\" + 0.007*\"set\" + 0.006*\"kpmg\" + 0.006*\"professional\" + '\n",
      "  '0.006*\"unstructured\" + 0.006*\"access\"'),\n",
      " (5,\n",
      "  '0.018*\"clinical\" + 0.017*\"health\" + 0.013*\"research\" + 0.012*\"healthcare\" + '\n",
      "  '0.009*\"patient\" + 0.008*\"care\" + 0.006*\"medical\" + 0.006*\"study\" + '\n",
      "  '0.005*\"method\" + 0.004*\"scientific\"'),\n",
      " (6,\n",
      "  '0.024*\"status\" + 0.016*\"disability\" + 0.016*\"employment\" + 0.014*\"gender\" + '\n",
      "  '0.013*\"protected\" + 0.013*\"veteran\" + 0.012*\"applicant\" + 0.012*\"national\" '\n",
      "  '+ 0.012*\"race\" + 0.012*\"religion\"'),\n",
      " (7,\n",
      "  '0.009*\"management\" + 0.008*\"advanced\" + 0.007*\"process\" + 0.007*\"support\" + '\n",
      "  '0.007*\"analytical\" + 0.007*\"modeling\" + 0.006*\"complex\" + 0.006*\"required\" '\n",
      "  '+ 0.006*\"predictive\" + 0.005*\"insight\"'),\n",
      " (8,\n",
      "  '0.011*\"position\" + 0.010*\"research\" + 0.009*\"required\" + 0.008*\"must\" + '\n",
      "  '0.007*\"requirement\" + 0.007*\"may\" + 0.007*\"software\" + 0.007*\"application\" '\n",
      "  '+ 0.006*\"system\" + 0.006*\"education\"'),\n",
      " (9,\n",
      "  '0.013*\"today\" + 0.010*\"build\" + 0.009*\"please\" + 0.008*\"code\" + '\n",
      "  '0.007*\"industry\" + 0.007*\"algorithm\" + 0.007*\"level\" + 0.007*\"location\" + '\n",
      "  '0.007*\"big\" + 0.007*\"predictive\"')]\n"
     ]
    }
   ],
   "source": [
    "from pprint import pprint\n",
    "# Print the Keyword in the 10 topics\n",
    "pprint(lda_model.print_topics())\n",
    "doc_lda = lda_model[corpus]"
   ]
  },
  {
   "cell_type": "markdown",
   "id": "cd6b1a70",
   "metadata": {},
   "source": [
    "# Visualization of topics"
   ]
  },
  {
   "cell_type": "code",
   "execution_count": 72,
   "id": "cbb14ffb",
   "metadata": {},
   "outputs": [
    {
     "data": {
      "text/html": [
       "\n",
       "<link rel=\"stylesheet\" type=\"text/css\" href=\"https://cdn.jsdelivr.net/gh/bmabey/pyLDAvis@3.3.1/pyLDAvis/js/ldavis.v1.0.0.css\">\n",
       "\n",
       "\n",
       "<div id=\"ldavis_el130418592499215368743987870\"></div>\n",
       "<script type=\"text/javascript\">\n",
       "\n",
       "var ldavis_el130418592499215368743987870_data = {\"mdsDat\": {\"x\": [-0.08915521766065211, -0.08775236186868601, -0.003976664268575515, 0.0815080588427912, 0.09937618495512238], \"y\": [-0.038874703265067666, -0.013754315866276817, 0.10462882950432234, -0.05097121886421105, -0.001028591508766844], \"topics\": [1, 2, 3, 4, 5], \"cluster\": [1, 1, 1, 1, 1], \"Freq\": [51.35015096951613, 35.86889878511752, 5.740914306261655, 4.478422369361988, 2.5616135697427156]}, \"tinfo\": {\"Term\": [\"build\", \"research\", \"status\", \"big\", \"world\", \"aws\", \"customer\", \"please\", \"use\", \"looking\", \"set\", \"make\", \"professional\", \"platform\", \"algorithm\", \"hadoop\", \"youll\", \"role\", \"employment\", \"predictive\", \"national\", \"training\", \"people\", \"candidate\", \"user\", \"client\", \"clinical\", \"applicant\", \"intelligence\", \"process\", \"verizon\", \"comcast\", \"walmart\", \"chase\", \"shopping\", \"zillow\", \"&\", \"starbucks\", \"cisco\", \"merchandising\", \"iqvia\", \"spotify\", \"equifax\", \"facebooks\", \"jpmorgan\", \"ccb\", \"nike\", \"closer\", \"tv\", \"wework\", \"siri\", \"batch\", \"mortgage\", \"estate\", \"van\", \"universal\", \"pace\", \"offline\", \"elasticity\", \"apple\", \"marketing\", \"retailer\", \"sale\", \"ambiguity\", \"fargo\", \"ethic\", \"insight\", \"consumer\", \"segmentation\", \"ab\", \"drive\", \"brand\", \"pricing\", \"customer\", \"quantitative\", \"forecasting\", \"analytical\", \"recommendation\", \"accuracy\", \"key\", \"decision\", \"building\", \"define\", \"large\", \"stakeholder\", \"optimization\", \"economics\", \"partner\", \"modeling\", \"strategy\", \"build\", \"etc\", \"way\", \"across\", \"understand\", \"help\", \"algorithm\", \"result\", \"people\", \"lead\", \"advanced\", \"predictive\", \"role\", \"understanding\", \"design\", \"complex\", \"set\", \"management\", \"identify\", \"process\", \"source\", \"support\", \"research\", \"technical\", \"system\", \"service\", \"preferred\", \"language\", \"*\", \"icf\", \"ibmers\", \"nsa\", \"unitedhealth\", \"pfizer\", \"accenture\", \"northrop\", \"conduent\", \"grumman\", \"announcement\", \"saic\", \"creed\", \"leidos\", \"defense\", \"aerospace\", \"ibms\", \"appointment\", \"directorate\", \"verification\", \"questionnaire\", \"cummins\", \"ibm\", \"battelle\", \"nau\", \"delaware\", \"transcript\", \"cgi\", \"eliassen\", \"nato\", \"citizenship\", \"everify\", \"regard\", \"receive\", \"marital\", \"employment\", \"protected\", \"deloitte\", \"law\", \"applicant\", \"consideration\", \"status\", \"national\", \"origin\", \"qualified\", \"eligibility\", \"religion\", \"race\", \"sex\", \"color\", \"cyber\", \"age\", \"veteran\", \"genetic\", \"disability\", \"security\", \"without\", \"government\", \"clearance\", \"gender\", \"identity\", \"federal\", \"sexual\", \"orientation\", \"required\", \"equal\", \"position\", \"must\", \"may\", \"please\", \"application\", \"employee\", \"employer\", \"system\", \"requirement\", \"service\", \"research\", \"support\", \"client\", \"technical\", \"software\", \"qualification\", \"management\", \"process\", \"provide\", \"level\", \"advanced\", \"kpmg\", \"booz\", \"lighthouse\", \"allen\", \"dli\", \"bowlthe\", \"peopleno\", \"characteristicto\", \"refactor\", \"fearlessly\", \"fascinated\", \"kpmgs\", \"representationvisualizations\", \"allstate\", \"platformdiverse\", \"eighty\", \"lockheed\", \"martin\", \"biomarker\", \"cancer\", \"bootcamps\", \"nonpartisan\", \"retrievalextraction\", \"genomic\", \"celonis\", \"oncology\", \"restructure\", \"datarich\", \"businessfirst\", \"sequencing\", \"molecular\", \"puzzle\", \"nvidia\", \"attached\", \"medicine\", \"collegeuniversity\", \"hortonworks\", \"capture\", \"institute\", \"geared\", \"clinical\", \"ssrs\", \"unlocking\", \"increasingly\", \"training\", \"onsite\", \"access\", \"public\", \"certification\", \"research\", \"disease\", \"youll\", \"use\", \"structured\", \"unstructured\", \"turn\", \"intelligence\", \"answer\", \"federal\", \"processing\", \"firm\", \"artificial\", \"professional\", \"set\", \"method\", \"world\", \"change\", \"process\", \"technical\", \"state\", \"approach\", \"build\", \"modeling\", \"advanced\", \"client\", \"language\", \"visualization\", \"source\", \"andor\", \"frank\", \"jefferson\", \"textio\", \"textios\", \"crisis\", \"asiapacific\", \"adt\", \"bull\", \"tpg\", \"nigel\", \"tacoma\", \"ubers\", \"wwwjeffersonfrankcom\", \"im\", \"deserve\", \"monster\", \"wellfunded\", \"ibkr\", \"inoffice\", \"httpstextiocomcareers\", \"servicing\", \"uber\", \"convoy\", \"unrivalled\", \"upmost\", \"kk\", \"freshly\", \"iceberg\", \"wwwnigelfrankcom\", \"stabilization\", \"ext\", \"bird\", \"catered\", \"lunch\", \"placing\", \"equity\", \"aws\", \"contacted\", \"happy\", \"backed\", \"planet\", \"recruitment\", \"send\", \"simply\", \"migration\", \"please\", \"azure\", \"worked\", \"north\", \"startup\", \"call\", \"looking\", \"america\", \"find\", \"want\", \"contract\", \"ca\", \"market\", \"big\", \"candidate\", \"resume\", \"great\", \"role\", \"amazon\", \"get\", \"professional\", \"one\", \"time\", \"customer\", \"cloud\", \"organization\", \"industry\", \"client\", \"service\", \"benefit\", \"full\", \"code\", \"best\", \"position\", \"career\", \"location\", \"apply\", \"people\", \"--\", \"taboola\", \"eventbrite\", \"newsroom\", \"carmax\", \"aetna\", \"fox\", \"nbc\", \"taboolas\", \"specialinterest\", \"statisticsbased\", \"litc\", \"hyperintelligent\", \"decided\", \"readership\", \"riot\", \"editorial\", \"salesforceorg\", \"stubhub\", \"organizer\", \"loaded\", \"tribune\", \"cognizant\", \"zendesk\", \"notebookslabs\", \"selftest\", \"associationrule\", \"netsuite\", \"editor\", \"legend\", \"marathon\", \"populate\", \"lyft\", \"pl\", \"javascala\", \"reached\", \"ticket\", \"writer\", \"google\", \"petabyte\", \"visitor\", \"publisher\", \"game\", \"build\", \"sport\", \"conversion\", \"hadoop\", \"big\", \"world\", \"status\", \"content\", \"make\", \"platform\", \"user\", \"chance\", \"production\", \"algorithm\", \"predictive\", \"web\", \"customer\", \"read\", \"equal\", \"design\", \"employer\", \"today\", \"people\", \"system\", \"recommendation\", \"set\", \"support\", \"help\", \"complex\", \"employment\"], \"Freq\": [7069.0, 10225.0, 6449.0, 5112.0, 5442.0, 2368.0, 10781.0, 3446.0, 6195.0, 3860.0, 5957.0, 4780.0, 4618.0, 4242.0, 8039.0, 2784.0, 3300.0, 6607.0, 5188.0, 6580.0, 4243.0, 2622.0, 6474.0, 4964.0, 2702.0, 7939.0, 1952.0, 4336.0, 4534.0, 8647.0, 276.98692990104007, 221.3681439971277, 373.18326740728406, 144.16571481423694, 284.79077348186536, 116.42486995173365, 123.44991621493585, 119.50445778152695, 160.61430975560953, 142.71649987213203, 112.23553046634727, 113.24128818399038, 107.60244202112051, 114.80933667030217, 85.69547814657821, 78.54543786042483, 80.98292098422718, 148.0255586385462, 175.92057592411464, 86.65252578051164, 76.37634156040042, 135.65330434592462, 119.42398743960288, 186.9684974656874, 78.09605354552163, 88.80310174625274, 168.2763504934213, 154.34755181291646, 85.88461019250947, 280.6361310575044, 3017.6839941384637, 264.13571418838393, 1560.3428603084335, 243.00720727352305, 189.39690275695966, 227.59714165732035, 6891.3105646732, 1461.5271864301515, 485.72804709943523, 504.5958965657054, 4269.610591495908, 906.0134695038425, 483.28540512168837, 7998.166727184878, 4164.935315293787, 1150.203994370923, 5630.581182900633, 2429.8146454371745, 726.7202964602048, 3305.518053844515, 4558.648001291513, 3781.3902685063176, 1150.7975786212005, 4719.061071982979, 2812.3940870196056, 2558.121420857218, 1502.0172563169606, 3256.3129535444596, 6336.486198997442, 2822.5430551656323, 4936.560299185524, 4697.284698588401, 2321.536165023278, 4292.059434387132, 2721.166022459548, 4773.966759376524, 5380.50219335626, 3968.0424081274764, 4361.4277281323875, 2918.8757886858734, 5703.393354442913, 4388.803553689216, 4390.653856154301, 3758.5235049607704, 4908.414914598062, 4775.252884517492, 3911.7681317259526, 4853.025646640988, 3159.0395095714853, 4845.443016273225, 3624.156880053033, 4776.2816601565055, 5225.038821791876, 4711.496179126234, 4709.53260553816, 4340.3773479519095, 3866.3056462505815, 3836.138185407128, 621.689669822416, 281.52943566429565, 174.69210702848292, 165.45471828646527, 193.05763029084613, 182.81630366358502, 248.2298031298638, 173.9085116228839, 206.37697249154564, 170.79912723598605, 159.1802763218697, 145.61286372975843, 384.02133454509357, 145.8823991386089, 549.6922517477103, 278.16046042093035, 112.1258198563603, 159.13693872337006, 110.98659122670973, 444.2741004009472, 112.44232697267547, 124.88872902905091, 830.5846654704235, 86.37643248599178, 90.09085186285229, 135.17782211284015, 187.46254254273117, 234.9223074451178, 82.67417209052853, 87.6615213433199, 984.1465957468016, 200.92329573489863, 2066.452118480773, 1619.9761691960546, 1025.7766656946499, 4430.729560643493, 3053.3218913260253, 295.11320514311336, 2431.477619036234, 3667.072276128755, 1665.219643876988, 5329.206282992569, 3526.1400360624075, 2513.0296869619738, 2445.0452489956106, 986.5494821799767, 2492.935387497643, 2521.3300733509764, 1982.785719166414, 2451.1654417146374, 620.3603059702571, 1953.6304652521392, 3144.150759396054, 857.6737891871372, 3657.463773537768, 2678.4942139462814, 2276.383684274713, 1268.6274169671015, 1398.8286698849588, 2759.540250878631, 2290.121078068212, 1629.492182015699, 2123.2084503631286, 2110.4639902370723, 5151.145540357073, 2853.171417731644, 4731.113297036866, 3151.9775025141817, 2488.803670520684, 2320.109935444536, 3686.1327768797855, 3133.6951765725744, 2717.348612601133, 4108.083503682664, 3429.206625716446, 3854.370692800805, 3864.749979714199, 3555.722634020069, 3381.6566669844547, 3387.987488583462, 3009.6462867289933, 3076.8318999957396, 3185.7735475405184, 3032.230962950743, 2602.0152806230903, 2578.4628853366617, 2620.7345147677534, 478.86405450800856, 194.31135723480458, 177.68196308003567, 194.4615292149361, 95.75957322328826, 95.7435349323487, 96.80261008030861, 96.146623106749, 86.11799458996116, 98.49620663673116, 95.47756370841599, 64.64466257658961, 60.41855117012721, 102.30664015830789, 58.89527447939016, 58.89060824127244, 103.26533682701968, 99.65105055992728, 49.3556355363869, 210.02869100937465, 56.553557887669854, 69.61829837146708, 37.711462319408426, 142.75947170971483, 48.96535451134045, 78.25417005271561, 47.63128442640563, 94.5350705841838, 37.710562122492895, 48.92546752530528, 72.80980085145167, 90.39820043812563, 98.77390216445266, 68.97496634005338, 158.99966768500235, 134.0961766383728, 96.84705458502725, 292.3358085024674, 183.69338240887086, 95.99391144063355, 638.3574475853512, 121.97930871641411, 100.26763761051713, 107.28338098022734, 621.1440822102654, 209.23759622049226, 506.7427441970297, 368.56705778610547, 314.18194380463643, 1052.2739384754136, 182.84305727221272, 535.0584338263803, 711.1259220054583, 398.06596276221234, 408.0873549134569, 203.57409647634498, 521.6978416693429, 290.97926828486317, 359.4994046973712, 453.2094339365245, 285.21280688771014, 332.6320666734546, 480.7229654873641, 524.3467341505742, 526.0368429875462, 481.4352952205259, 340.22336203049383, 505.7913012889706, 479.6104090753112, 362.76578877488515, 371.4771552312722, 435.7765770700337, 459.2120687350728, 442.5742727424256, 411.19453894901983, 371.05807225370603, 353.8851679032682, 352.6891149657165, 341.72831732217224, 284.0742561065063, 211.4780551115426, 189.78641017087097, 118.021694278326, 81.875920766029, 62.77523225551612, 63.80731186673137, 78.12616381679798, 76.1079042003884, 34.54925426701143, 61.99031167580565, 46.69391346018426, 34.165556629214734, 41.02470487125949, 66.00504470981726, 46.746092457982314, 28.743395121536153, 29.271013297827395, 25.12238266589691, 24.33700919650397, 76.53883806244491, 60.35012504480676, 34.38107783915624, 58.05466301840598, 23.304205301039982, 31.15533291091712, 20.521191417410048, 20.022687093215733, 20.066773444290735, 20.02186103600464, 56.24513974778108, 30.293858708925207, 85.23985641498223, 144.87337767727357, 43.52916446071499, 171.13084267336652, 902.4904427451382, 79.26571567625733, 133.9924096106054, 111.6515210187673, 100.72810005706988, 249.29379402362278, 174.9048012330449, 70.49273026960857, 71.09236299406035, 557.129512869938, 276.2680256389709, 125.55465755708116, 204.3602848100001, 186.00188079283623, 187.7033890260845, 432.35523681844643, 200.2266877408251, 282.3346440761533, 259.99588593166044, 183.99559646166344, 184.9331832697666, 282.515691391314, 394.80812424806317, 354.104367198446, 202.1626808793332, 234.212099441812, 381.38068810551255, 188.83984020262417, 217.64081507382718, 314.05605516583466, 322.3778267514621, 332.4482478064995, 360.71380190763097, 254.47724026323976, 285.62142224991516, 291.3883125281057, 295.6470903409741, 297.8163471091938, 249.52833320779587, 226.28313078167966, 246.46643257164783, 250.9012911791141, 269.0595688431083, 242.51590470715223, 241.80509519862676, 235.49736982876746, 238.19739295024715, 524.7335622356499, 215.63068473592998, 81.81152765854347, 96.99879875239453, 47.81946220959093, 97.3795592191134, 52.07170655584969, 47.573763975450646, 43.79133842914487, 43.780324504196365, 43.77768162791379, 43.78451973071833, 43.772461850233825, 44.370757036874764, 44.40832391266813, 25.89996829971938, 47.044012813630204, 26.213546928952823, 20.09661559425685, 25.60511295481084, 44.05847462009121, 43.79374457201593, 49.800435754461255, 14.159372680646477, 14.156993703904604, 14.1564862794201, 14.155057146980958, 14.155162900841017, 43.78624672035966, 16.17073251123406, 24.011800073473506, 44.12236935594472, 19.690868109997105, 62.7153649252587, 45.802571161056605, 43.804273387514634, 48.55146132235099, 46.136097490866284, 256.27582448350967, 61.06374576892968, 52.787211947316166, 52.92688854098136, 98.45186843222929, 370.2630397420184, 72.56045164189119, 82.89517679015813, 220.7874214726748, 249.94681493998308, 255.63166122817017, 242.95372548754563, 113.77026655080208, 196.06394643195054, 187.60477084292097, 157.94775598287214, 95.0897417132398, 131.841230019861, 179.28668836715005, 164.58798070239266, 103.03908667489597, 177.18758484993734, 111.02740338931216, 134.89338344304807, 154.03797562292635, 131.2629485086815, 112.01532684341451, 140.58223479485278, 146.37633549288853, 117.36790808636144, 120.10752683585103, 118.19419307178676, 114.28445152059697, 109.05694313643814, 107.37436623545997], \"Total\": [7069.0, 10225.0, 6449.0, 5112.0, 5442.0, 2368.0, 10781.0, 3446.0, 6195.0, 3860.0, 5957.0, 4780.0, 4618.0, 4242.0, 8039.0, 2784.0, 3300.0, 6607.0, 5188.0, 6580.0, 4243.0, 2622.0, 6474.0, 4964.0, 2702.0, 7939.0, 1952.0, 4336.0, 4534.0, 8647.0, 284.4599035305118, 227.4567559037254, 385.20128743442166, 150.15582035422244, 297.7333429128951, 121.84751279047653, 129.342658373205, 125.41821778409015, 168.8446585644661, 150.44593690814168, 118.3686462710945, 119.49292195550346, 113.62683003295585, 121.4623327637431, 90.87560205776384, 83.58335685641977, 86.36134459227935, 157.89270686726582, 187.65185801850166, 92.44000398957704, 81.76825842417301, 145.3646782090183, 127.98425878916743, 200.6864954322266, 83.83841851323635, 95.59367475556346, 181.166252715117, 166.30983450563377, 92.61848338107674, 303.2300811791364, 3278.1750616627396, 286.6187956323558, 1733.0430888305193, 264.25583833084687, 206.09772723124112, 250.28009789034, 8616.741426487572, 1714.0900907173625, 549.1244717487195, 574.5781770550744, 5446.615731852711, 1066.590791772963, 551.2403778780488, 10781.093209646111, 5432.146013279545, 1382.3848184697515, 7550.814376621843, 3094.61409622548, 857.2203782200165, 4297.644364588834, 6072.793350194125, 5069.808480403031, 1411.937677216203, 6509.665023889551, 3708.9408295119088, 3362.450268564876, 1887.0755162552825, 4394.721573357851, 9153.542801141735, 3810.9821871142794, 7069.372232810744, 6758.923779231586, 3096.461143138398, 6146.04407156967, 3732.0554715936996, 7022.88994018733, 8039.604468140626, 5777.199657706449, 6474.322963112823, 4089.3459235427276, 8940.474073357005, 6580.585995347013, 6607.864612976609, 5534.7431502241125, 7690.552199168427, 7511.725138714464, 5957.617222946717, 8400.514587959164, 4558.153667238403, 8647.28896534081, 5607.383278821979, 8769.307419977478, 10225.501314371377, 8790.867807614646, 9241.29950987166, 8713.484311456994, 6688.1454517410475, 6389.2813053520185, 633.5162702354356, 287.853948995101, 180.2934144424737, 170.90243880003484, 199.4739224319657, 189.11814496853358, 256.92548848031623, 180.43836041131874, 214.15910419647324, 177.27693891176582, 165.48908345699056, 151.73495467665467, 400.9353912938782, 152.3462656828014, 575.0470007056856, 291.7434201381179, 117.64431330459367, 167.6617811596583, 117.03569009793867, 468.8140392664104, 118.8649463578301, 132.3616586755073, 881.5238363115145, 91.73454559743956, 95.70575406147523, 143.79288448129768, 199.51673693589578, 250.22948493398252, 88.10351260036946, 93.44821738445042, 1050.2692748313732, 214.54561395354, 2287.295754659108, 1786.6199793223404, 1144.6408309963224, 5188.864553390277, 3536.13362083125, 320.7215487424759, 2825.8451683410267, 4336.500821813853, 1915.826445655793, 6449.3394456130645, 4243.681312897066, 3001.403634513674, 2928.409674384474, 1130.3853254589064, 3007.1715653050646, 3052.758119582319, 2380.648561733526, 2993.508015229447, 696.2346057053594, 2392.069933595746, 4001.2650281651618, 993.4673965259624, 4828.60094269242, 3441.7663882522475, 2887.208695774164, 1525.117615561777, 1698.9446269325877, 3617.2261492968582, 2998.1203837166745, 2068.3224763050043, 2871.141539295129, 2910.6523939559684, 8883.357669517043, 4276.60975634938, 8203.711068121476, 5025.208409092941, 3700.6321480241063, 3446.3927601680602, 6762.044309976726, 5410.712092666244, 4339.948021101584, 9241.29950987166, 6943.870934101348, 8713.484311456994, 10225.501314371377, 8769.307419977478, 7939.211424771093, 8790.867807614646, 6581.328697486654, 7177.449332136842, 8400.514587959164, 8647.28896534081, 6126.822399575492, 5436.861739137398, 8940.474073357005, 489.66483816873347, 201.75374425234403, 185.2663154911982, 203.7173884796662, 102.25946530435928, 102.2711814690761, 103.8906366144463, 103.18858594002585, 93.21645284554594, 107.47719503083847, 104.34558383572163, 70.83948167516753, 66.24636108762894, 112.7028981272094, 64.95374891131709, 64.96270245196114, 115.08324879134605, 111.94472720959071, 56.31517985268515, 239.90329375527932, 64.72730683246051, 79.98914619336165, 43.50544485439079, 165.1822665515683, 56.750742524832766, 90.74734002832331, 55.91889585097124, 111.26889462506144, 44.466760978362615, 59.169311672705554, 88.21813536050286, 111.62764810809438, 125.51410014279246, 84.76366078760017, 233.13920685282557, 190.83768577507885, 128.60103915271873, 526.5456876190882, 295.801761340882, 128.2021122119934, 1952.2886773949656, 187.14376613883843, 139.94488504552714, 156.27978382290945, 2622.2933608353464, 472.83729497077377, 2092.202653274099, 1259.2182700943797, 1017.9039713386471, 10225.501314371377, 405.54330281101323, 3300.5810543123425, 6195.097221551654, 2042.2659247531324, 2235.9969812131762, 545.5221153653542, 4534.77738898824, 1240.9493728656194, 2068.3224763050043, 3575.9740994854997, 1225.183692329128, 1830.5583461772937, 4618.226665131369, 5957.617222946717, 6019.546270943123, 5442.562628798448, 2484.2311082444025, 8647.28896534081, 8790.867807614646, 3284.915777266057, 3583.6905892356244, 7069.372232810744, 9153.542801141735, 8940.474073357005, 7939.211424771093, 6389.2813053520185, 5475.63955517126, 5607.383278821979, 5354.703455128521, 294.1486746264046, 221.47406179882347, 199.56387161580557, 126.14227557402197, 88.35457907443177, 69.49650483389321, 71.03376397107793, 87.06626372551008, 85.36363043031035, 40.63680453573877, 73.02547330305104, 55.18697250329216, 40.60719462817679, 49.17982689173702, 80.03007346414095, 57.09647958178613, 35.641607217732016, 36.32599644289539, 31.209822683709625, 30.54994961524066, 96.0804651148774, 75.85223665805088, 43.226968462354165, 73.1946461049084, 29.44148217701553, 39.70632081729164, 26.433245204718336, 25.82343427861973, 25.880335413813214, 25.82379025749836, 73.98722649867143, 39.427735845151616, 116.77089232959787, 212.1333325263477, 58.96664820959204, 304.3315238754375, 2368.4474113284346, 129.87810577188242, 254.8672108126105, 205.40601707449218, 182.01472755686976, 618.6104802630609, 411.19654077745224, 116.20300026299262, 117.8749839116923, 3446.3927601680602, 1170.2287280725864, 319.5733566452751, 791.3217574892974, 680.4574290008871, 714.1792880187338, 3860.074590177209, 848.3754912962473, 1824.2044695889886, 1569.8199359069301, 757.6030828930864, 797.6203539607211, 2296.0775889023494, 5112.876302682799, 4964.415220031585, 1160.0397118697272, 1731.0061350414976, 6607.864612976609, 977.036619944779, 1469.3350322293184, 4618.226665131369, 5101.425786228489, 5757.164667132768, 10781.093209646111, 2951.366991932708, 4937.618154441017, 6077.703661369657, 7939.211424771093, 8713.484311456994, 3731.341724967696, 2103.184041347014, 3794.24402048634, 4327.970612797489, 8203.711068121476, 3615.8138903062386, 3924.932676499052, 4647.113547251756, 6474.322963112823, 539.3260092015042, 235.78218987885649, 91.42294323609487, 109.19832983638081, 55.1224687467354, 114.1250292319626, 61.87305122769706, 56.859507535692195, 52.512493461134625, 52.52504680159156, 52.54838514494446, 52.56299814658632, 52.5561430799817, 53.99517861273781, 55.59638483951383, 32.55031828899995, 61.77018452907411, 34.650969046467296, 26.65205641795102, 34.18771315689034, 59.759177302742124, 60.952159493655564, 69.34228800363589, 20.371966588105757, 20.37176860823216, 20.37337744053997, 20.37512061903667, 20.375913342148653, 63.74122948163996, 23.644220303029456, 35.34874838060841, 67.95782183273079, 29.26436838309352, 108.4877486678719, 77.08448732992909, 75.18046725607589, 85.52596506095568, 83.19736454328174, 907.2220350206687, 131.54498006934176, 106.63556741659852, 119.61503954303325, 384.41615504185523, 7069.372232810744, 220.50787955418326, 295.04062618619673, 2784.8476664491104, 5112.876302682799, 5442.562628798448, 6449.3394456130645, 905.2748547249165, 4780.132954174352, 4242.579623467338, 2702.977488055314, 580.0757621903726, 2226.431277963755, 8039.604468140626, 6580.585995347013, 1309.326389534353, 10781.093209646111, 1876.8961401489876, 4276.60975634938, 7690.552199168427, 4339.948021101584, 2123.8126966703594, 6474.322963112823, 9241.29950987166, 3094.61409622548, 5957.617222946717, 8769.307419977478, 7022.88994018733, 7511.725138714464, 5188.864553390277], \"Category\": [\"Default\", \"Default\", \"Default\", \"Default\", \"Default\", \"Default\", \"Default\", \"Default\", \"Default\", \"Default\", \"Default\", \"Default\", \"Default\", \"Default\", \"Default\", \"Default\", \"Default\", \"Default\", \"Default\", \"Default\", \"Default\", \"Default\", \"Default\", \"Default\", \"Default\", \"Default\", \"Default\", \"Default\", \"Default\", \"Default\", \"Topic1\", \"Topic1\", \"Topic1\", \"Topic1\", \"Topic1\", \"Topic1\", \"Topic1\", \"Topic1\", \"Topic1\", \"Topic1\", \"Topic1\", \"Topic1\", \"Topic1\", \"Topic1\", \"Topic1\", \"Topic1\", \"Topic1\", \"Topic1\", \"Topic1\", \"Topic1\", \"Topic1\", \"Topic1\", \"Topic1\", \"Topic1\", \"Topic1\", \"Topic1\", \"Topic1\", \"Topic1\", \"Topic1\", \"Topic1\", \"Topic1\", \"Topic1\", \"Topic1\", \"Topic1\", \"Topic1\", \"Topic1\", \"Topic1\", \"Topic1\", \"Topic1\", \"Topic1\", \"Topic1\", \"Topic1\", \"Topic1\", \"Topic1\", \"Topic1\", \"Topic1\", \"Topic1\", \"Topic1\", \"Topic1\", \"Topic1\", \"Topic1\", \"Topic1\", \"Topic1\", \"Topic1\", \"Topic1\", \"Topic1\", \"Topic1\", \"Topic1\", \"Topic1\", \"Topic1\", \"Topic1\", \"Topic1\", \"Topic1\", \"Topic1\", \"Topic1\", \"Topic1\", \"Topic1\", \"Topic1\", \"Topic1\", \"Topic1\", \"Topic1\", \"Topic1\", \"Topic1\", \"Topic1\", \"Topic1\", \"Topic1\", \"Topic1\", \"Topic1\", \"Topic1\", \"Topic1\", \"Topic1\", \"Topic1\", \"Topic1\", \"Topic1\", \"Topic1\", \"Topic1\", \"Topic1\", \"Topic1\", \"Topic2\", \"Topic2\", \"Topic2\", \"Topic2\", \"Topic2\", \"Topic2\", \"Topic2\", \"Topic2\", \"Topic2\", \"Topic2\", \"Topic2\", \"Topic2\", \"Topic2\", \"Topic2\", \"Topic2\", \"Topic2\", \"Topic2\", \"Topic2\", \"Topic2\", \"Topic2\", \"Topic2\", \"Topic2\", \"Topic2\", \"Topic2\", \"Topic2\", \"Topic2\", \"Topic2\", \"Topic2\", \"Topic2\", \"Topic2\", \"Topic2\", \"Topic2\", \"Topic2\", \"Topic2\", \"Topic2\", \"Topic2\", \"Topic2\", \"Topic2\", \"Topic2\", \"Topic2\", \"Topic2\", \"Topic2\", \"Topic2\", \"Topic2\", \"Topic2\", \"Topic2\", \"Topic2\", \"Topic2\", \"Topic2\", \"Topic2\", \"Topic2\", \"Topic2\", \"Topic2\", \"Topic2\", \"Topic2\", \"Topic2\", \"Topic2\", \"Topic2\", \"Topic2\", \"Topic2\", \"Topic2\", \"Topic2\", \"Topic2\", \"Topic2\", \"Topic2\", \"Topic2\", \"Topic2\", \"Topic2\", \"Topic2\", \"Topic2\", \"Topic2\", \"Topic2\", \"Topic2\", \"Topic2\", \"Topic2\", \"Topic2\", \"Topic2\", \"Topic2\", \"Topic2\", \"Topic2\", \"Topic2\", \"Topic2\", \"Topic2\", \"Topic2\", \"Topic2\", \"Topic2\", \"Topic2\", \"Topic3\", \"Topic3\", \"Topic3\", \"Topic3\", \"Topic3\", \"Topic3\", \"Topic3\", \"Topic3\", \"Topic3\", \"Topic3\", \"Topic3\", \"Topic3\", \"Topic3\", \"Topic3\", \"Topic3\", \"Topic3\", \"Topic3\", \"Topic3\", \"Topic3\", \"Topic3\", \"Topic3\", \"Topic3\", \"Topic3\", \"Topic3\", \"Topic3\", \"Topic3\", \"Topic3\", \"Topic3\", \"Topic3\", \"Topic3\", \"Topic3\", \"Topic3\", \"Topic3\", \"Topic3\", \"Topic3\", \"Topic3\", \"Topic3\", \"Topic3\", \"Topic3\", \"Topic3\", \"Topic3\", \"Topic3\", \"Topic3\", \"Topic3\", \"Topic3\", \"Topic3\", \"Topic3\", \"Topic3\", \"Topic3\", \"Topic3\", \"Topic3\", \"Topic3\", \"Topic3\", \"Topic3\", \"Topic3\", \"Topic3\", \"Topic3\", \"Topic3\", \"Topic3\", \"Topic3\", \"Topic3\", \"Topic3\", \"Topic3\", \"Topic3\", \"Topic3\", \"Topic3\", \"Topic3\", \"Topic3\", \"Topic3\", \"Topic3\", \"Topic3\", \"Topic3\", \"Topic3\", \"Topic3\", \"Topic3\", \"Topic3\", \"Topic3\", \"Topic3\", \"Topic3\", \"Topic4\", \"Topic4\", \"Topic4\", \"Topic4\", \"Topic4\", \"Topic4\", \"Topic4\", \"Topic4\", \"Topic4\", \"Topic4\", \"Topic4\", \"Topic4\", \"Topic4\", \"Topic4\", \"Topic4\", \"Topic4\", \"Topic4\", \"Topic4\", \"Topic4\", \"Topic4\", \"Topic4\", \"Topic4\", \"Topic4\", \"Topic4\", \"Topic4\", \"Topic4\", \"Topic4\", \"Topic4\", \"Topic4\", \"Topic4\", \"Topic4\", \"Topic4\", \"Topic4\", \"Topic4\", \"Topic4\", \"Topic4\", \"Topic4\", \"Topic4\", \"Topic4\", \"Topic4\", \"Topic4\", \"Topic4\", \"Topic4\", \"Topic4\", \"Topic4\", \"Topic4\", \"Topic4\", \"Topic4\", \"Topic4\", \"Topic4\", \"Topic4\", \"Topic4\", \"Topic4\", \"Topic4\", \"Topic4\", \"Topic4\", \"Topic4\", \"Topic4\", \"Topic4\", \"Topic4\", \"Topic4\", \"Topic4\", \"Topic4\", \"Topic4\", \"Topic4\", \"Topic4\", \"Topic4\", \"Topic4\", \"Topic4\", \"Topic4\", \"Topic4\", \"Topic4\", \"Topic4\", \"Topic4\", \"Topic4\", \"Topic4\", \"Topic4\", \"Topic4\", \"Topic4\", \"Topic4\", \"Topic4\", \"Topic4\", \"Topic4\", \"Topic5\", \"Topic5\", \"Topic5\", \"Topic5\", \"Topic5\", \"Topic5\", \"Topic5\", \"Topic5\", \"Topic5\", \"Topic5\", \"Topic5\", \"Topic5\", \"Topic5\", \"Topic5\", \"Topic5\", \"Topic5\", \"Topic5\", \"Topic5\", \"Topic5\", \"Topic5\", \"Topic5\", \"Topic5\", \"Topic5\", \"Topic5\", \"Topic5\", \"Topic5\", \"Topic5\", \"Topic5\", \"Topic5\", \"Topic5\", \"Topic5\", \"Topic5\", \"Topic5\", \"Topic5\", \"Topic5\", \"Topic5\", \"Topic5\", \"Topic5\", \"Topic5\", \"Topic5\", \"Topic5\", \"Topic5\", \"Topic5\", \"Topic5\", \"Topic5\", \"Topic5\", \"Topic5\", \"Topic5\", \"Topic5\", \"Topic5\", \"Topic5\", \"Topic5\", \"Topic5\", \"Topic5\", \"Topic5\", \"Topic5\", \"Topic5\", \"Topic5\", \"Topic5\", \"Topic5\", \"Topic5\", \"Topic5\", \"Topic5\", \"Topic5\", \"Topic5\", \"Topic5\", \"Topic5\", \"Topic5\", \"Topic5\", \"Topic5\", \"Topic5\", \"Topic5\", \"Topic5\"], \"logprob\": [30.0, 29.0, 28.0, 27.0, 26.0, 25.0, 24.0, 23.0, 22.0, 21.0, 20.0, 19.0, 18.0, 17.0, 16.0, 15.0, 14.0, 13.0, 12.0, 11.0, 10.0, 9.0, 8.0, 7.0, 6.0, 5.0, 4.0, 3.0, 2.0, 1.0, -8.4816, -8.7058, -8.1835, -9.1346, -8.4538, -9.3483, -9.2897, -9.3222, -9.0266, -9.1447, -9.385, -9.3761, -9.4271, -9.3623, -9.6548, -9.7419, -9.7113, -9.1082, -8.9356, -9.6437, -9.7699, -9.1955, -9.3229, -8.8746, -9.7476, -9.6192, -8.98, -9.0664, -9.6526, -8.4685, -6.0933, -8.5291, -6.7529, -8.6125, -8.8617, -8.678, -5.2676, -6.8183, -7.9199, -7.8818, -5.7463, -7.2965, -7.925, -5.1186, -5.7711, -7.0579, -5.4696, -6.31, -7.517, -6.0022, -5.6808, -5.8677, -7.0574, -5.6462, -6.1638, -6.2586, -6.791, -6.0172, -5.3515, -6.1602, -5.6012, -5.6508, -6.3556, -5.7411, -6.1968, -5.6347, -5.515, -5.8196, -5.725, -6.1266, -5.4568, -5.7188, -5.7184, -5.8738, -5.6069, -5.6344, -5.8338, -5.6182, -6.0476, -5.6198, -5.9102, -5.6342, -5.5444, -5.6478, -5.6482, -5.7299, -5.8455, -5.8534, -7.3143, -8.1066, -8.5838, -8.6381, -8.4838, -8.5383, -8.2324, -8.5883, -8.4171, -8.6063, -8.6768, -8.7658, -7.7961, -8.764, -7.4374, -8.1186, -9.0272, -8.677, -9.0374, -7.6503, -9.0243, -8.9194, -7.0247, -9.2881, -9.246, -8.8402, -8.5132, -8.2875, -9.3319, -9.2733, -6.855, -8.4439, -6.1132, -6.3566, -6.8136, -5.3505, -5.7228, -8.0594, -5.9505, -5.5396, -6.3291, -5.1658, -5.5788, -5.9175, -5.945, -6.8526, -5.9256, -5.9142, -6.1545, -5.9425, -7.3165, -6.1693, -5.6935, -6.9926, -5.5423, -5.8538, -6.0164, -6.6011, -6.5034, -5.824, -6.0104, -6.3508, -6.0861, -6.0921, -5.1998, -5.7906, -5.2849, -5.691, -5.9272, -5.9974, -5.5345, -5.6968, -5.8394, -5.4261, -5.6067, -5.4898, -5.4871, -5.5705, -5.6207, -5.6188, -5.7372, -5.7151, -5.6803, -5.7297, -5.8827, -5.8918, -5.8756, -5.7431, -6.6451, -6.7345, -6.6443, -7.3527, -7.3529, -7.3419, -7.3487, -7.4588, -7.3245, -7.3556, -7.7456, -7.8132, -7.2866, -7.8388, -7.8389, -7.2772, -7.3129, -8.0155, -6.5673, -7.8793, -7.6715, -8.2846, -6.9534, -8.0234, -7.5546, -8.051, -7.3656, -8.2846, -8.0242, -7.6267, -7.4103, -7.3217, -7.6808, -6.8456, -7.016, -7.3414, -6.2366, -6.7013, -7.3503, -5.4556, -7.1107, -7.3067, -7.2391, -5.483, -6.5711, -5.6865, -6.0049, -6.1646, -4.9558, -6.7059, -5.6322, -5.3477, -5.9279, -5.9031, -6.5985, -5.6574, -6.2413, -6.0298, -5.7982, -6.2613, -6.1075, -5.7392, -5.6524, -5.6492, -5.7378, -6.0849, -5.6884, -5.7416, -6.0208, -5.997, -5.8374, -5.785, -5.8219, -5.8955, -5.9982, -6.0456, -6.0489, -6.0805, -6.017, -6.3121, -6.4203, -6.8953, -7.261, -7.5266, -7.5103, -7.3079, -7.334, -8.1238, -7.5392, -7.8226, -8.135, -7.952, -7.4765, -7.8215, -8.3078, -8.2896, -8.4424, -8.4742, -7.3284, -7.566, -8.1287, -7.6048, -8.5176, -8.2272, -8.6447, -8.6693, -8.6671, -8.6694, -7.6365, -8.2552, -7.2207, -6.6903, -7.8928, -6.5238, -4.861, -7.2934, -6.7684, -6.9508, -7.0538, -6.1476, -6.5019, -7.4107, -7.4022, -5.3434, -6.0448, -6.8334, -6.3463, -6.4404, -6.4313, -5.5969, -6.3667, -6.0231, -6.1055, -6.4513, -6.4462, -6.0225, -5.6878, -5.7966, -6.3571, -6.21, -5.7224, -6.4253, -6.2833, -5.9166, -5.8905, -5.8597, -5.7781, -6.127, -6.0115, -5.9915, -5.977, -5.9697, -6.1466, -6.2444, -6.159, -6.1411, -6.0713, -6.1751, -6.1781, -6.2045, -6.1931, -4.8447, -5.734, -6.7031, -6.5329, -7.2401, -6.5289, -7.1549, -7.2453, -7.3281, -7.3284, -7.3284, -7.3283, -7.3285, -7.315, -7.3141, -7.8533, -7.2565, -7.8413, -8.107, -7.8648, -7.322, -7.3281, -7.1995, -8.4572, -8.4573, -8.4574, -8.4575, -8.4575, -7.3282, -8.3244, -7.929, -7.3206, -8.1274, -6.9689, -7.2832, -7.3278, -7.2249, -7.276, -5.5613, -6.9956, -7.1413, -7.1386, -6.518, -5.1933, -6.8231, -6.69, -5.7104, -5.5863, -5.5638, -5.6147, -6.3734, -5.8291, -5.8732, -6.0453, -6.5527, -6.226, -5.9186, -6.0041, -6.4724, -5.9303, -6.3978, -6.2031, -6.0704, -6.2304, -6.3889, -6.1618, -6.1214, -6.3422, -6.3192, -6.3352, -6.3689, -6.4157, -6.4312], \"loglift\": [30.0, 29.0, 28.0, 27.0, 26.0, 25.0, 24.0, 23.0, 22.0, 21.0, 20.0, 19.0, 18.0, 17.0, 16.0, 15.0, 14.0, 13.0, 12.0, 11.0, 10.0, 9.0, 8.0, 7.0, 6.0, 5.0, 4.0, 3.0, 2.0, 1.0, 0.6399, 0.6394, 0.6348, 0.6258, 0.6221, 0.621, 0.6199, 0.6182, 0.6165, 0.6138, 0.6133, 0.6128, 0.612, 0.6102, 0.6078, 0.6043, 0.6022, 0.602, 0.6019, 0.6018, 0.5983, 0.5974, 0.5973, 0.5957, 0.5956, 0.5928, 0.5927, 0.5919, 0.591, 0.5891, 0.5837, 0.5848, 0.5615, 0.5827, 0.582, 0.5715, 0.4431, 0.5071, 0.5438, 0.5366, 0.423, 0.5033, 0.5349, 0.3679, 0.4009, 0.4826, 0.3731, 0.4247, 0.5013, 0.404, 0.3797, 0.3733, 0.462, 0.3448, 0.3898, 0.3931, 0.4383, 0.3667, 0.2987, 0.3663, 0.3074, 0.3026, 0.3785, 0.3075, 0.3506, 0.2805, 0.2649, 0.2909, 0.2715, 0.3293, 0.217, 0.2614, 0.2577, 0.2795, 0.2175, 0.2135, 0.2458, 0.1178, 0.2999, 0.0873, 0.23, 0.0589, -0.0049, 0.0428, -0.0076, -0.0304, 0.1185, 0.1563, 1.0065, 1.0031, 0.9937, 0.9929, 0.9926, 0.9914, 0.9909, 0.9884, 0.9883, 0.9881, 0.9864, 0.9841, 0.9822, 0.9819, 0.9802, 0.9776, 0.9773, 0.9731, 0.9722, 0.9715, 0.9698, 0.9672, 0.9658, 0.9651, 0.9648, 0.9635, 0.963, 0.9622, 0.9617, 0.9614, 0.9603, 0.9597, 0.9238, 0.9274, 0.9157, 0.8673, 0.8785, 0.9421, 0.875, 0.8576, 0.8851, 0.8345, 0.8401, 0.8477, 0.8449, 0.8892, 0.8378, 0.834, 0.8424, 0.8254, 0.9099, 0.8228, 0.7842, 0.8783, 0.7475, 0.7746, 0.7876, 0.8412, 0.8309, 0.7547, 0.7559, 0.7868, 0.7235, 0.7038, 0.4803, 0.6206, 0.4749, 0.5589, 0.6286, 0.6296, 0.4186, 0.4791, 0.5571, 0.2146, 0.3198, 0.2096, 0.0523, 0.1226, 0.1719, 0.0718, 0.2429, 0.1783, 0.0557, -0.0226, 0.1689, 0.2793, -0.2018, 2.8352, 2.82, 2.8158, 2.8111, 2.7919, 2.7916, 2.7869, 2.7869, 2.7783, 2.7703, 2.7687, 2.766, 2.7655, 2.7608, 2.7596, 2.7594, 2.7492, 2.7412, 2.7256, 2.7246, 2.7226, 2.7187, 2.7146, 2.7117, 2.71, 2.7094, 2.6971, 2.6946, 2.6927, 2.6674, 2.6656, 2.6466, 2.618, 2.6514, 2.4748, 2.5047, 2.574, 2.2691, 2.3811, 2.5682, 1.7397, 2.4295, 2.5241, 2.4814, 1.4173, 2.0423, 1.4396, 1.6289, 1.682, 0.5836, 2.061, 1.0381, 0.6929, 1.2224, 1.1566, 1.8718, 0.6951, 1.4072, 1.1078, 0.7919, 1.3999, 1.1522, 0.5951, 0.4273, 0.4202, 0.4323, 0.8694, 0.0187, -0.0509, 0.6542, 0.5909, 0.0712, -0.1348, -0.1482, -0.103, 0.0115, 0.1185, 0.0913, 0.1058, 3.071, 3.0597, 3.0557, 3.0394, 3.0297, 3.0042, 2.9986, 2.9976, 2.9911, 2.9436, 2.9421, 2.9388, 2.9332, 2.9246, 2.9132, 2.9059, 2.8908, 2.89, 2.8889, 2.8785, 2.8785, 2.8773, 2.8769, 2.8742, 2.8721, 2.8634, 2.8527, 2.8515, 2.8515, 2.8514, 2.8317, 2.8424, 2.7912, 2.7245, 2.8024, 2.5302, 2.1411, 2.6121, 2.4629, 2.4963, 2.5142, 2.1971, 2.2511, 2.6061, 2.6003, 1.2836, 1.6623, 2.1717, 1.7521, 1.8089, 1.7696, 0.9167, 1.662, 1.2401, 1.3078, 1.6907, 1.6443, 1.0107, 0.5448, 0.4654, 1.3588, 1.1057, 0.2537, 1.4623, 1.1962, 0.4177, 0.3443, 0.2542, -0.2916, 0.6551, 0.2559, 0.0682, -0.1845, -0.2703, 0.4009, 0.8765, 0.3719, 0.2581, -0.3115, 0.4039, 0.3189, 0.1236, -0.1966, 3.6371, 3.5752, 3.5535, 3.5461, 3.5224, 3.5059, 3.4921, 3.4862, 3.4829, 3.4824, 3.4819, 3.4818, 3.4817, 3.4682, 3.4398, 3.436, 3.3922, 3.3855, 3.3822, 3.3755, 3.3597, 3.3339, 3.3335, 3.3007, 3.3006, 3.3005, 3.3003, 3.3003, 3.289, 3.2846, 3.2778, 3.2326, 3.2683, 3.1165, 3.144, 3.1244, 3.0983, 3.0749, 2.4004, 2.8971, 2.9614, 2.8492, 2.3024, 0.7152, 2.553, 2.395, 1.1298, 0.6463, 0.6063, 0.3857, 1.5905, 0.4708, 0.5459, 0.8247, 1.8562, 0.838, -0.1386, -0.0239, 1.1224, -0.4438, 0.8369, 0.2081, -0.246, 0.1661, 0.7222, -0.1653, -0.4807, 0.3924, -0.2395, -0.6422, -0.4537, -0.5678, -0.2134]}, \"token.table\": {\"Topic\": [1, 2, 3, 4, 5, 1, 2, 3, 4, 5, 1, 2, 3, 4, 5, 1, 2, 3, 4, 5, 1, 2, 3, 4, 5, 1, 2, 3, 4, 5, 1, 2, 3, 4, 5, 1, 2, 3, 4, 5, 1, 2, 3, 4, 5, 1, 2, 3, 4, 5, 1, 2, 3, 4, 5, 1, 2, 3, 4, 5, 1, 2, 3, 4, 5, 1, 2, 3, 4, 5, 1, 2, 3, 4, 5, 1, 2, 3, 4, 5, 1, 2, 3, 4, 5, 1, 2, 3, 4, 5, 1, 2, 3, 4, 5, 1, 2, 3, 4, 5, 1, 2, 3, 4, 5, 1, 2, 3, 4, 5, 1, 2, 3, 4, 5, 1, 2, 3, 4, 5, 1, 2, 3, 4, 5, 1, 2, 3, 4, 5, 1, 2, 3, 4, 5, 1, 2, 3, 4, 5, 1, 2, 3, 4, 5, 1, 2, 3, 4, 5, 1, 2, 3, 4, 5, 1, 2, 3, 4, 5, 1, 2, 3, 4, 5, 1, 2, 3, 4, 5, 1, 2, 3, 4, 5, 1, 2, 3, 4, 5, 1, 2, 3, 4, 5, 1, 2, 3, 4, 5, 1, 2, 3, 4, 5, 1, 2, 3, 4, 5, 1, 2, 3, 4, 5, 1, 2, 3, 4, 5, 1, 2, 3, 4, 5, 1, 2, 3, 4, 5, 1, 2, 3, 4, 5, 1, 2, 3, 4, 5, 1, 2, 3, 4, 5, 1, 2, 3, 4, 5, 1, 2, 3, 4, 5, 1, 2, 3, 4, 5, 1, 2, 3, 4, 5, 1, 2, 3, 4, 5, 1, 2, 3, 4, 5, 1, 2, 3, 4, 5, 1, 2, 3, 4, 5, 1, 2, 3, 4, 5, 1, 2, 3, 4, 5, 1, 2, 3, 4, 5, 1, 2, 3, 4, 5, 1, 2, 3, 4, 5, 1, 2, 3, 4, 5, 1, 2, 3, 4, 5, 1, 2, 3, 4, 5, 1, 2, 3, 4, 5, 1, 2, 3, 4, 5, 1, 2, 3, 4, 5, 1, 2, 3, 4, 5, 1, 2, 3, 4, 5, 1, 2, 3, 4, 5, 1, 2, 3, 4, 5, 1, 2, 3, 4, 5, 1, 2, 3, 4, 5, 1, 2, 3, 4, 5, 1, 2, 3, 4, 5, 1, 2, 3, 4, 5, 1, 2, 3, 4, 5, 1, 2, 3, 4, 5, 1, 2, 3, 4, 5, 1, 2, 3, 4, 5, 1, 2, 3, 4, 5, 1, 2, 3, 4, 5, 1, 2, 3, 4, 5, 1, 2, 3, 4, 5, 1, 2, 3, 4, 5, 1, 2, 3, 4, 5, 1, 2, 3, 4, 5, 1, 2, 3, 4, 5, 1, 2, 3, 4, 5, 1, 2, 3, 4, 5, 1, 2, 3, 4, 5, 1, 2, 3, 4, 5, 1, 2, 3, 4, 5, 1, 2, 3, 4, 5, 1, 2, 3, 4, 5, 1, 2, 3, 4, 5, 1, 2, 3, 4, 5, 1, 2, 3, 4, 5, 1, 2, 3, 4, 5, 1, 2, 3, 4, 5, 1, 2, 3, 4, 5, 1, 2, 3, 4, 5, 1, 2, 3, 4, 5, 1, 2, 3, 4, 5, 1, 2, 3, 4, 5, 1, 2, 3, 4, 5, 1, 2, 3, 4, 5, 1, 2, 3, 4, 5, 1, 2, 3, 4, 5, 1, 2, 3, 4, 5, 1, 2, 3, 4, 5, 1, 2, 3, 4, 5, 1, 2, 3, 4, 5, 1, 2, 3, 4, 5, 1, 2, 3, 4, 5, 1, 2, 3, 4, 5, 1, 2, 3, 4, 5, 1, 2, 3, 4, 5, 1, 2, 3, 4, 5, 1, 2, 3, 4, 5, 1, 2, 3, 4, 5, 1, 2, 3, 4, 5, 1, 2, 3, 4, 5, 1, 2, 3, 4, 5, 1, 2, 3, 4, 5, 1, 2, 3, 4, 5, 1, 2, 3, 4, 5, 1, 2, 3, 4, 5, 1, 2, 3, 4, 5, 1, 2, 3, 4, 5, 1, 2, 3, 4, 5, 1, 2, 3, 4, 5, 1, 2, 3, 4, 5, 1, 2, 3, 4, 5, 1, 2, 3, 4, 5, 1, 2, 3, 4, 5, 1, 2, 3, 4, 5, 1, 2, 3, 4, 5, 1, 2, 3, 4, 5, 1, 2, 3, 4, 5, 1, 2, 3, 4, 5, 1, 2, 3, 4, 5, 1, 2, 3, 4, 5, 1, 2, 3, 4, 5, 1, 2, 3, 4, 5, 1, 2, 3, 4, 5, 1, 2, 3, 4, 5, 1, 2, 3, 4, 5, 1, 2, 3, 4, 5, 1, 2, 3, 4, 5, 1, 2, 3, 4, 5, 1, 2, 3, 4, 5, 1, 2, 3, 4, 5, 1, 2, 3, 4, 5, 1, 2, 3, 4, 5, 1, 2, 3, 4, 5, 1, 2, 3, 4, 5, 1, 2, 3, 4, 5, 1, 2, 3, 4, 5, 1, 2, 3, 4, 5, 1, 2, 3, 4, 5, 1, 2, 3, 4, 5, 1, 2, 3, 4, 5, 1, 2, 3, 4, 5, 1, 2, 3, 4, 5, 1, 2, 3, 4, 5, 1, 2, 3, 4, 5, 1, 2, 3, 4, 5, 1, 2, 3, 4, 5, 1, 2, 3, 4, 5, 1, 2, 3, 4, 5, 1, 2, 3, 4, 5, 1, 2, 3, 4, 5, 1, 2, 3, 4, 5, 1, 2, 3, 4, 5, 1, 2, 3, 4, 5, 1, 2, 3, 4, 5, 1, 2, 3, 4, 5, 1, 2, 3, 4, 5, 1, 2, 3, 4, 5, 1, 2, 3, 4, 5, 1, 2, 3, 4, 5, 1, 2, 3, 4, 5, 1, 2, 3, 4, 5, 1, 2, 3, 4, 5, 1, 2, 3, 4, 5, 1, 2, 3, 4, 5, 1, 2, 3, 4, 5, 1, 2, 3, 4, 5, 1, 2, 3, 4, 5, 1, 2, 3, 4, 5, 1, 2, 3, 4, 5, 1, 2, 3, 4, 5, 1, 2, 3, 4, 5, 1, 2, 3, 4, 5, 1, 2, 3, 4, 5, 1, 2, 3, 4, 5, 1, 2, 3, 4, 5, 1, 2, 3, 4, 5, 1, 2, 3, 4, 5, 1, 2, 3, 4, 5, 1, 2, 3, 4, 5, 1, 2, 3, 4, 5, 1, 2, 3, 4, 5, 1, 2, 3, 4, 5, 1, 2, 3, 4, 5, 1, 2, 3, 4, 5, 1, 2, 3, 4, 5, 1, 2, 3, 4, 5, 1, 2, 3, 4, 5, 1, 2, 3, 4, 5, 1, 2, 3, 4, 5, 1, 2, 3, 4, 5, 1, 2, 3, 4, 5, 1, 2, 3, 4, 5, 1, 2, 3, 4, 5, 1, 2, 3, 4, 5, 1, 2, 3, 4, 5, 1, 2, 3, 4, 5, 1, 2, 3, 4, 5, 1, 2, 3, 4, 5, 1, 2, 3, 4, 5, 1, 2, 3, 4, 5, 1, 2, 3, 4, 5, 1, 2, 3, 4, 5, 1, 2, 3, 4, 5, 1, 2, 3, 4, 5, 1, 2, 3, 4, 5, 1, 2, 3, 4, 5, 1, 2, 3, 4, 5, 1, 2, 3, 4, 5, 1, 2, 3, 4, 5, 1, 2, 3, 4, 5, 1, 2, 3, 4, 5, 1, 2, 3, 4, 5, 1, 2, 3, 4, 5, 1, 2, 3, 4, 5, 1, 2, 3, 4, 5, 1, 2, 3, 4, 5, 1, 2, 3, 4, 5, 1, 2, 3, 4, 5, 1, 2, 3, 4, 5, 1, 2, 3, 4, 5, 1, 2, 3, 4, 5, 1, 2, 3, 4, 5, 1, 2, 3, 4, 5, 1, 2, 3, 4, 5, 1, 2, 3, 4, 5, 1, 2, 3, 4, 5, 1, 2, 3, 4, 5, 1, 2, 3, 4, 5, 1, 2, 3, 4, 5, 1, 2, 3, 4, 5, 1, 2, 3, 4, 5, 1, 2, 3, 4, 5, 1, 2, 3, 4, 5, 1, 2, 3, 4, 5, 1, 2, 3, 4, 5, 1, 2, 3, 4, 5, 1, 2, 3, 4, 5, 1, 2, 3, 4, 5, 1, 2, 3, 4, 5, 1, 2, 3, 4, 5, 1, 2, 3, 4, 5, 1, 2, 3, 4, 5, 1, 2, 3, 4, 5, 1, 2, 3, 4, 5, 1, 2, 3, 4, 5, 1, 2, 3, 4, 5, 1, 2, 3, 4, 5, 1, 2, 3, 4, 5, 1, 2, 3, 4, 5, 1, 2, 3, 4, 5, 1, 2, 3, 4, 5, 1, 2, 3, 4, 5, 1, 2, 3, 4, 5, 1, 2, 3, 4, 5, 1, 2, 3, 4, 5, 1, 2, 3, 4, 5, 1, 2, 3, 4, 5, 1, 2, 3, 4, 5, 1, 2, 3, 4, 5, 1, 2, 3, 4, 5, 1, 2, 3, 4, 5, 1, 2, 3, 4, 5, 1, 2, 3, 4, 5, 1, 2, 3, 4, 5, 1, 2, 3, 4, 5, 1, 2, 3, 4, 5, 1, 2, 3, 4, 5, 1, 2, 3, 4, 5, 1, 2, 3, 4, 5, 1, 2, 3, 4, 5, 1, 2, 3, 4, 5, 1, 2, 3, 4, 5, 1, 2, 3, 4, 5, 1, 2, 3, 4, 5, 1, 2, 3, 4, 5, 1, 2, 3, 4, 5, 1, 2, 3, 4, 5, 1, 2, 3, 4, 5, 1, 2, 3, 4, 5, 1, 2, 3, 4, 5, 1, 2, 3, 4, 5, 1, 2, 3, 4, 5, 1, 2, 3, 4, 5, 1, 2, 3, 4, 5, 1, 2, 3, 4, 5, 1, 2, 3, 4, 5, 1, 2, 3, 4, 5, 1, 2, 3, 4, 5, 1, 2, 3, 4, 5, 1, 2, 3, 4, 5, 1, 2, 3, 4, 5, 1, 2, 3, 4, 5, 1, 2, 3, 4, 5, 1, 2, 3, 4, 5, 1, 2, 3, 4, 5, 1, 2, 3, 4, 5, 1, 2, 3, 4, 5, 1, 2, 3, 4, 5, 1, 2, 3, 4, 5, 1, 2, 3, 4, 5, 1, 2, 3, 4, 5, 1, 2, 3, 4, 5, 1, 2, 3, 4, 5, 1, 2, 3, 4, 5, 1, 2, 3, 4, 5, 1, 2, 3, 4, 5, 1, 2, 3, 4, 5, 1, 2, 3, 4, 5, 1, 2, 3, 4, 5, 1, 2, 3, 4, 5, 1, 2, 3, 4, 5, 1, 2, 3, 4, 5, 1, 2, 3, 4, 5, 1, 2, 3, 4, 5, 1, 2, 3, 4, 5, 1, 2, 3, 4, 5, 1, 2, 3, 4, 5, 1, 2, 3, 4, 5, 1, 2, 3, 4, 5, 1, 2, 3, 4, 5, 1, 2, 3, 4, 5, 1, 2, 3, 4, 5, 1, 2, 3, 4, 5, 1, 2, 3, 4, 5, 1, 2, 3, 4, 5, 1, 2, 3, 4, 5, 1, 2, 3, 4, 5, 1, 2, 3, 4, 5, 1, 2, 3, 4, 5, 1, 2, 3, 4, 5, 1, 2, 3, 4, 5, 1, 2, 3, 4, 5, 1, 2, 3, 4, 5, 1, 2, 3, 4, 5, 1, 2, 3, 4, 5, 1, 2, 3, 4, 5, 1, 2, 3, 4, 5, 1, 2, 3, 4, 5, 1, 2, 3, 4, 5, 1, 2, 3, 4, 5, 1, 2, 3, 4, 5, 1, 2, 3, 4, 5, 1, 2, 3, 4, 5], \"Freq\": [0.9509623626653481, 0.015462802644965008, 0.007731401322482504, 0.015462802644965008, 0.007731401322482504, 0.004735474274220456, 0.9818216661883746, 0.0031569828494803043, 0.009470948548440912, 0.0015784914247401521, 0.00927083047117034, 0.00927083047117034, 0.0037083321884681356, 0.005562498282702204, 0.9734371994728855, 0.8789056392435781, 0.048731401779841955, 0.003480814412845854, 0.008702036032114635, 0.06091425222480244, 0.019460895178498663, 0.9652604008535337, 0.0038921790356997326, 0.0038921790356997326, 0.0038921790356997326, 0.3054197445931089, 0.43255848021402743, 0.2423283419541568, 0.01577285065973802, 0.004301686543564914, 0.8480899643445086, 0.10499050452683051, 0.006999366968455367, 0.027997467873821468, 0.011665611614092278, 0.6983353763852598, 0.23185645651188144, 0.04539505359074731, 0.013179209106991155, 0.01106402739846171, 0.04223343706271117, 0.028155624708474113, 0.014077812354237057, 0.9009799906711716, 0.014077812354237057, 0.6378856370709898, 0.29316118792969736, 0.049549945155610814, 0.011856194551906877, 0.00760586065594026, 0.027421355368400836, 0.952892099051929, 0.010283008263150312, 0.006855338842100209, 0.0034276694210501044, 0.08762319770954621, 0.03504927908381848, 0.01752463954190924, 0.00876231977095462, 0.8499450177825982, 0.15133336819122326, 0.8168657498498625, 0.006270719676431903, 0.003344383827430348, 0.022156542856726056, 0.669311534084027, 0.2574753531971633, 0.039056647779666324, 0.011816501716778028, 0.022264776918981755, 0.019635044557815225, 0.01472628341836142, 0.9522996610540385, 0.004908761139453806, 0.004908761139453806, 0.04436443146614054, 0.026618658879684322, 0.905034401909267, 0.008872886293228108, 0.008872886293228108, 0.7502277653026233, 0.04196362670860512, 0.012282037085445402, 0.19344208409576508, 0.002047006180907567, 0.9195634107268629, 0.06054738506843541, 0.0075684231335544265, 0.0075684231335544265, 0.0037842115667772133, 0.517459550050467, 0.21570637280008076, 0.012965956834977532, 0.23574466972686423, 0.018859573578149137, 0.7457473749366955, 0.2067326677812434, 0.029400802208479203, 0.014700401104239601, 0.0034433371955876545, 0.49283774948778375, 0.42075159135883927, 0.06386908310906482, 0.007656819904887887, 0.015126888104778509, 0.012085389309197461, 0.9607884500811981, 0.012085389309197461, 0.006042694654598731, 0.006042694654598731, 0.5608609144084469, 0.1772836223704861, 0.2344978823173248, 0.02336920476701862, 0.004029173235692866, 0.9266890636552522, 0.019786955095841684, 0.003297825849306947, 0.029680432643762526, 0.019786955095841684, 0.07240861074451761, 0.8456126611469621, 0.06272338255576047, 0.0055344161078612186, 0.013836040269653047, 0.415554804314743, 0.5451014265851042, 0.01996437671974744, 0.01611938564779608, 0.0032534539839588423, 0.45447566075698964, 0.4437162937883109, 0.04454377925032995, 0.05056902475279004, 0.0066708075205808145, 0.017893165510052694, 0.9483377720327927, 0.011928777006701795, 0.011928777006701795, 0.005964388503350898, 0.5915689279559653, 0.2871341636163624, 0.10352456239229393, 0.012277845674557772, 0.005301796995831764, 0.4124424668444174, 0.38895236608374195, 0.18191171054197483, 0.01256447249989616, 0.0049165327173506706, 0.028778425688893158, 0.028778425688893158, 0.014389212844446579, 0.9065204092001345, 0.014389212844446579, 0.09815892810624055, 0.09815892810624055, 0.049079464053120275, 0.049079464053120275, 0.6871124967436838, 0.047190033592616476, 0.08258255878707883, 0.8140280794726342, 0.047190033592616476, 0.011797508398154119, 0.4146176078485136, 0.15622048360891042, 0.04391062241980184, 0.38084020598712753, 0.003799957709405929, 0.46828452152476036, 0.20679717921348906, 0.08459884604188189, 0.23585132835918587, 0.004272668992014237, 0.3651304916389116, 0.04868406555185488, 0.009736813110370977, 0.5452615341807746, 0.03407884588629841, 0.9355780350192573, 0.027517001029978155, 0.013758500514989077, 0.013758500514989077, 0.006879250257494539, 0.021802037465543652, 0.9374876110183771, 0.010901018732771826, 0.010901018732771826, 0.010901018732771826, 0.40762817026981574, 0.4751641984801994, 0.02814001175432653, 0.06700002798649174, 0.02197600917956929, 0.6592004094399093, 0.2615544561815554, 0.010628537972042001, 0.057994848499620485, 0.010859593145347263, 0.5822554319254557, 0.26384366062057096, 0.027968601533537172, 0.07725592731291736, 0.048896156527162886, 0.03551440313662851, 0.053271604704942764, 0.8701028768473985, 0.017757201568314254, 0.017757201568314254, 0.05072571267735978, 0.05072571267735978, 0.02536285633867989, 0.7608856901603968, 0.07608856901603966, 0.030898860123699867, 0.030898860123699867, 0.8806175135254461, 0.0463482901855498, 0.015449430061849933, 0.009913075008404774, 0.009913075008404774, 0.961568275815263, 0.004956537504202387, 0.004956537504202387, 0.01955585113294837, 0.01955585113294837, 0.9386808543815217, 0.009777925566474185, 0.009777925566474185, 0.8494354226460012, 0.10688260284949685, 0.0037502667666490124, 0.01218836699160929, 0.02812700074986759, 0.6983646973752683, 0.1635222990005692, 0.061674500315093576, 0.02418885218780046, 0.05233845210225831, 0.7457875410116921, 0.19862683253075217, 0.011834766585744914, 0.037279514745096484, 0.006509121622159704, 0.057427524577869524, 0.02297100983114781, 0.011485504915573905, 0.8958693834147645, 0.011485504915573905, 0.04497741584940702, 0.04497741584940702, 0.8545709011387332, 0.02248870792470351, 0.02248870792470351, 0.32596961538020597, 0.4300291464438871, 0.005014917159695476, 0.2319399186359158, 0.007522375739543214, 0.3262486099903364, 0.24223609239625835, 0.12461856776454909, 0.2632392217947778, 0.04340646742360699, 0.01667338508524323, 0.08336692542621615, 0.8753527169752696, 0.004168346271310808, 0.01667338508524323, 0.4391252349730187, 0.4634986998499615, 0.011280281265361949, 0.07130749228460946, 0.014906085957799717, 0.21460625859639754, 0.22030376988656739, 0.5545577655765317, 0.005697511290169846, 0.003798340860113231, 0.31417546214022296, 0.5409570457273557, 0.07356573321241136, 0.0672047863556991, 0.004148443602203648, 0.0544242677842268, 0.03628284518948453, 0.018141422594742267, 0.018141422594742267, 0.8707882845476288, 0.17983933822073858, 0.059946446073579525, 0.01712755602102272, 0.7279211308934657, 0.01712755602102272, 0.9451642404803973, 0.023928208619756895, 0.011964104309878447, 0.011964104309878447, 0.011964104309878447, 0.052862744459903264, 0.03524182963993551, 0.86342482617842, 0.017620914819967755, 0.017620914819967755, 0.359562405006312, 0.3163363235301433, 0.30847703598902176, 0.012771342254322556, 0.00294723282792059, 0.04395964769260547, 0.9391379279783896, 0.007992663216837358, 0.007992663216837358, 0.003996331608418679, 0.2585869118778525, 0.19997387851887258, 0.32581950896609413, 0.0517173823755705, 0.16377171085597322, 0.5695927384952423, 0.27654431897260173, 0.13686327285398048, 0.006843163642699024, 0.010063475945145624, 0.019381988635471935, 0.029072982953207902, 0.9303354545026529, 0.009690994317735967, 0.009690994317735967, 0.9590037846038824, 0.013319497008387256, 0.006659748504193628, 0.013319497008387256, 0.006659748504193628, 0.9535391961394446, 0.017767811108188408, 0.011845207405458939, 0.011845207405458939, 0.011845207405458939, 0.019042735495819505, 0.9369025863943196, 0.004760683873954876, 0.009521367747909753, 0.02951624001852023, 0.00882901052936741, 0.8234523820390003, 0.1553905853168664, 0.010006211933283063, 0.0017658021058734818, 0.4809041850286891, 0.42598689202907974, 0.0517683656487143, 0.03728329983459716, 0.0041565841031814404, 0.2832572899710175, 0.3769934275201969, 0.3267959330949533, 0.0030733159852189963, 0.010244386617396654, 0.9373453843211249, 0.0316670737946326, 0.00633341475892652, 0.00633341475892652, 0.01266682951785304, 0.5231474107491149, 0.3147693941618703, 0.043369733533605376, 0.08606181498074818, 0.03252730015020403, 0.4588529337068946, 0.3847933849581081, 0.06720706381117642, 0.06483504979431136, 0.02424725439462051, 0.1297909293031706, 0.11536971493615164, 0.014421214367018955, 0.014421214367018955, 0.7210607183509478, 0.0890809377139282, 0.1938820409067849, 0.7021673913921399, 0.005240055159642835, 0.005240055159642835, 0.09186546306238025, 0.8187718180577963, 0.06380473979968955, 0.004008674751812957, 0.021713654905653513, 0.9716132595047724, 0.008792880176513777, 0.0043964400882568885, 0.008792880176513777, 0.0043964400882568885, 0.6356728862974851, 0.2962035962328595, 0.04166819129028541, 0.011848143849314381, 0.014510648085115367, 0.014008276749457023, 0.9619016701293822, 0.009338851166304682, 0.004669425583152341, 0.004669425583152341, 0.11222310898125476, 0.8690766346687869, 0.003653775641250155, 0.004175743590000177, 0.011483294872500487, 0.8529306644484127, 0.11901358108582503, 0.004667199258267648, 0.013418197867519488, 0.009917798423818753, 0.06159621710260527, 0.30798108551302633, 0.015399054275651318, 0.608262643888227, 0.007699527137825659, 0.6197012952165446, 0.23086910998263427, 0.014360279568297824, 0.00994173200882157, 0.12592860544507323, 0.2455111445556888, 0.4725429556501967, 0.035638714532277405, 0.24287123977552008, 0.003959857170253045, 0.5761918356718608, 0.11862773087361841, 0.010168091217738722, 0.010168091217738722, 0.28131719035743796, 0.11566853235045707, 0.04626741294018283, 0.023133706470091414, 0.786546019983108, 0.023133706470091414, 0.024941674437191766, 0.9577602983881639, 0.004988334887438353, 0.004988334887438353, 0.0074825023311575305, 0.02263606505685639, 0.02263606505685639, 0.011318032528428196, 0.9280786673311121, 0.011318032528428196, 0.030220231750088932, 0.9443822421902791, 0.007555057937522233, 0.007555057937522233, 0.007555057937522233, 0.7418542669535583, 0.1863447389734557, 0.02198292839059681, 0.03348454493251244, 0.01641763006386344, 0.053143006246457805, 0.8905044289946983, 0.008617784796722887, 0.0459615189158554, 0.0028725949322409624, 0.09885961424409115, 0.02696171297566122, 0.8537875775626054, 0.00898723765855374, 0.00898723765855374, 0.0740806883645788, 0.0555605162734341, 0.0185201720911447, 0.0185201720911447, 0.8148875720103668, 0.7507253642764355, 0.18772250828583822, 0.03968519692709387, 0.0057634103421090686, 0.01597288009098799, 0.02086785947109341, 0.9564435590917812, 0.01738988289257784, 0.003477976578515568, 0.003477976578515568, 0.8151917882589043, 0.17068742047818933, 0.004957725906005499, 0.004957725906005499, 0.004249479348004714, 0.027817788164060768, 0.938850350537051, 0.006954447041015192, 0.013908894082030384, 0.006954447041015192, 0.06235938956524261, 0.9198009960873286, 0.006235938956524262, 0.006235938956524262, 0.003117969478262131, 0.08746711950897418, 0.024990605573992623, 0.012495302786996312, 0.8246899839417565, 0.04998121114798525, 0.6381856429673148, 0.3118111597057093, 0.023405341429119125, 0.006371454055704651, 0.020024569889357476, 0.017088804264121016, 0.9484286366587164, 0.017088804264121016, 0.008544402132060508, 0.008544402132060508, 0.1820403074166388, 0.7573622346105211, 0.041626964494589754, 0.0043490858427183325, 0.014496952809061108, 0.2737068994373875, 0.2687752435916688, 0.45124650988326054, 0.004931655845718694, 0.002465827922859347, 0.019558091703758797, 0.019558091703758797, 0.9387884017804223, 0.009779045851879399, 0.009779045851879399, 0.7839730596429508, 0.1652402233439475, 0.03451684665406903, 0.006426008685597958, 0.009914413400636849, 0.7959405901151071, 0.17540368530499365, 0.016427535481736564, 0.007948807491162854, 0.0037094434958759985, 0.14119589586191403, 0.07844216436773001, 0.07844216436773001, 0.031376865747092, 0.6902910464360241, 0.12951232153490727, 0.04856712057559023, 0.03237808038372682, 0.03237808038372682, 0.7608848890175802, 0.030786896550046815, 0.030786896550046815, 0.9082134482263811, 0.015393448275023407, 0.015393448275023407, 0.9285403610654567, 0.03239094282786477, 0.02159396188524318, 0.02159396188524318, 0.01079698094262159, 0.022700570510415873, 0.9420736761822587, 0.011350285255207936, 0.011350285255207936, 0.011350285255207936, 0.011500503153402442, 0.8731535855698623, 0.08492679251743342, 0.004423270443616324, 0.026539622661697945, 0.3685282021755872, 0.5792213568797845, 0.008686472167629187, 0.026798690729919833, 0.01681848866498417, 0.3013860980915614, 0.62604436430793, 0.025115508174296787, 0.017281312963965678, 0.030184693310393383, 0.09693835613252848, 0.8539440477599078, 0.016381233143667833, 0.012141384565306747, 0.02062108172202892, 0.2796607752728262, 0.6671172172687067, 0.010522353584679916, 0.010990013743999022, 0.03156706075403974, 0.9504797411727154, 0.01760147668838362, 0.00880073834419181, 0.00880073834419181, 0.00880073834419181, 0.23329821076655935, 0.13800739228444356, 0.006571780584973503, 0.5618872400152345, 0.05914602526476152, 0.9318016122472544, 0.03488027425524482, 0.004982896322177831, 0.009965792644355662, 0.014948688966533494, 0.6949331215174609, 0.24293808506103273, 0.030626177592956015, 0.020565404277395585, 0.01094848860810988, 0.9109793464276892, 0.059932851738663764, 0.019977617246221255, 0.007991046898488502, 0.003995523449244251, 0.03281452000787877, 0.03281452000787877, 0.021876346671919178, 0.021876346671919178, 0.8969302135486864, 0.04194912137401679, 0.936863710686375, 0.009322026972003732, 0.009322026972003732, 0.009322026972003732, 0.04054753964934569, 0.04054753964934569, 0.013515846549781897, 0.7568874067877862, 0.13515846549781896, 0.946795581669644, 0.016466010115993808, 0.008233005057996904, 0.008233005057996904, 0.016466010115993808, 0.9170406803561811, 0.04852067091831646, 0.009704134183663293, 0.014556201275494939, 0.009704134183663293, 0.02875061780020422, 0.02875061780020422, 0.9104362303398004, 0.01916707853346948, 0.00958353926673474, 0.037217197553883676, 0.027912898165412755, 0.9118213400701499, 0.009304299388470919, 0.009304299388470919, 0.03239340130350151, 0.787594786916477, 0.17357061295458273, 0.002900901609268792, 0.002900901609268792, 0.5273531646464764, 0.19679811445746884, 0.09812496514731733, 0.15458793391923736, 0.022475550676201175, 0.35749741262662643, 0.2587367118781748, 0.23261817944883226, 0.14773294905346893, 0.0032648165536678215, 0.8318957099608538, 0.15408155323622771, 0.0036169378693950167, 0.00651048816491103, 0.0036169378693950167, 0.0808106259637925, 0.032324250385517006, 0.016162125192758503, 0.016162125192758503, 0.840430510023442, 0.013598565436612493, 0.01019892407745937, 0.006799282718306246, 0.965498145999487, 0.003399641359153123, 0.07566229513291088, 0.07566229513291088, 0.03783114756645544, 0.7944540988955643, 0.03783114756645544, 0.32046648640806874, 0.5543975120946709, 0.012837678238898897, 0.10745612155522781, 0.004279226079632966, 0.5983099226799082, 0.11445928955615635, 0.010405389959650577, 0.020810779919301154, 0.25493205401143915, 0.1248029359574248, 0.10140238546540764, 0.7488176157445487, 0.00780018349733905, 0.00780018349733905, 0.15011502670507682, 0.7630156053517716, 0.05667326054243231, 0.0033174591537033548, 0.027092583088577395, 0.056368231303639514, 0.8636418296164768, 0.05536165574464595, 0.003019726676980688, 0.02214466229785838, 0.0847548607503175, 0.036323511750136074, 0.8657103633782431, 0.00605391862502268, 0.00605391862502268, 0.570326019334448, 0.2538563308016099, 0.00408347985203662, 0.1483664346239972, 0.023820299136880288, 0.5345990080465258, 0.0969994076455552, 0.05180650181069425, 0.03306797987916654, 0.28218009496888785, 0.0616345906970428, 0.8320669744100778, 0.10032013166646328, 0.004589809945524464, 0.0019670614052247704, 0.6013843503651384, 0.23050178270479366, 0.006932384442249434, 0.13518149662386394, 0.025996441658435374, 0.016922674874779726, 0.9645924678624445, 0.005640891624926575, 0.005640891624926575, 0.005640891624926575, 0.6323505666812315, 0.2265833092423947, 0.024417852660036196, 0.03770403719564412, 0.07935802114511763, 0.23541670899405973, 0.22364587354435675, 0.007847223633135324, 0.5257639834200667, 0.003923611816567662, 0.6797771345783981, 0.23608514644553497, 0.03972723513769859, 0.028051130186833768, 0.016232633712177917, 0.12441579092529244, 0.1010878301268001, 0.7542707324845854, 0.007775986932830777, 0.007775986932830777, 0.06546655641625826, 0.06546655641625826, 0.03273327820812913, 0.7855986769950991, 0.03273327820812913, 0.07610908574308176, 0.03805454287154088, 0.01902727143577044, 0.01902727143577044, 0.8371999431738992, 0.08258548405453962, 0.05505698936969308, 0.02752849468484654, 0.7983263458605496, 0.02752849468484654, 0.05218236660788879, 0.9426857967642519, 0.002268798548169078, 0.002268798548169078, 0.001134399274084539, 0.01109302858445859, 0.9706400011401266, 0.005546514292229295, 0.005546514292229295, 0.005546514292229295, 0.017000396736744826, 0.9520222172577102, 0.008500198368372413, 0.008500198368372413, 0.008500198368372413, 0.0774490324726437, 0.0774490324726437, 0.03872451623632185, 0.7744903247264371, 0.03872451623632185, 0.010421951862995136, 0.9796634751215428, 0.006947967908663424, 0.003473983954331712, 0.003473983954331712, 0.6930437696090022, 0.25339207150946425, 0.03466315783419511, 0.005484676872499226, 0.013382611568898112, 0.15543071670201403, 0.7638118910892964, 0.06504075055127197, 0.0036689654157127773, 0.012007523178696362, 0.061000621384945275, 0.061000621384945275, 0.020333540461648425, 0.8336751589275854, 0.020333540461648425, 0.16636828746488574, 0.1279756057422198, 0.6846694907208759, 0.00639878028711099, 0.00639878028711099, 0.5734073581360872, 0.3619788200572143, 0.01036575711982023, 0.04787992574393153, 0.006252361437351884, 0.06408238906925691, 0.06408238906925691, 0.032041194534628455, 0.8010298633657114, 0.032041194534628455, 0.7997222684224107, 0.16235835924001635, 0.01810429166650647, 0.010328730502045356, 0.009400305288378359, 0.10479991687498977, 0.26030947094755524, 0.6220382162902619, 0.006761284959676759, 0.0033806424798383796, 0.37488058490546744, 0.49065253024392064, 0.1151103913650906, 0.016318331342943877, 0.0028667338845712216, 0.9461965100411077, 0.016896366250734065, 0.016896366250734065, 0.008448183125367032, 0.008448183125367032, 0.23351001768952878, 0.12972778760529377, 0.025945557521058756, 0.025945557521058756, 0.5967478229843514, 0.018060805710211836, 0.013545604282658876, 0.009030402855105918, 0.9527075012136743, 0.004515201427552959, 0.946348613408198, 0.022008107288562746, 0.011004053644281373, 0.011004053644281373, 0.011004053644281373, 0.7692586262465887, 0.171721980087714, 0.03490284148124268, 0.017684106350496293, 0.006282511466623683, 0.050369814146291374, 0.10073962829258275, 0.025184907073145687, 0.7807321192675163, 0.025184907073145687, 0.006126639623991606, 0.01021106603998601, 0.9782201266306598, 0.004084426415994404, 0.002042213207997202, 0.028232843503442673, 0.028232843503442673, 0.9175674138618869, 0.014116421751721337, 0.014116421751721337, 0.6003805149081091, 0.3170935670500075, 0.05806599870461639, 0.020503088491387458, 0.003912803147211347, 0.724922093945224, 0.24440581722120183, 0.011214094693367526, 0.012750272048623352, 0.006912798098651214, 0.05237371164496128, 0.8602736014114923, 0.07608343245720726, 0.0031848878703016996, 0.00813915789077101, 0.7138060840475876, 0.23328914154895464, 0.018095803432518494, 0.020541182274750724, 0.014183197284946927, 0.12688090203658015, 0.08458726802438676, 0.04229363401219338, 0.04229363401219338, 0.6766981441950941, 0.019691982514663465, 0.9583431490469553, 0.013127988343108977, 0.006563994171554489, 0.006563994171554489, 0.47177951602774393, 0.4741706012941614, 0.00735718543513051, 0.042303816252000435, 0.004414311261078306, 0.01619290582881229, 0.010795270552541526, 0.9607790791761958, 0.005397635276270763, 0.005397635276270763, 0.07609915988515162, 0.03804957994257581, 0.019024789971287905, 0.019024789971287905, 0.8370907587366677, 0.13387065152305752, 0.08366915720191095, 0.01673383144038219, 0.01673383144038219, 0.7362885833768165, 0.37070699548860186, 0.5523661623500267, 0.010955601928529127, 0.06165710852800113, 0.00433128448337198, 0.026068085768409344, 0.06082553345962181, 0.8950042780487208, 0.008689361922803115, 0.008689361922803115, 0.5779681060250131, 0.28652296067398675, 0.0036268729199238833, 0.11191493581479411, 0.01994780105958136, 0.23098680163294957, 0.04714016359856114, 0.009428032719712227, 0.6835323721791364, 0.032998114518992795, 0.10251374506798332, 0.13668499342397775, 0.03417124835599444, 0.06834249671198887, 0.6834249671198888, 0.634082781599854, 0.2638001938625588, 0.03054308350827406, 0.03054308350827406, 0.041003043613847365, 0.5777027048981052, 0.37926248048740224, 0.033688412422452865, 0.006071056655636382, 0.0033331291442709548, 0.11315817909395391, 0.1414477238674424, 0.028289544773488478, 0.028289544773488478, 0.6789490745637234, 0.052418189509957094, 0.8963510406202664, 0.00524181895099571, 0.003494545967330473, 0.04193455160796568, 0.6241078293373581, 0.21645609991672501, 0.016549963373914588, 0.12325367460046917, 0.020034166189475556, 0.9206341770134829, 0.04880764357924363, 0.009761528715848726, 0.005185812130294636, 0.015557436390883906, 0.026798939751607874, 0.06253085942041837, 0.8932979917202625, 0.008932979917202625, 0.008932979917202625, 0.27427746379546075, 0.6725877905289673, 0.04188473585053834, 0.005134257942969216, 0.005944930249753829, 0.18443916225186752, 0.12009991960586723, 0.6819959720476032, 0.008578565686133374, 0.004289282843066687, 0.9505075573248085, 0.019940717985835143, 0.013293811990556762, 0.006646905995278381, 0.013293811990556762, 0.5360869166463611, 0.35633914973859454, 0.08738200128787912, 0.013788414651889673, 0.0063127681538772, 0.09331920679828729, 0.2714740561404721, 0.016967128508779506, 0.6023330620616725, 0.008483564254389753, 0.6921910060014906, 0.23826840026661159, 0.050144518900676165, 0.013109678143967626, 0.006117849800518225, 0.05667768854519007, 0.09068430167230411, 0.8274942527597751, 0.011335537709038014, 0.011335537709038014, 0.05254264399441196, 0.08757107332401994, 0.017514214664803986, 0.8231680892457874, 0.017514214664803986, 0.9298018453662533, 0.0312538435417228, 0.0078134608854307, 0.0156269217708614, 0.0078134608854307, 0.31938973856204805, 0.6272376672570564, 0.022088636124851922, 0.02766054433652628, 0.003581940993219231, 0.07540622784926872, 0.8308823731141297, 0.07729138354550044, 0.003063378006376542, 0.01343173433565099, 0.021402227415124514, 0.9416980062654786, 0.010701113707562257, 0.010701113707562257, 0.010701113707562257, 0.020897385111404362, 0.9403823300131963, 0.010448692555702181, 0.010448692555702181, 0.010448692555702181, 0.07034883299840569, 0.035174416499202846, 0.017587208249601423, 0.035174416499202846, 0.8441859959808683, 0.09815510924179749, 0.09815510924179749, 0.049077554620898745, 0.049077554620898745, 0.6870857646925824, 0.04578824609764486, 0.02747294765858692, 0.018315298439057943, 0.018315298439057943, 0.8882919742943103, 0.04921646824471801, 0.04921646824471801, 0.024608234122359005, 0.8612881942825652, 0.024608234122359005, 0.9379196257585983, 0.023158509277990083, 0.011579254638995042, 0.011579254638995042, 0.011579254638995042, 0.03750508841221976, 0.06250848068703292, 0.8751187296184609, 0.012501696137406586, 0.012501696137406586, 0.2413683159755446, 0.4776817981086694, 0.0139007930666544, 0.25779652596340885, 0.010109667684839565, 0.016626176347209885, 0.9643182281381733, 0.005542058782403295, 0.005542058782403295, 0.005542058782403295, 0.09817507936899535, 0.09817507936899535, 0.04908753968449767, 0.04908753968449767, 0.6872255555829674, 0.011702583146517346, 0.9654631095876811, 0.005851291573258673, 0.005851291573258673, 0.005851291573258673, 0.09560678829189766, 0.09560678829189766, 0.7887560034081557, 0.007967232357658139, 0.007967232357658139, 0.9259825220665662, 0.04209011463938937, 0.012025747039825535, 0.0060128735199127675, 0.012025747039825535, 0.07713724719441052, 0.04407842696823459, 0.8595293258805744, 0.011019606742058647, 0.011019606742058647, 0.5941476220593682, 0.3263793436914708, 0.010389252381770544, 0.06311960881000217, 0.005880708895341817, 0.31511896710518517, 0.15227225256089486, 0.4420125109059309, 0.04652763272694009, 0.044412740330261, 0.7607547460000881, 0.14186083418375373, 0.038364879684914525, 0.0377700753487143, 0.02141295610320811, 0.5942136285611893, 0.33295405772140263, 0.010126339955030494, 0.05792266454277442, 0.004860643178414637, 0.08775082399436146, 0.08775082399436146, 0.029250274664787156, 0.029250274664787156, 0.7605071412844661, 0.1844947205358812, 0.7249233898151012, 0.06802598634283888, 0.0030920902883108583, 0.01923967290504534, 0.07796352256963789, 0.8372749240064102, 0.06230418256633454, 0.0033317744687879434, 0.01899111447209128, 0.9273250259482881, 0.033118750926724574, 0.011039583642241526, 0.011039583642241526, 0.022079167284483052, 0.7408888016339578, 0.21002468178997022, 0.012515013541114152, 0.024347389979985715, 0.012515013541114152, 0.6735839445833348, 0.25083703875334457, 0.01699019351161817, 0.03676060050695567, 0.02177833895580147, 0.019251013038088308, 0.02887651955713246, 0.9336741323472829, 0.009625506519044154, 0.009625506519044154, 0.3344863481434725, 0.15964121161393005, 0.015203924915612387, 0.030407849831224774, 0.4637197099261778, 0.010575399839781476, 0.967649085340005, 0.010575399839781476, 0.005287699919890738, 0.005287699919890738, 0.25809365890447367, 0.13826446012739663, 0.009217630675159775, 0.01843526135031955, 0.5807107325350658, 0.10175243433666943, 0.118711173392781, 0.03391747811222314, 0.7461845184689092, 0.01695873905611157, 0.18679807099333123, 0.23624461919744832, 0.010988121823137131, 0.5549001520684251, 0.010988121823137131, 0.673175344595153, 0.20176403885625036, 0.047848247532498625, 0.03299879140172319, 0.04431266273945685, 0.03079114036559534, 0.03079114036559534, 0.9083386407850625, 0.01539557018279767, 0.01539557018279767, 0.12099607590275502, 0.6731676165333134, 0.033078063915861086, 0.16161825965907564, 0.011316179760689318, 0.1765801150827997, 0.13243508631209977, 0.029430019180466616, 0.014715009590233308, 0.6474604219702655, 0.37117348169811376, 0.5766902272294832, 0.010604956619946107, 0.032790038284660955, 0.008654619770300846, 0.6669618789425995, 0.2510414727758429, 0.03236793807581993, 0.024617868395694034, 0.025073754847466146, 0.5780376679747012, 0.38172016718556967, 0.02467051609307442, 0.012410017186213193, 0.0029903655870393234, 0.8762057704467621, 0.08526225923602032, 0.0036281812440859713, 0.009070453110214928, 0.0253972687086018, 0.5602912102763351, 0.3506301237477499, 0.05851544941172871, 0.026829217912096956, 0.0037005817809788906, 0.49497002795816175, 0.35374976574410993, 0.12667876986725835, 0.012304339678055998, 0.012304339678055998, 0.6786645583698084, 0.2075069662255801, 0.004491492775445457, 0.049855569807444565, 0.059287704635880026, 0.3629098616259288, 0.46078292693316025, 0.10415253188667767, 0.06799146572228022, 0.0043306666065146635, 0.04779231163789355, 0.8633723516596983, 0.073526633289067, 0.002545152690775396, 0.012442968710457492, 0.5226200126548235, 0.42468996656085284, 0.029868664058661055, 0.013710206453155894, 0.008976920891947312, 0.1913885826814892, 0.493957254887495, 0.29303895024676146, 0.018265300421884862, 0.0031765739864147587, 0.5016091641086163, 0.025080458205430818, 0.016720305470287213, 0.016720305470287213, 0.44308809496261115, 0.1433336657286413, 0.026875062324120246, 0.8062518697236074, 0.017916708216080164, 0.008958354108040082, 0.5173146933096608, 0.428703827447839, 0.0319054847206874, 0.010031418776810012, 0.011981972427856404, 0.10893284597109898, 0.8349241642612445, 0.026977099785946142, 0.014342255582401747, 0.015025220133944686, 0.7667319674062789, 0.18500975444017057, 0.02834975341670275, 0.005706768544920684, 0.014174876708351375, 0.016825818387022323, 0.9422458296732501, 0.016825818387022323, 0.008412909193511162, 0.008412909193511162, 0.08942732745473857, 0.8258105952871646, 0.06191122669943439, 0.0036032989084326893, 0.01932678505432079, 0.27932787286983557, 0.0665066363975799, 0.03990398183854794, 0.03990398183854794, 0.585258400298703, 0.45607211911685797, 0.4209076800260722, 0.02930369924232148, 0.03463164455910721, 0.059140193016321535, 0.10792068616187504, 0.03597356205395835, 0.017986781026979176, 0.017986781026979176, 0.7914183651870836, 0.07052423092670855, 0.9067401119148243, 0.004477728947727527, 0.008395741776989114, 0.010074890132386936, 0.7852352262480436, 0.14799906733399343, 0.016480245489156473, 0.012279398599763647, 0.03780762200453544, 0.06789409707727505, 0.2796590189135377, 0.24086239201223766, 0.4025150041009878, 0.009699156725325007, 0.03218315982234187, 0.021455439881561247, 0.9225839149071337, 0.010727719940780624, 0.010727719940780624, 0.04809172568782828, 0.9032500479186658, 0.03628739301899771, 0.006120765087541781, 0.006120765087541781, 0.08512982862486926, 0.8290182139132777, 0.06318229468252015, 0.0033253839306589556, 0.019619765190887838, 0.030190337509323005, 0.030190337509323005, 0.9057101252796902, 0.015095168754661503, 0.015095168754661503, 0.39005521660914727, 0.5798483176778406, 0.01395868596234755, 0.012382705289179279, 0.0038273816348372318, 0.43995633400916134, 0.49381678210062663, 0.03715506846951346, 0.016129332048781038, 0.012817058503049218, 0.510977392634682, 0.3779765784752241, 0.10288004154099244, 0.005965477693916862, 0.002151483758461819, 0.05364912797983821, 0.07153217063978429, 0.8583860476774113, 0.017883042659946072, 0.017883042659946072, 0.686837955255176, 0.2592951756482494, 0.0437928434172277, 0.0050197330399193805, 0.0051928272826752215, 0.1172373657629342, 0.6896315633113776, 0.010344473449670663, 0.17413196973612285, 0.008620394541392221, 0.9210840462069041, 0.02791163776384558, 0.006977909440961395, 0.006977909440961395, 0.03837850192528767, 0.04597125731489101, 0.04597125731489101, 0.8734538889829292, 0.022985628657445505, 0.022985628657445505, 0.06144333159027449, 0.06144333159027449, 0.030721665795137246, 0.030721665795137246, 0.7987633106735684, 0.6645111934310667, 0.25636118462132246, 0.010442102561317149, 0.05765856631683817, 0.011047441840234085, 0.019771317732245438, 0.9622041296359446, 0.006590439244081812, 0.006590439244081812, 0.006590439244081812, 0.9001507291158634, 0.05539389102251467, 0.0028850984907559723, 0.01904165003898942, 0.022503768227896584, 0.11543688705028596, 0.05771844352514298, 0.02885922176257149, 0.02885922176257149, 0.7503397658268587, 0.11912487767892951, 0.7780888351809103, 0.06973163571449532, 0.02847375125008559, 0.004358227232155958, 0.8850452402026522, 0.07466431038746654, 0.007284322964630882, 0.005463242223473162, 0.027316211117365808, 0.09816732673986099, 0.09816732673986099, 0.049083663369930496, 0.049083663369930496, 0.687171287179027, 0.18969031172423007, 0.3526294256411969, 0.01945541658710052, 0.4255872378428239, 0.012159635366937826, 0.05070195875514776, 0.06760261167353035, 0.8281319930007468, 0.033801305836765175, 0.016900652918382587, 0.4980785923139285, 0.44230297114697703, 0.02111669607966886, 0.034199866476854995, 0.0042462921464551506, 0.1457112013691969, 0.03122382886482791, 0.010407942954942637, 0.801411607530583, 0.010407942954942637, 0.6566383595327852, 0.21334032591159766, 0.08795462689038329, 0.021988656722595822, 0.02014228096726335, 0.0718291656940251, 0.8329662898903613, 0.0764497553000735, 0.0033604288043988352, 0.015541983220344613, 0.1616081943887423, 0.7394271480329739, 0.06931041095551664, 0.0031346417015057776, 0.026122014179214812, 0.9572323919507383, 0.01007613044158672, 0.006717420294391146, 0.006717420294391146, 0.02015226088317344, 0.28398578285684395, 0.07745066805186653, 0.01721125956708145, 0.6023940848478507, 0.01721125956708145, 0.9294560195442814, 0.024459368935375824, 0.012229684467687912, 0.012229684467687912, 0.012229684467687912, 0.4600894650887691, 0.4573544550585188, 0.04649517051425473, 0.03175650535123935, 0.004254460047055989, 0.6462907598428592, 0.27214119743934967, 0.06295271474186791, 0.012483541166942645, 0.006241770583471322, 0.07615414442389029, 0.038077072211945145, 0.019038536105972573, 0.019038536105972573, 0.8376955886627931, 0.5351282695138565, 0.10883964803671659, 0.013604956004589573, 0.013604956004589573, 0.33105392944501294, 0.945662706633609, 0.01673739303776299, 0.008368696518881495, 0.01673739303776299, 0.008368696518881495, 0.16030456487523911, 0.09083925342930216, 0.651905230492639, 0.09083925342930216, 0.005343485495841303, 0.07744796484393948, 0.07744796484393948, 0.03872398242196974, 0.7744796484393949, 0.03872398242196974, 0.7581679323716941, 0.21677347710769634, 0.00943665634175295, 0.007818943826023873, 0.007818943826023873, 0.9567987978156594, 0.015946646630260988, 0.007973323315130494, 0.007973323315130494, 0.007973323315130494, 0.45410629207723313, 0.17341275878677512, 0.09405437764706447, 0.2733455350367811, 0.005878398602941529, 0.3038129643709183, 0.5686599373195145, 0.11050511629924183, 0.009741497855580547, 0.00730612339168541, 0.07612032204161519, 0.038060161020807594, 0.019030080510403797, 0.019030080510403797, 0.8373235424577671, 0.10016529684127863, 0.8262861716210121, 0.03194125564907647, 0.0038763659768296685, 0.03767827729478438, 0.7407539215337055, 0.23222359920557184, 0.009708783243622777, 0.004985591395373859, 0.012332778714872176, 0.5307829831862044, 0.25510879542436576, 0.19488157500748093, 0.0141999137568265, 0.004896521985112586, 0.07504111385014686, 0.07504111385014686, 0.03752055692507343, 0.03752055692507343, 0.7504111385014687, 0.5446268184326313, 0.40550522745947165, 0.02497346592059176, 0.011403409096160621, 0.013456022733469533, 0.5096685801567977, 0.44452622659960195, 0.01893673068523134, 0.011145618631879017, 0.01579864388596443, 0.04665322688559189, 0.01696480977657887, 0.012723607332434153, 0.012723607332434153, 0.916099727935259, 0.07617234940406072, 0.03808617470203036, 0.01904308735101518, 0.01904308735101518, 0.8378958434446678, 0.027387703352501777, 0.09585696173375621, 0.013693851676250889, 0.849018803927555, 0.013693851676250889, 0.5358970357760736, 0.38539994846303066, 0.05460211784600198, 0.013991792698038009, 0.010124142683946201, 0.020043708150244154, 0.015032781112683115, 0.010021854075122077, 0.9520761371365973, 0.005010927037561039, 0.023782669103979817, 0.015855112735986544, 0.015855112735986544, 0.9354516514232061, 0.007927556367993272, 0.17538533460931152, 0.07015413384372461, 0.02338471128124154, 0.15200062332807, 0.5729254263904177, 0.4877400877606761, 0.4081870392584006, 0.0352604123274278, 0.05766727533352723, 0.010942886584374143, 0.2453135348596446, 0.5862098865647937, 0.012242134177256735, 0.10358728919217237, 0.05273534722510594, 0.046858363214361445, 0.03514377241077109, 0.011714590803590361, 0.8903089010728675, 0.011714590803590361, 0.39850613802687174, 0.3424483367924697, 0.23681560929635154, 0.008770948492457464, 0.013728441118629075, 0.03508477588147947, 0.9372647271195229, 0.005012110840211353, 0.010024221680422706, 0.005012110840211353, 0.19687571530995657, 0.032812619218326095, 0.016406309609163047, 0.016406309609163047, 0.7218776228031741, 0.42711375659619627, 0.13748296886143657, 0.37395367530310747, 0.05499318754457463, 0.007332425005943283, 0.9379070469030324, 0.02131606924779619, 0.010658034623898095, 0.02131606924779619, 0.010658034623898095, 0.13183526868272788, 0.026367053736545576, 0.026367053736545576, 0.7910116120963673, 0.013183526868272788, 0.07248087399179909, 0.036240436995899544, 0.018120218497949772, 0.8516502694036392, 0.018120218497949772, 0.7290888414469497, 0.17631034828081327, 0.04876669207767176, 0.03242181176592463, 0.013397442878481252, 0.6791643077145849, 0.2381320983154623, 0.048060044121330026, 0.02457205263346197, 0.01029858088314215, 0.015039559875417831, 0.9675450186518805, 0.005013186625139277, 0.005013186625139277, 0.005013186625139277, 0.9310239430336398, 0.03138282954045977, 0.010460943180153255, 0.010460943180153255, 0.010460943180153255, 0.23580711784688935, 0.0285826809511381, 0.7145670237784525, 0.007145670237784525, 0.007145670237784525, 0.08197320868797318, 0.05464880579198212, 0.01366220144799553, 0.7924076839837408, 0.05464880579198212, 0.5339899874785055, 0.2661005381488365, 0.18246894044491643, 0.012969606061035727, 0.0040250501568731565, 0.06793136255760134, 0.06793136255760134, 0.03396568127880067, 0.7812106694124155, 0.03396568127880067, 0.5701282600881215, 0.2890995792236199, 0.11476817466666318, 0.01824023029160751, 0.0077480624247536324, 0.6685220309770561, 0.20125953782596487, 0.005919398171351908, 0.06548334227058049, 0.05845405694210009, 0.9303610609935995, 0.023855411820348706, 0.011927705910174353, 0.011927705910174353, 0.011927705910174353, 0.038394754619904284, 0.947070613957639, 0.004266083846656031, 0.006399125769984047, 0.0021330419233280156, 0.9737752019250348, 0.010546301825902903, 0.007030867883935268, 0.007030867883935268, 0.003515433941967634, 0.13870613320870256, 0.7857515005552449, 0.05448276944053543, 0.0034988934503096146, 0.017494467251548074, 0.22506561911222356, 0.24382108737157554, 0.018755468259351964, 0.018755468259351964, 0.49701990887282704, 0.590250685319062, 0.32964185860176576, 0.06464998224101112, 0.01150550531407825, 0.0040177955065035156, 0.968324904842124, 0.007788135963877673, 0.01038418128517023, 0.01038418128517023, 0.0025960453212925576, 0.48349494272507365, 0.2656355614181235, 0.07198277803416775, 0.1656240910520674, 0.012740314696312876, 0.7498883056050728, 0.18504995655112264, 0.008073732833818613, 0.037139171035565625, 0.02002285742787016, 0.45595964823737817, 0.28717056572404387, 0.04506133877052816, 0.13289276179782883, 0.07866640497227798, 0.05611419226361325, 0.05611419226361325, 0.028057096131806625, 0.8136557878223921, 0.028057096131806625, 0.941150976257093, 0.02163565462659984, 0.01081782731329992, 0.01081782731329992, 0.01081782731329992, 0.13646398356193454, 0.7883046360075204, 0.05784133313411947, 0.0055416846116521645, 0.01177607979976085, 0.25659210411279565, 0.3379505761485601, 0.006258344002751113, 0.3942756721733201, 0.00938751600412667, 0.5128099004744329, 0.3176812317879952, 0.08837748553500617, 0.03417507756655124, 0.04703666589804902, 0.16827456106156807, 0.22837261858355665, 0.02403922300879544, 0.02403922300879544, 0.5529021292022951, 0.049252355852532265, 0.049252355852532265, 0.024626177926266132, 0.8372900494930485, 0.024626177926266132, 0.07727875114526267, 0.07727875114526267, 0.038639375572631335, 0.7727875114526267, 0.038639375572631335, 0.6101955888550676, 0.13573367617034277, 0.16209267131949415, 0.06877576895238349, 0.02302624863604029, 0.09817412527898543, 0.09817412527898543, 0.049087062639492716, 0.049087062639492716, 0.6872188769528981, 0.9520095843028684, 0.016413958350049454, 0.008206979175024727, 0.008206979175024727, 0.008206979175024727], \"Term\": [\"&\", \"&\", \"&\", \"&\", \"&\", \"*\", \"*\", \"*\", \"*\", \"*\", \"--\", \"--\", \"--\", \"--\", \"--\", \"ab\", \"ab\", \"ab\", \"ab\", \"ab\", \"accenture\", \"accenture\", \"accenture\", \"accenture\", \"accenture\", \"access\", \"access\", \"access\", \"access\", \"access\", \"accuracy\", \"accuracy\", \"accuracy\", \"accuracy\", \"accuracy\", \"across\", \"across\", \"across\", \"across\", \"across\", \"adt\", \"adt\", \"adt\", \"adt\", \"adt\", \"advanced\", \"advanced\", \"advanced\", \"advanced\", \"advanced\", \"aerospace\", \"aerospace\", \"aerospace\", \"aerospace\", \"aerospace\", \"aetna\", \"aetna\", \"aetna\", \"aetna\", \"aetna\", \"age\", \"age\", \"age\", \"age\", \"age\", \"algorithm\", \"algorithm\", \"algorithm\", \"algorithm\", \"algorithm\", \"allen\", \"allen\", \"allen\", \"allen\", \"allen\", \"allstate\", \"allstate\", \"allstate\", \"allstate\", \"allstate\", \"amazon\", \"amazon\", \"amazon\", \"amazon\", \"amazon\", \"ambiguity\", \"ambiguity\", \"ambiguity\", \"ambiguity\", \"ambiguity\", \"america\", \"america\", \"america\", \"america\", \"america\", \"analytical\", \"analytical\", \"analytical\", \"analytical\", \"analytical\", \"andor\", \"andor\", \"andor\", \"andor\", \"andor\", \"announcement\", \"announcement\", \"announcement\", \"announcement\", \"announcement\", \"answer\", \"answer\", \"answer\", \"answer\", \"answer\", \"apple\", \"apple\", \"apple\", \"apple\", \"apple\", \"applicant\", \"applicant\", \"applicant\", \"applicant\", \"applicant\", \"application\", \"application\", \"application\", \"application\", \"application\", \"apply\", \"apply\", \"apply\", \"apply\", \"apply\", \"appointment\", \"appointment\", \"appointment\", \"appointment\", \"appointment\", \"approach\", \"approach\", \"approach\", \"approach\", \"approach\", \"artificial\", \"artificial\", \"artificial\", \"artificial\", \"artificial\", \"asiapacific\", \"asiapacific\", \"asiapacific\", \"asiapacific\", \"asiapacific\", \"associationrule\", \"associationrule\", \"associationrule\", \"associationrule\", \"associationrule\", \"attached\", \"attached\", \"attached\", \"attached\", \"attached\", \"aws\", \"aws\", \"aws\", \"aws\", \"aws\", \"azure\", \"azure\", \"azure\", \"azure\", \"azure\", \"backed\", \"backed\", \"backed\", \"backed\", \"backed\", \"batch\", \"batch\", \"batch\", \"batch\", \"batch\", \"battelle\", \"battelle\", \"battelle\", \"battelle\", \"battelle\", \"benefit\", \"benefit\", \"benefit\", \"benefit\", \"benefit\", \"best\", \"best\", \"best\", \"best\", \"best\", \"big\", \"big\", \"big\", \"big\", \"big\", \"biomarker\", \"biomarker\", \"biomarker\", \"biomarker\", \"biomarker\", \"bird\", \"bird\", \"bird\", \"bird\", \"bird\", \"bootcamps\", \"bootcamps\", \"bootcamps\", \"bootcamps\", \"bootcamps\", \"booz\", \"booz\", \"booz\", \"booz\", \"booz\", \"bowlthe\", \"bowlthe\", \"bowlthe\", \"bowlthe\", \"bowlthe\", \"brand\", \"brand\", \"brand\", \"brand\", \"brand\", \"build\", \"build\", \"build\", \"build\", \"build\", \"building\", \"building\", \"building\", \"building\", \"building\", \"bull\", \"bull\", \"bull\", \"bull\", \"bull\", \"businessfirst\", \"businessfirst\", \"businessfirst\", \"businessfirst\", \"businessfirst\", \"ca\", \"ca\", \"ca\", \"ca\", \"ca\", \"call\", \"call\", \"call\", \"call\", \"call\", \"cancer\", \"cancer\", \"cancer\", \"cancer\", \"cancer\", \"candidate\", \"candidate\", \"candidate\", \"candidate\", \"candidate\", \"capture\", \"capture\", \"capture\", \"capture\", \"capture\", \"career\", \"career\", \"career\", \"career\", \"career\", \"carmax\", \"carmax\", \"carmax\", \"carmax\", \"carmax\", \"catered\", \"catered\", \"catered\", \"catered\", \"catered\", \"ccb\", \"ccb\", \"ccb\", \"ccb\", \"ccb\", \"celonis\", \"celonis\", \"celonis\", \"celonis\", \"celonis\", \"certification\", \"certification\", \"certification\", \"certification\", \"certification\", \"cgi\", \"cgi\", \"cgi\", \"cgi\", \"cgi\", \"chance\", \"chance\", \"chance\", \"chance\", \"chance\", \"change\", \"change\", \"change\", \"change\", \"change\", \"characteristicto\", \"characteristicto\", \"characteristicto\", \"characteristicto\", \"characteristicto\", \"chase\", \"chase\", \"chase\", \"chase\", \"chase\", \"cisco\", \"cisco\", \"cisco\", \"cisco\", \"cisco\", \"citizenship\", \"citizenship\", \"citizenship\", \"citizenship\", \"citizenship\", \"clearance\", \"clearance\", \"clearance\", \"clearance\", \"clearance\", \"client\", \"client\", \"client\", \"client\", \"client\", \"clinical\", \"clinical\", \"clinical\", \"clinical\", \"clinical\", \"closer\", \"closer\", \"closer\", \"closer\", \"closer\", \"cloud\", \"cloud\", \"cloud\", \"cloud\", \"cloud\", \"code\", \"code\", \"code\", \"code\", \"code\", \"cognizant\", \"cognizant\", \"cognizant\", \"cognizant\", \"cognizant\", \"collegeuniversity\", \"collegeuniversity\", \"collegeuniversity\", \"collegeuniversity\", \"collegeuniversity\", \"color\", \"color\", \"color\", \"color\", \"color\", \"comcast\", \"comcast\", \"comcast\", \"comcast\", \"comcast\", \"complex\", \"complex\", \"complex\", \"complex\", \"complex\", \"conduent\", \"conduent\", \"conduent\", \"conduent\", \"conduent\", \"consideration\", \"consideration\", \"consideration\", \"consideration\", \"consideration\", \"consumer\", \"consumer\", \"consumer\", \"consumer\", \"consumer\", \"contacted\", \"contacted\", \"contacted\", \"contacted\", \"contacted\", \"content\", \"content\", \"content\", \"content\", \"content\", \"contract\", \"contract\", \"contract\", \"contract\", \"contract\", \"conversion\", \"conversion\", \"conversion\", \"conversion\", \"conversion\", \"convoy\", \"convoy\", \"convoy\", \"convoy\", \"convoy\", \"creed\", \"creed\", \"creed\", \"creed\", \"creed\", \"crisis\", \"crisis\", \"crisis\", \"crisis\", \"crisis\", \"cummins\", \"cummins\", \"cummins\", \"cummins\", \"cummins\", \"customer\", \"customer\", \"customer\", \"customer\", \"customer\", \"cyber\", \"cyber\", \"cyber\", \"cyber\", \"cyber\", \"datarich\", \"datarich\", \"datarich\", \"datarich\", \"datarich\", \"decided\", \"decided\", \"decided\", \"decided\", \"decided\", \"decision\", \"decision\", \"decision\", \"decision\", \"decision\", \"defense\", \"defense\", \"defense\", \"defense\", \"defense\", \"define\", \"define\", \"define\", \"define\", \"define\", \"delaware\", \"delaware\", \"delaware\", \"delaware\", \"delaware\", \"deloitte\", \"deloitte\", \"deloitte\", \"deloitte\", \"deloitte\", \"deserve\", \"deserve\", \"deserve\", \"deserve\", \"deserve\", \"design\", \"design\", \"design\", \"design\", \"design\", \"directorate\", \"directorate\", \"directorate\", \"directorate\", \"directorate\", \"disability\", \"disability\", \"disability\", \"disability\", \"disability\", \"disease\", \"disease\", \"disease\", \"disease\", \"disease\", \"dli\", \"dli\", \"dli\", \"dli\", \"dli\", \"drive\", \"drive\", \"drive\", \"drive\", \"drive\", \"economics\", \"economics\", \"economics\", \"economics\", \"economics\", \"editor\", \"editor\", \"editor\", \"editor\", \"editor\", \"editorial\", \"editorial\", \"editorial\", \"editorial\", \"editorial\", \"eighty\", \"eighty\", \"eighty\", \"eighty\", \"eighty\", \"elasticity\", \"elasticity\", \"elasticity\", \"elasticity\", \"elasticity\", \"eliassen\", \"eliassen\", \"eliassen\", \"eliassen\", \"eliassen\", \"eligibility\", \"eligibility\", \"eligibility\", \"eligibility\", \"eligibility\", \"employee\", \"employee\", \"employee\", \"employee\", \"employee\", \"employer\", \"employer\", \"employer\", \"employer\", \"employer\", \"employment\", \"employment\", \"employment\", \"employment\", \"employment\", \"equal\", \"equal\", \"equal\", \"equal\", \"equal\", \"equifax\", \"equifax\", \"equifax\", \"equifax\", \"equifax\", \"equity\", \"equity\", \"equity\", \"equity\", \"equity\", \"estate\", \"estate\", \"estate\", \"estate\", \"estate\", \"etc\", \"etc\", \"etc\", \"etc\", \"etc\", \"ethic\", \"ethic\", \"ethic\", \"ethic\", \"ethic\", \"eventbrite\", \"eventbrite\", \"eventbrite\", \"eventbrite\", \"eventbrite\", \"everify\", \"everify\", \"everify\", \"everify\", \"everify\", \"ext\", \"ext\", \"ext\", \"ext\", \"ext\", \"facebooks\", \"facebooks\", \"facebooks\", \"facebooks\", \"facebooks\", \"fargo\", \"fargo\", \"fargo\", \"fargo\", \"fargo\", \"fascinated\", \"fascinated\", \"fascinated\", \"fascinated\", \"fascinated\", \"fearlessly\", \"fearlessly\", \"fearlessly\", \"fearlessly\", \"fearlessly\", \"federal\", \"federal\", \"federal\", \"federal\", \"federal\", \"find\", \"find\", \"find\", \"find\", \"find\", \"firm\", \"firm\", \"firm\", \"firm\", \"firm\", \"forecasting\", \"forecasting\", \"forecasting\", \"forecasting\", \"forecasting\", \"fox\", \"fox\", \"fox\", \"fox\", \"fox\", \"frank\", \"frank\", \"frank\", \"frank\", \"frank\", \"freshly\", \"freshly\", \"freshly\", \"freshly\", \"freshly\", \"full\", \"full\", \"full\", \"full\", \"full\", \"game\", \"game\", \"game\", \"game\", \"game\", \"geared\", \"geared\", \"geared\", \"geared\", \"geared\", \"gender\", \"gender\", \"gender\", \"gender\", \"gender\", \"genetic\", \"genetic\", \"genetic\", \"genetic\", \"genetic\", \"genomic\", \"genomic\", \"genomic\", \"genomic\", \"genomic\", \"get\", \"get\", \"get\", \"get\", \"get\", \"google\", \"google\", \"google\", \"google\", \"google\", \"government\", \"government\", \"government\", \"government\", \"government\", \"great\", \"great\", \"great\", \"great\", \"great\", \"grumman\", \"grumman\", \"grumman\", \"grumman\", \"grumman\", \"hadoop\", \"hadoop\", \"hadoop\", \"hadoop\", \"hadoop\", \"happy\", \"happy\", \"happy\", \"happy\", \"happy\", \"help\", \"help\", \"help\", \"help\", \"help\", \"hortonworks\", \"hortonworks\", \"hortonworks\", \"hortonworks\", \"hortonworks\", \"httpstextiocomcareers\", \"httpstextiocomcareers\", \"httpstextiocomcareers\", \"httpstextiocomcareers\", \"httpstextiocomcareers\", \"hyperintelligent\", \"hyperintelligent\", \"hyperintelligent\", \"hyperintelligent\", \"hyperintelligent\", \"ibkr\", \"ibkr\", \"ibkr\", \"ibkr\", \"ibkr\", \"ibm\", \"ibm\", \"ibm\", \"ibm\", \"ibm\", \"ibmers\", \"ibmers\", \"ibmers\", \"ibmers\", \"ibmers\", \"ibms\", \"ibms\", \"ibms\", \"ibms\", \"ibms\", \"iceberg\", \"iceberg\", \"iceberg\", \"iceberg\", \"iceberg\", \"icf\", \"icf\", \"icf\", \"icf\", \"icf\", \"identify\", \"identify\", \"identify\", \"identify\", \"identify\", \"identity\", \"identity\", \"identity\", \"identity\", \"identity\", \"im\", \"im\", \"im\", \"im\", \"im\", \"increasingly\", \"increasingly\", \"increasingly\", \"increasingly\", \"increasingly\", \"industry\", \"industry\", \"industry\", \"industry\", \"industry\", \"inoffice\", \"inoffice\", \"inoffice\", \"inoffice\", \"inoffice\", \"insight\", \"insight\", \"insight\", \"insight\", \"insight\", \"institute\", \"institute\", \"institute\", \"institute\", \"institute\", \"intelligence\", \"intelligence\", \"intelligence\", \"intelligence\", \"intelligence\", \"iqvia\", \"iqvia\", \"iqvia\", \"iqvia\", \"iqvia\", \"javascala\", \"javascala\", \"javascala\", \"javascala\", \"javascala\", \"jefferson\", \"jefferson\", \"jefferson\", \"jefferson\", \"jefferson\", \"jpmorgan\", \"jpmorgan\", \"jpmorgan\", \"jpmorgan\", \"jpmorgan\", \"key\", \"key\", \"key\", \"key\", \"key\", \"kk\", \"kk\", \"kk\", \"kk\", \"kk\", \"kpmg\", \"kpmg\", \"kpmg\", \"kpmg\", \"kpmg\", \"kpmgs\", \"kpmgs\", \"kpmgs\", \"kpmgs\", \"kpmgs\", \"language\", \"language\", \"language\", \"language\", \"language\", \"large\", \"large\", \"large\", \"large\", \"large\", \"law\", \"law\", \"law\", \"law\", \"law\", \"lead\", \"lead\", \"lead\", \"lead\", \"lead\", \"legend\", \"legend\", \"legend\", \"legend\", \"legend\", \"leidos\", \"leidos\", \"leidos\", \"leidos\", \"leidos\", \"level\", \"level\", \"level\", \"level\", \"level\", \"lighthouse\", \"lighthouse\", \"lighthouse\", \"lighthouse\", \"lighthouse\", \"litc\", \"litc\", \"litc\", \"litc\", \"litc\", \"loaded\", \"loaded\", \"loaded\", \"loaded\", \"loaded\", \"location\", \"location\", \"location\", \"location\", \"location\", \"lockheed\", \"lockheed\", \"lockheed\", \"lockheed\", \"lockheed\", \"looking\", \"looking\", \"looking\", \"looking\", \"looking\", \"lunch\", \"lunch\", \"lunch\", \"lunch\", \"lunch\", \"lyft\", \"lyft\", \"lyft\", \"lyft\", \"lyft\", \"make\", \"make\", \"make\", \"make\", \"make\", \"management\", \"management\", \"management\", \"management\", \"management\", \"marathon\", \"marathon\", \"marathon\", \"marathon\", \"marathon\", \"marital\", \"marital\", \"marital\", \"marital\", \"marital\", \"market\", \"market\", \"market\", \"market\", \"market\", \"marketing\", \"marketing\", \"marketing\", \"marketing\", \"marketing\", \"martin\", \"martin\", \"martin\", \"martin\", \"martin\", \"may\", \"may\", \"may\", \"may\", \"may\", \"medicine\", \"medicine\", \"medicine\", \"medicine\", \"medicine\", \"merchandising\", \"merchandising\", \"merchandising\", \"merchandising\", \"merchandising\", \"method\", \"method\", \"method\", \"method\", \"method\", \"migration\", \"migration\", \"migration\", \"migration\", \"migration\", \"modeling\", \"modeling\", \"modeling\", \"modeling\", \"modeling\", \"molecular\", \"molecular\", \"molecular\", \"molecular\", \"molecular\", \"monster\", \"monster\", \"monster\", \"monster\", \"monster\", \"mortgage\", \"mortgage\", \"mortgage\", \"mortgage\", \"mortgage\", \"must\", \"must\", \"must\", \"must\", \"must\", \"national\", \"national\", \"national\", \"national\", \"national\", \"nato\", \"nato\", \"nato\", \"nato\", \"nato\", \"nau\", \"nau\", \"nau\", \"nau\", \"nau\", \"nbc\", \"nbc\", \"nbc\", \"nbc\", \"nbc\", \"netsuite\", \"netsuite\", \"netsuite\", \"netsuite\", \"netsuite\", \"newsroom\", \"newsroom\", \"newsroom\", \"newsroom\", \"newsroom\", \"nigel\", \"nigel\", \"nigel\", \"nigel\", \"nigel\", \"nike\", \"nike\", \"nike\", \"nike\", \"nike\", \"nonpartisan\", \"nonpartisan\", \"nonpartisan\", \"nonpartisan\", \"nonpartisan\", \"north\", \"north\", \"north\", \"north\", \"north\", \"northrop\", \"northrop\", \"northrop\", \"northrop\", \"northrop\", \"notebookslabs\", \"notebookslabs\", \"notebookslabs\", \"notebookslabs\", \"notebookslabs\", \"nsa\", \"nsa\", \"nsa\", \"nsa\", \"nsa\", \"nvidia\", \"nvidia\", \"nvidia\", \"nvidia\", \"nvidia\", \"offline\", \"offline\", \"offline\", \"offline\", \"offline\", \"oncology\", \"oncology\", \"oncology\", \"oncology\", \"oncology\", \"one\", \"one\", \"one\", \"one\", \"one\", \"onsite\", \"onsite\", \"onsite\", \"onsite\", \"onsite\", \"optimization\", \"optimization\", \"optimization\", \"optimization\", \"optimization\", \"organization\", \"organization\", \"organization\", \"organization\", \"organization\", \"organizer\", \"organizer\", \"organizer\", \"organizer\", \"organizer\", \"orientation\", \"orientation\", \"orientation\", \"orientation\", \"orientation\", \"origin\", \"origin\", \"origin\", \"origin\", \"origin\", \"pace\", \"pace\", \"pace\", \"pace\", \"pace\", \"partner\", \"partner\", \"partner\", \"partner\", \"partner\", \"people\", \"people\", \"people\", \"people\", \"people\", \"peopleno\", \"peopleno\", \"peopleno\", \"peopleno\", \"peopleno\", \"petabyte\", \"petabyte\", \"petabyte\", \"petabyte\", \"petabyte\", \"pfizer\", \"pfizer\", \"pfizer\", \"pfizer\", \"pfizer\", \"pl\", \"pl\", \"pl\", \"pl\", \"pl\", \"placing\", \"placing\", \"placing\", \"placing\", \"placing\", \"planet\", \"planet\", \"planet\", \"planet\", \"planet\", \"platform\", \"platform\", \"platform\", \"platform\", \"platform\", \"platformdiverse\", \"platformdiverse\", \"platformdiverse\", \"platformdiverse\", \"platformdiverse\", \"please\", \"please\", \"please\", \"please\", \"please\", \"populate\", \"populate\", \"populate\", \"populate\", \"populate\", \"position\", \"position\", \"position\", \"position\", \"position\", \"predictive\", \"predictive\", \"predictive\", \"predictive\", \"predictive\", \"preferred\", \"preferred\", \"preferred\", \"preferred\", \"preferred\", \"pricing\", \"pricing\", \"pricing\", \"pricing\", \"pricing\", \"process\", \"process\", \"process\", \"process\", \"process\", \"processing\", \"processing\", \"processing\", \"processing\", \"processing\", \"production\", \"production\", \"production\", \"production\", \"production\", \"professional\", \"professional\", \"professional\", \"professional\", \"professional\", \"protected\", \"protected\", \"protected\", \"protected\", \"protected\", \"provide\", \"provide\", \"provide\", \"provide\", \"provide\", \"public\", \"public\", \"public\", \"public\", \"public\", \"publisher\", \"publisher\", \"publisher\", \"publisher\", \"publisher\", \"puzzle\", \"puzzle\", \"puzzle\", \"puzzle\", \"puzzle\", \"qualification\", \"qualification\", \"qualification\", \"qualification\", \"qualification\", \"qualified\", \"qualified\", \"qualified\", \"qualified\", \"qualified\", \"quantitative\", \"quantitative\", \"quantitative\", \"quantitative\", \"quantitative\", \"questionnaire\", \"questionnaire\", \"questionnaire\", \"questionnaire\", \"questionnaire\", \"race\", \"race\", \"race\", \"race\", \"race\", \"reached\", \"reached\", \"reached\", \"reached\", \"reached\", \"read\", \"read\", \"read\", \"read\", \"read\", \"readership\", \"readership\", \"readership\", \"readership\", \"readership\", \"receive\", \"receive\", \"receive\", \"receive\", \"receive\", \"recommendation\", \"recommendation\", \"recommendation\", \"recommendation\", \"recommendation\", \"recruitment\", \"recruitment\", \"recruitment\", \"recruitment\", \"recruitment\", \"refactor\", \"refactor\", \"refactor\", \"refactor\", \"refactor\", \"regard\", \"regard\", \"regard\", \"regard\", \"regard\", \"religion\", \"religion\", \"religion\", \"religion\", \"religion\", \"representationvisualizations\", \"representationvisualizations\", \"representationvisualizations\", \"representationvisualizations\", \"representationvisualizations\", \"required\", \"required\", \"required\", \"required\", \"required\", \"requirement\", \"requirement\", \"requirement\", \"requirement\", \"requirement\", \"research\", \"research\", \"research\", \"research\", \"research\", \"restructure\", \"restructure\", \"restructure\", \"restructure\", \"restructure\", \"result\", \"result\", \"result\", \"result\", \"result\", \"resume\", \"resume\", \"resume\", \"resume\", \"resume\", \"retailer\", \"retailer\", \"retailer\", \"retailer\", \"retailer\", \"retrievalextraction\", \"retrievalextraction\", \"retrievalextraction\", \"retrievalextraction\", \"retrievalextraction\", \"riot\", \"riot\", \"riot\", \"riot\", \"riot\", \"role\", \"role\", \"role\", \"role\", \"role\", \"saic\", \"saic\", \"saic\", \"saic\", \"saic\", \"sale\", \"sale\", \"sale\", \"sale\", \"sale\", \"salesforceorg\", \"salesforceorg\", \"salesforceorg\", \"salesforceorg\", \"salesforceorg\", \"security\", \"security\", \"security\", \"security\", \"security\", \"segmentation\", \"segmentation\", \"segmentation\", \"segmentation\", \"segmentation\", \"selftest\", \"selftest\", \"selftest\", \"selftest\", \"selftest\", \"send\", \"send\", \"send\", \"send\", \"send\", \"sequencing\", \"sequencing\", \"sequencing\", \"sequencing\", \"sequencing\", \"service\", \"service\", \"service\", \"service\", \"service\", \"servicing\", \"servicing\", \"servicing\", \"servicing\", \"servicing\", \"set\", \"set\", \"set\", \"set\", \"set\", \"sex\", \"sex\", \"sex\", \"sex\", \"sex\", \"sexual\", \"sexual\", \"sexual\", \"sexual\", \"sexual\", \"shopping\", \"shopping\", \"shopping\", \"shopping\", \"shopping\", \"simply\", \"simply\", \"simply\", \"simply\", \"simply\", \"siri\", \"siri\", \"siri\", \"siri\", \"siri\", \"software\", \"software\", \"software\", \"software\", \"software\", \"source\", \"source\", \"source\", \"source\", \"source\", \"specialinterest\", \"specialinterest\", \"specialinterest\", \"specialinterest\", \"specialinterest\", \"sport\", \"sport\", \"sport\", \"sport\", \"sport\", \"spotify\", \"spotify\", \"spotify\", \"spotify\", \"spotify\", \"ssrs\", \"ssrs\", \"ssrs\", \"ssrs\", \"ssrs\", \"stabilization\", \"stabilization\", \"stabilization\", \"stabilization\", \"stabilization\", \"stakeholder\", \"stakeholder\", \"stakeholder\", \"stakeholder\", \"stakeholder\", \"starbucks\", \"starbucks\", \"starbucks\", \"starbucks\", \"starbucks\", \"startup\", \"startup\", \"startup\", \"startup\", \"startup\", \"state\", \"state\", \"state\", \"state\", \"state\", \"statisticsbased\", \"statisticsbased\", \"statisticsbased\", \"statisticsbased\", \"statisticsbased\", \"status\", \"status\", \"status\", \"status\", \"status\", \"strategy\", \"strategy\", \"strategy\", \"strategy\", \"strategy\", \"structured\", \"structured\", \"structured\", \"structured\", \"structured\", \"stubhub\", \"stubhub\", \"stubhub\", \"stubhub\", \"stubhub\", \"support\", \"support\", \"support\", \"support\", \"support\", \"system\", \"system\", \"system\", \"system\", \"system\", \"taboola\", \"taboola\", \"taboola\", \"taboola\", \"taboola\", \"taboolas\", \"taboolas\", \"taboolas\", \"taboolas\", \"taboolas\", \"tacoma\", \"tacoma\", \"tacoma\", \"tacoma\", \"tacoma\", \"technical\", \"technical\", \"technical\", \"technical\", \"technical\", \"textio\", \"textio\", \"textio\", \"textio\", \"textio\", \"textios\", \"textios\", \"textios\", \"textios\", \"textios\", \"ticket\", \"ticket\", \"ticket\", \"ticket\", \"ticket\", \"time\", \"time\", \"time\", \"time\", \"time\", \"today\", \"today\", \"today\", \"today\", \"today\", \"tpg\", \"tpg\", \"tpg\", \"tpg\", \"tpg\", \"training\", \"training\", \"training\", \"training\", \"training\", \"transcript\", \"transcript\", \"transcript\", \"transcript\", \"transcript\", \"tribune\", \"tribune\", \"tribune\", \"tribune\", \"tribune\", \"turn\", \"turn\", \"turn\", \"turn\", \"turn\", \"tv\", \"tv\", \"tv\", \"tv\", \"tv\", \"uber\", \"uber\", \"uber\", \"uber\", \"uber\", \"ubers\", \"ubers\", \"ubers\", \"ubers\", \"ubers\", \"understand\", \"understand\", \"understand\", \"understand\", \"understand\", \"understanding\", \"understanding\", \"understanding\", \"understanding\", \"understanding\", \"unitedhealth\", \"unitedhealth\", \"unitedhealth\", \"unitedhealth\", \"unitedhealth\", \"universal\", \"universal\", \"universal\", \"universal\", \"universal\", \"unlocking\", \"unlocking\", \"unlocking\", \"unlocking\", \"unlocking\", \"unrivalled\", \"unrivalled\", \"unrivalled\", \"unrivalled\", \"unrivalled\", \"unstructured\", \"unstructured\", \"unstructured\", \"unstructured\", \"unstructured\", \"upmost\", \"upmost\", \"upmost\", \"upmost\", \"upmost\", \"use\", \"use\", \"use\", \"use\", \"use\", \"user\", \"user\", \"user\", \"user\", \"user\", \"van\", \"van\", \"van\", \"van\", \"van\", \"verification\", \"verification\", \"verification\", \"verification\", \"verification\", \"verizon\", \"verizon\", \"verizon\", \"verizon\", \"verizon\", \"veteran\", \"veteran\", \"veteran\", \"veteran\", \"veteran\", \"visitor\", \"visitor\", \"visitor\", \"visitor\", \"visitor\", \"visualization\", \"visualization\", \"visualization\", \"visualization\", \"visualization\", \"walmart\", \"walmart\", \"walmart\", \"walmart\", \"walmart\", \"want\", \"want\", \"want\", \"want\", \"want\", \"way\", \"way\", \"way\", \"way\", \"way\", \"web\", \"web\", \"web\", \"web\", \"web\", \"wellfunded\", \"wellfunded\", \"wellfunded\", \"wellfunded\", \"wellfunded\", \"wework\", \"wework\", \"wework\", \"wework\", \"wework\", \"without\", \"without\", \"without\", \"without\", \"without\", \"worked\", \"worked\", \"worked\", \"worked\", \"worked\", \"world\", \"world\", \"world\", \"world\", \"world\", \"writer\", \"writer\", \"writer\", \"writer\", \"writer\", \"wwwjeffersonfrankcom\", \"wwwjeffersonfrankcom\", \"wwwjeffersonfrankcom\", \"wwwjeffersonfrankcom\", \"wwwjeffersonfrankcom\", \"wwwnigelfrankcom\", \"wwwnigelfrankcom\", \"wwwnigelfrankcom\", \"wwwnigelfrankcom\", \"wwwnigelfrankcom\", \"youll\", \"youll\", \"youll\", \"youll\", \"youll\", \"zendesk\", \"zendesk\", \"zendesk\", \"zendesk\", \"zendesk\", \"zillow\", \"zillow\", \"zillow\", \"zillow\", \"zillow\"]}, \"R\": 30, \"lambda.step\": 0.01, \"plot.opts\": {\"xlab\": \"PC1\", \"ylab\": \"PC2\"}, \"topic.order\": [1, 3, 5, 2, 4]};\n",
       "\n",
       "function LDAvis_load_lib(url, callback){\n",
       "  var s = document.createElement('script');\n",
       "  s.src = url;\n",
       "  s.async = true;\n",
       "  s.onreadystatechange = s.onload = callback;\n",
       "  s.onerror = function(){console.warn(\"failed to load library \" + url);};\n",
       "  document.getElementsByTagName(\"head\")[0].appendChild(s);\n",
       "}\n",
       "\n",
       "if(typeof(LDAvis) !== \"undefined\"){\n",
       "   // already loaded: just create the visualization\n",
       "   !function(LDAvis){\n",
       "       new LDAvis(\"#\" + \"ldavis_el130418592499215368743987870\", ldavis_el130418592499215368743987870_data);\n",
       "   }(LDAvis);\n",
       "}else if(typeof define === \"function\" && define.amd){\n",
       "   // require.js is available: use it to load d3/LDAvis\n",
       "   require.config({paths: {d3: \"https://d3js.org/d3.v5\"}});\n",
       "   require([\"d3\"], function(d3){\n",
       "      window.d3 = d3;\n",
       "      LDAvis_load_lib(\"https://cdn.jsdelivr.net/gh/bmabey/pyLDAvis@3.3.1/pyLDAvis/js/ldavis.v3.0.0.js\", function(){\n",
       "        new LDAvis(\"#\" + \"ldavis_el130418592499215368743987870\", ldavis_el130418592499215368743987870_data);\n",
       "      });\n",
       "    });\n",
       "}else{\n",
       "    // require.js not available: dynamically load d3 & LDAvis\n",
       "    LDAvis_load_lib(\"https://d3js.org/d3.v5.js\", function(){\n",
       "         LDAvis_load_lib(\"https://cdn.jsdelivr.net/gh/bmabey/pyLDAvis@3.3.1/pyLDAvis/js/ldavis.v3.0.0.js\", function(){\n",
       "                 new LDAvis(\"#\" + \"ldavis_el130418592499215368743987870\", ldavis_el130418592499215368743987870_data);\n",
       "            })\n",
       "         });\n",
       "}\n",
       "</script>"
      ],
      "text/plain": [
       "PreparedData(topic_coordinates=              x         y  topics  cluster       Freq\n",
       "topic                                                \n",
       "0     -0.089155 -0.038875       1        1  51.350151\n",
       "2     -0.087752 -0.013754       2        1  35.868899\n",
       "4     -0.003977  0.104629       3        1   5.740914\n",
       "1      0.081508 -0.050971       4        1   4.478422\n",
       "3      0.099376 -0.001029       5        1   2.561614, topic_info=           Term          Freq         Total Category  logprob  loglift\n",
       "19        build   7069.000000   7069.000000  Default  30.0000  30.0000\n",
       "580    research  10225.000000  10225.000000  Default  29.0000  29.0000\n",
       "317      status   6449.000000   6449.000000  Default  28.0000  28.0000\n",
       "476         big   5112.000000   5112.000000  Default  27.0000  27.0000\n",
       "165       world   5442.000000   5442.000000  Default  26.0000  26.0000\n",
       "..          ...           ...           ...      ...      ...      ...\n",
       "442         set    120.107527   5957.617223   Topic5  -6.3192  -0.2395\n",
       "599     support    118.194193   8769.307420   Topic5  -6.3352  -0.6422\n",
       "238        help    114.284452   7022.889940   Topic5  -6.3689  -0.4537\n",
       "196     complex    109.056943   7511.725139   Topic5  -6.4157  -0.5678\n",
       "220  employment    107.374366   5188.864553   Topic5  -6.4312  -0.2134\n",
       "\n",
       "[440 rows x 6 columns], token_table=       Topic      Freq    Term\n",
       "term                          \n",
       "21537      1  0.950962       &\n",
       "21537      2  0.015463       &\n",
       "21537      3  0.007731       &\n",
       "21537      4  0.015463       &\n",
       "21537      5  0.007731       &\n",
       "...      ...       ...     ...\n",
       "12366      1  0.952010  zillow\n",
       "12366      2  0.016414  zillow\n",
       "12366      3  0.008207  zillow\n",
       "12366      4  0.008207  zillow\n",
       "12366      5  0.008207  zillow\n",
       "\n",
       "[1825 rows x 3 columns], R=30, lambda_step=0.01, plot_opts={'xlab': 'PC1', 'ylab': 'PC2'}, topic_order=[1, 3, 5, 2, 4])"
      ]
     },
     "execution_count": 72,
     "metadata": {},
     "output_type": "execute_result"
    }
   ],
   "source": [
    "import importlib\n",
    "pyLDAvis.enable_notebook()\n",
    "LDAvis_prepared = pyLDAvis.gensim_models.prepare(lda_model, corpus, id2word)\n",
    "LDAvis_prepared"
   ]
  },
  {
   "cell_type": "markdown",
   "id": "26c452dc",
   "metadata": {},
   "source": [
    "# Topic Modeling on Khoury Classes"
   ]
  },
  {
   "cell_type": "code",
   "execution_count": null,
   "id": "61efd432",
   "metadata": {},
   "outputs": [],
   "source": [
    "## Topic Modeling on Khoury Classes\n",
    "corpus_1 = df_courses['descriptions']\n",
    "X_train_counts_1 = count_vect.fit_transform(corpus_1)\n",
    "\n",
    "normalize_corpus = np.vectorize(normalize_document)\n",
    "\n",
    "norm_corpus_1 = normalize_corpus(corpus_1)\n",
    "\n",
    "#Tokenise the corpus\n",
    "tokenized_corp_1 = [word_tokenize(i) for i in norm_corpus_1]\n",
    "\n",
    "# Create Dictionary\n",
    "id2word_1 = corpora.Dictionary(tokenized_corp_1)\n",
    "\n",
    "#Remove words that don't feature 20 times and those that feature in over 50% of documents\n",
    "id2word_1.filter_extremes(no_below=1) #no_above\n",
    "\n",
    "texts = tokenized_corp_1\n",
    "\n",
    "# Term Document Frequency\n",
    "corpus_1 = [id2word_1.doc2bow(text) for text in texts]\n",
    "\n",
    "lda_model_1 = gensim.models.LdaMulticore(corpus=corpus_1,\n",
    "                                       id2word=id2word,\n",
    "                                       num_topics=5,\n",
    "                                       random_state=12,\n",
    "                                       chunksize=1000,\n",
    "                                       passes=10,\n",
    "                                       per_word_topics=True,\n",
    "                                       eta = 1.2)"
   ]
  },
  {
   "cell_type": "code",
   "execution_count": null,
   "id": "59ccd875",
   "metadata": {},
   "outputs": [],
   "source": [
    "# Print the Keyword in the topics\n",
    "pprint(lda_model_1.print_topics())\n",
    "doc_lda = lda_model_1[corpus_1]"
   ]
  },
  {
   "cell_type": "markdown",
   "id": "8b589a02",
   "metadata": {},
   "source": [
    "# Visualization compairing similarities of both models"
   ]
  },
  {
   "cell_type": "code",
   "execution_count": 82,
   "id": "82905a72",
   "metadata": {},
   "outputs": [
    {
     "data": {
      "application/vnd.plotly.v1+json": {
       "config": {
        "linkText": "Export to plot.ly",
        "plotlyServerURL": "https://plot.ly",
        "showLink": false
       },
       "data": [
        {
         "colorscale": [
          [
           0,
           "#30123b"
          ],
          [
           0.07142857142857142,
           "#4145ab"
          ],
          [
           0.14285714285714285,
           "#4675ed"
          ],
          [
           0.21428571428571427,
           "#39a2fc"
          ],
          [
           0.2857142857142857,
           "#1bcfd4"
          ],
          [
           0.35714285714285715,
           "#24eca6"
          ],
          [
           0.42857142857142855,
           "#61fc6c"
          ],
          [
           0.5,
           "#a4fc3b"
          ],
          [
           0.5714285714285714,
           "#d1e834"
          ],
          [
           0.6428571428571429,
           "#f3c63a"
          ],
          [
           0.7142857142857143,
           "#fe9b2d"
          ],
          [
           0.7857142857142857,
           "#f36315"
          ],
          [
           0.8571428571428571,
           "#d93806"
          ],
          [
           0.9285714285714286,
           "#b11901"
          ],
          [
           1,
           "#7a0402"
          ]
         ],
         "text": [
          [
           "+++ andor, method, master, predictive, big, analytic, research, well, analyze, member<br>--- managed, blackrocks, mathematics, health, action, reaching, receive, use, automation, country",
           "+++ method, master, big, design, application, etc, within, way, build<br>--- fulltime, secretary, ie, mathematics, health, action, incredible, script, use, essential",
           "+++ system, internal, predictive, big, service, database, lead, analytic, area, application<br>--- begin, managed, mathematics, health, use, country, process, academic, bank, combining",
           "+++ method, decision, internal, use, master, predictive, service, database, analytic, area<br>--- managed, mathematics, health, issuer, exerting, country, programming, employment, process, academic",
           "+++ software, internal, analytic, client, build, method, predictive, service, well, management<br>--- managed, increase, mathematics, health, use, also, automation, country, process, academic"
          ],
          [
           "+++ career, predictive, big, well, world<br>--- managed, dental, blackrocks, health, action, reaching, receive, market, also, automation",
           "+++ career, big, agency, also, etc, build<br>--- fulltime, secretary, dental, ie, health, action, incredible, script, market, essential",
           "+++ great, engineer, career, predictive, big, service, agency, get, well, contract<br>--- begin, managed, dental, health, market, also, country, programming, process, academic",
           "+++ startup, today, career, predictive, service, please, must, well, posted, professional<br>--- managed, dental, health, use, issuer, market, also, exerting, country, employment",
           "+++ great, software, set, career, predictive, big, service, agency, also, well<br>--- managed, dental, increase, health, market, automation, country, programming, process, academic"
          ],
          [
           "+++ receive, origin, andor, method, career, predictive, education, analytic, research, color<br>--- managed, without, blackrocks, mathematics, action, reaching, use, automation, country, employment",
           "+++ method, career, equal, education, program, design, application, within, etc, employer<br>--- fulltime, secretary, without, ie, mathematics, action, incredible, script, receive, use",
           "+++ system, career, predictive, service, security, database, analytic, regard, application, status<br>--- begin, managed, without, mathematics, receive, use, country, employment, process, academic",
           "+++ employment, method, use, career, predictive, orientation, service, professional, database, analytic<br>--- managed, without, mathematics, receive, issuer, exerting, country, programming, process, academic",
           "+++ software, career, analytic, client, health, method, predictive, service, color, management<br>--- managed, without, increase, mathematics, receive, use, also, automation, country, employment"
          ],
          [
           "+++ andor, predictive, big, member, plus, color, programming, chance, world<br>--- managed, blackrocks, critical, google, health, action, reaching, receive, sport, also",
           "+++ big, diversity, equal, design, also, creating, etc, employer, plus, form<br>--- fulltime, secretary, ie, critical, google, health, action, incredible, script, sport",
           "+++ system, predictive, big, status, programming, chance<br>--- begin, managed, critical, google, health, sport, also, country, employment, academic",
           "+++ employment, decision, today, predictive, status, plus, color, member, chance, algorithm<br>--- managed, critical, google, health, use, issuer, sport, also, exerting, country",
           "+++ set, system, unique, predictive, big, read, also, status, world, plus<br>--- managed, increase, critical, google, health, sport, automation, country, employment, academic"
          ],
          [
           "+++ artificial, andor, method, public, career, predictive, report, research, change, structured<br>--- managed, goal, access, blackrocks, action, reaching, receive, use, clinical, automation",
           "+++ method, career, study, etc, diverse, structured, health, build<br>--- fulltime, goal, secretary, access, ie, action, incredible, script, use, clinical",
           "+++ artificial, career, predictive, report, database, security, area, status, structured, client<br>--- begin, managed, goal, access, use, clinical, country, process, academic, youll",
           "+++ training, method, decision, use, career, predictive, report, database, area, status<br>--- managed, goal, access, issuer, clinical, exerting, country, programming, employment, process",
           "+++ artificial, software, set, method, career, predictive, report, database, management, area<br>--- managed, goal, access, increase, use, clinical, also, automation, country, process"
          ]
         ],
         "type": "heatmap",
         "z": [
          [
           0.9549676329862088,
           0.9779553596031965,
           0.937070938215103,
           0.937070938215103,
           0.8994677705499705
          ],
          [
           1,
           0.9945740640260445,
           0.9665831244778614,
           0.9722991689750693,
           0.9490662139219015
          ],
          [
           0.9549676329862088,
           0.9608062709966406,
           0.9490662139219015,
           0.9309749784296808,
           0.91858098284385
          ],
          [
           0.9779553596031965,
           0.9490662139219015,
           0.9945740640260445,
           0.9722991689750693,
           0.9490662139219015
          ],
          [
           0.9490662139219015,
           0.9835526315789475,
           0.9608062709966406,
           0.9490662139219015,
           0.9309749784296808
          ]
         ]
        }
       ],
       "layout": {
        "height": 950,
        "template": {
         "data": {
          "bar": [
           {
            "error_x": {
             "color": "#2a3f5f"
            },
            "error_y": {
             "color": "#2a3f5f"
            },
            "marker": {
             "line": {
              "color": "#E5ECF6",
              "width": 0.5
             },
             "pattern": {
              "fillmode": "overlay",
              "size": 10,
              "solidity": 0.2
             }
            },
            "type": "bar"
           }
          ],
          "barpolar": [
           {
            "marker": {
             "line": {
              "color": "#E5ECF6",
              "width": 0.5
             },
             "pattern": {
              "fillmode": "overlay",
              "size": 10,
              "solidity": 0.2
             }
            },
            "type": "barpolar"
           }
          ],
          "carpet": [
           {
            "aaxis": {
             "endlinecolor": "#2a3f5f",
             "gridcolor": "white",
             "linecolor": "white",
             "minorgridcolor": "white",
             "startlinecolor": "#2a3f5f"
            },
            "baxis": {
             "endlinecolor": "#2a3f5f",
             "gridcolor": "white",
             "linecolor": "white",
             "minorgridcolor": "white",
             "startlinecolor": "#2a3f5f"
            },
            "type": "carpet"
           }
          ],
          "choropleth": [
           {
            "colorbar": {
             "outlinewidth": 0,
             "ticks": ""
            },
            "type": "choropleth"
           }
          ],
          "contour": [
           {
            "colorbar": {
             "outlinewidth": 0,
             "ticks": ""
            },
            "colorscale": [
             [
              0,
              "#0d0887"
             ],
             [
              0.1111111111111111,
              "#46039f"
             ],
             [
              0.2222222222222222,
              "#7201a8"
             ],
             [
              0.3333333333333333,
              "#9c179e"
             ],
             [
              0.4444444444444444,
              "#bd3786"
             ],
             [
              0.5555555555555556,
              "#d8576b"
             ],
             [
              0.6666666666666666,
              "#ed7953"
             ],
             [
              0.7777777777777778,
              "#fb9f3a"
             ],
             [
              0.8888888888888888,
              "#fdca26"
             ],
             [
              1,
              "#f0f921"
             ]
            ],
            "type": "contour"
           }
          ],
          "contourcarpet": [
           {
            "colorbar": {
             "outlinewidth": 0,
             "ticks": ""
            },
            "type": "contourcarpet"
           }
          ],
          "heatmap": [
           {
            "colorbar": {
             "outlinewidth": 0,
             "ticks": ""
            },
            "colorscale": [
             [
              0,
              "#0d0887"
             ],
             [
              0.1111111111111111,
              "#46039f"
             ],
             [
              0.2222222222222222,
              "#7201a8"
             ],
             [
              0.3333333333333333,
              "#9c179e"
             ],
             [
              0.4444444444444444,
              "#bd3786"
             ],
             [
              0.5555555555555556,
              "#d8576b"
             ],
             [
              0.6666666666666666,
              "#ed7953"
             ],
             [
              0.7777777777777778,
              "#fb9f3a"
             ],
             [
              0.8888888888888888,
              "#fdca26"
             ],
             [
              1,
              "#f0f921"
             ]
            ],
            "type": "heatmap"
           }
          ],
          "heatmapgl": [
           {
            "colorbar": {
             "outlinewidth": 0,
             "ticks": ""
            },
            "colorscale": [
             [
              0,
              "#0d0887"
             ],
             [
              0.1111111111111111,
              "#46039f"
             ],
             [
              0.2222222222222222,
              "#7201a8"
             ],
             [
              0.3333333333333333,
              "#9c179e"
             ],
             [
              0.4444444444444444,
              "#bd3786"
             ],
             [
              0.5555555555555556,
              "#d8576b"
             ],
             [
              0.6666666666666666,
              "#ed7953"
             ],
             [
              0.7777777777777778,
              "#fb9f3a"
             ],
             [
              0.8888888888888888,
              "#fdca26"
             ],
             [
              1,
              "#f0f921"
             ]
            ],
            "type": "heatmapgl"
           }
          ],
          "histogram": [
           {
            "marker": {
             "pattern": {
              "fillmode": "overlay",
              "size": 10,
              "solidity": 0.2
             }
            },
            "type": "histogram"
           }
          ],
          "histogram2d": [
           {
            "colorbar": {
             "outlinewidth": 0,
             "ticks": ""
            },
            "colorscale": [
             [
              0,
              "#0d0887"
             ],
             [
              0.1111111111111111,
              "#46039f"
             ],
             [
              0.2222222222222222,
              "#7201a8"
             ],
             [
              0.3333333333333333,
              "#9c179e"
             ],
             [
              0.4444444444444444,
              "#bd3786"
             ],
             [
              0.5555555555555556,
              "#d8576b"
             ],
             [
              0.6666666666666666,
              "#ed7953"
             ],
             [
              0.7777777777777778,
              "#fb9f3a"
             ],
             [
              0.8888888888888888,
              "#fdca26"
             ],
             [
              1,
              "#f0f921"
             ]
            ],
            "type": "histogram2d"
           }
          ],
          "histogram2dcontour": [
           {
            "colorbar": {
             "outlinewidth": 0,
             "ticks": ""
            },
            "colorscale": [
             [
              0,
              "#0d0887"
             ],
             [
              0.1111111111111111,
              "#46039f"
             ],
             [
              0.2222222222222222,
              "#7201a8"
             ],
             [
              0.3333333333333333,
              "#9c179e"
             ],
             [
              0.4444444444444444,
              "#bd3786"
             ],
             [
              0.5555555555555556,
              "#d8576b"
             ],
             [
              0.6666666666666666,
              "#ed7953"
             ],
             [
              0.7777777777777778,
              "#fb9f3a"
             ],
             [
              0.8888888888888888,
              "#fdca26"
             ],
             [
              1,
              "#f0f921"
             ]
            ],
            "type": "histogram2dcontour"
           }
          ],
          "mesh3d": [
           {
            "colorbar": {
             "outlinewidth": 0,
             "ticks": ""
            },
            "type": "mesh3d"
           }
          ],
          "parcoords": [
           {
            "line": {
             "colorbar": {
              "outlinewidth": 0,
              "ticks": ""
             }
            },
            "type": "parcoords"
           }
          ],
          "pie": [
           {
            "automargin": true,
            "type": "pie"
           }
          ],
          "scatter": [
           {
            "fillpattern": {
             "fillmode": "overlay",
             "size": 10,
             "solidity": 0.2
            },
            "type": "scatter"
           }
          ],
          "scatter3d": [
           {
            "line": {
             "colorbar": {
              "outlinewidth": 0,
              "ticks": ""
             }
            },
            "marker": {
             "colorbar": {
              "outlinewidth": 0,
              "ticks": ""
             }
            },
            "type": "scatter3d"
           }
          ],
          "scattercarpet": [
           {
            "marker": {
             "colorbar": {
              "outlinewidth": 0,
              "ticks": ""
             }
            },
            "type": "scattercarpet"
           }
          ],
          "scattergeo": [
           {
            "marker": {
             "colorbar": {
              "outlinewidth": 0,
              "ticks": ""
             }
            },
            "type": "scattergeo"
           }
          ],
          "scattergl": [
           {
            "marker": {
             "colorbar": {
              "outlinewidth": 0,
              "ticks": ""
             }
            },
            "type": "scattergl"
           }
          ],
          "scattermapbox": [
           {
            "marker": {
             "colorbar": {
              "outlinewidth": 0,
              "ticks": ""
             }
            },
            "type": "scattermapbox"
           }
          ],
          "scatterpolar": [
           {
            "marker": {
             "colorbar": {
              "outlinewidth": 0,
              "ticks": ""
             }
            },
            "type": "scatterpolar"
           }
          ],
          "scatterpolargl": [
           {
            "marker": {
             "colorbar": {
              "outlinewidth": 0,
              "ticks": ""
             }
            },
            "type": "scatterpolargl"
           }
          ],
          "scatterternary": [
           {
            "marker": {
             "colorbar": {
              "outlinewidth": 0,
              "ticks": ""
             }
            },
            "type": "scatterternary"
           }
          ],
          "surface": [
           {
            "colorbar": {
             "outlinewidth": 0,
             "ticks": ""
            },
            "colorscale": [
             [
              0,
              "#0d0887"
             ],
             [
              0.1111111111111111,
              "#46039f"
             ],
             [
              0.2222222222222222,
              "#7201a8"
             ],
             [
              0.3333333333333333,
              "#9c179e"
             ],
             [
              0.4444444444444444,
              "#bd3786"
             ],
             [
              0.5555555555555556,
              "#d8576b"
             ],
             [
              0.6666666666666666,
              "#ed7953"
             ],
             [
              0.7777777777777778,
              "#fb9f3a"
             ],
             [
              0.8888888888888888,
              "#fdca26"
             ],
             [
              1,
              "#f0f921"
             ]
            ],
            "type": "surface"
           }
          ],
          "table": [
           {
            "cells": {
             "fill": {
              "color": "#EBF0F8"
             },
             "line": {
              "color": "white"
             }
            },
            "header": {
             "fill": {
              "color": "#C8D4E3"
             },
             "line": {
              "color": "white"
             }
            },
            "type": "table"
           }
          ]
         },
         "layout": {
          "annotationdefaults": {
           "arrowcolor": "#2a3f5f",
           "arrowhead": 0,
           "arrowwidth": 1
          },
          "autotypenumbers": "strict",
          "coloraxis": {
           "colorbar": {
            "outlinewidth": 0,
            "ticks": ""
           }
          },
          "colorscale": {
           "diverging": [
            [
             0,
             "#8e0152"
            ],
            [
             0.1,
             "#c51b7d"
            ],
            [
             0.2,
             "#de77ae"
            ],
            [
             0.3,
             "#f1b6da"
            ],
            [
             0.4,
             "#fde0ef"
            ],
            [
             0.5,
             "#f7f7f7"
            ],
            [
             0.6,
             "#e6f5d0"
            ],
            [
             0.7,
             "#b8e186"
            ],
            [
             0.8,
             "#7fbc41"
            ],
            [
             0.9,
             "#4d9221"
            ],
            [
             1,
             "#276419"
            ]
           ],
           "sequential": [
            [
             0,
             "#0d0887"
            ],
            [
             0.1111111111111111,
             "#46039f"
            ],
            [
             0.2222222222222222,
             "#7201a8"
            ],
            [
             0.3333333333333333,
             "#9c179e"
            ],
            [
             0.4444444444444444,
             "#bd3786"
            ],
            [
             0.5555555555555556,
             "#d8576b"
            ],
            [
             0.6666666666666666,
             "#ed7953"
            ],
            [
             0.7777777777777778,
             "#fb9f3a"
            ],
            [
             0.8888888888888888,
             "#fdca26"
            ],
            [
             1,
             "#f0f921"
            ]
           ],
           "sequentialminus": [
            [
             0,
             "#0d0887"
            ],
            [
             0.1111111111111111,
             "#46039f"
            ],
            [
             0.2222222222222222,
             "#7201a8"
            ],
            [
             0.3333333333333333,
             "#9c179e"
            ],
            [
             0.4444444444444444,
             "#bd3786"
            ],
            [
             0.5555555555555556,
             "#d8576b"
            ],
            [
             0.6666666666666666,
             "#ed7953"
            ],
            [
             0.7777777777777778,
             "#fb9f3a"
            ],
            [
             0.8888888888888888,
             "#fdca26"
            ],
            [
             1,
             "#f0f921"
            ]
           ]
          },
          "colorway": [
           "#636efa",
           "#EF553B",
           "#00cc96",
           "#ab63fa",
           "#FFA15A",
           "#19d3f3",
           "#FF6692",
           "#B6E880",
           "#FF97FF",
           "#FECB52"
          ],
          "font": {
           "color": "#2a3f5f"
          },
          "geo": {
           "bgcolor": "white",
           "lakecolor": "white",
           "landcolor": "#E5ECF6",
           "showlakes": true,
           "showland": true,
           "subunitcolor": "white"
          },
          "hoverlabel": {
           "align": "left"
          },
          "hovermode": "closest",
          "mapbox": {
           "style": "light"
          },
          "paper_bgcolor": "white",
          "plot_bgcolor": "#E5ECF6",
          "polar": {
           "angularaxis": {
            "gridcolor": "white",
            "linecolor": "white",
            "ticks": ""
           },
           "bgcolor": "#E5ECF6",
           "radialaxis": {
            "gridcolor": "white",
            "linecolor": "white",
            "ticks": ""
           }
          },
          "scene": {
           "xaxis": {
            "backgroundcolor": "#E5ECF6",
            "gridcolor": "white",
            "gridwidth": 2,
            "linecolor": "white",
            "showbackground": true,
            "ticks": "",
            "zerolinecolor": "white"
           },
           "yaxis": {
            "backgroundcolor": "#E5ECF6",
            "gridcolor": "white",
            "gridwidth": 2,
            "linecolor": "white",
            "showbackground": true,
            "ticks": "",
            "zerolinecolor": "white"
           },
           "zaxis": {
            "backgroundcolor": "#E5ECF6",
            "gridcolor": "white",
            "gridwidth": 2,
            "linecolor": "white",
            "showbackground": true,
            "ticks": "",
            "zerolinecolor": "white"
           }
          },
          "shapedefaults": {
           "line": {
            "color": "#2a3f5f"
           }
          },
          "ternary": {
           "aaxis": {
            "gridcolor": "white",
            "linecolor": "white",
            "ticks": ""
           },
           "baxis": {
            "gridcolor": "white",
            "linecolor": "white",
            "ticks": ""
           },
           "bgcolor": "#E5ECF6",
           "caxis": {
            "gridcolor": "white",
            "linecolor": "white",
            "ticks": ""
           }
          },
          "title": {
           "x": 0.05
          },
          "xaxis": {
           "automargin": true,
           "gridcolor": "white",
           "linecolor": "white",
           "ticks": "",
           "title": {
            "standoff": 15
           },
           "zerolinecolor": "white",
           "zerolinewidth": 2
          },
          "yaxis": {
           "automargin": true,
           "gridcolor": "white",
           "linecolor": "white",
           "ticks": "",
           "title": {
            "standoff": 15
           },
           "zerolinecolor": "white",
           "zerolinewidth": 2
          }
         }
        },
        "title": {
         "text": "Topic difference between LDA Models on Job Postings Data Set and Courses Data Set)[jaccard distance]"
        },
        "width": 950,
        "xaxis": {
         "title": {
          "text": "topic"
         }
        },
        "yaxis": {
         "title": {
          "text": "topic"
         }
        }
       }
      },
      "text/html": [
       "<div>                            <div id=\"3e1a0feb-0ca0-4c5e-9b82-8281400757ad\" class=\"plotly-graph-div\" style=\"height:950px; width:950px;\"></div>            <script type=\"text/javascript\">                require([\"plotly\"], function(Plotly) {                    window.PLOTLYENV=window.PLOTLYENV || {};                                    if (document.getElementById(\"3e1a0feb-0ca0-4c5e-9b82-8281400757ad\")) {                    Plotly.newPlot(                        \"3e1a0feb-0ca0-4c5e-9b82-8281400757ad\",                        [{\"colorscale\":[[0.0,\"#30123b\"],[0.07142857142857142,\"#4145ab\"],[0.14285714285714285,\"#4675ed\"],[0.21428571428571427,\"#39a2fc\"],[0.2857142857142857,\"#1bcfd4\"],[0.35714285714285715,\"#24eca6\"],[0.42857142857142855,\"#61fc6c\"],[0.5,\"#a4fc3b\"],[0.5714285714285714,\"#d1e834\"],[0.6428571428571429,\"#f3c63a\"],[0.7142857142857143,\"#fe9b2d\"],[0.7857142857142857,\"#f36315\"],[0.8571428571428571,\"#d93806\"],[0.9285714285714286,\"#b11901\"],[1.0,\"#7a0402\"]],\"text\":[[\"+++ andor, method, master, predictive, big, analytic, research, well, analyze, member<br>--- managed, blackrocks, mathematics, health, action, reaching, receive, use, automation, country\",\"+++ method, master, big, design, application, etc, within, way, build<br>--- fulltime, secretary, ie, mathematics, health, action, incredible, script, use, essential\",\"+++ system, internal, predictive, big, service, database, lead, analytic, area, application<br>--- begin, managed, mathematics, health, use, country, process, academic, bank, combining\",\"+++ method, decision, internal, use, master, predictive, service, database, analytic, area<br>--- managed, mathematics, health, issuer, exerting, country, programming, employment, process, academic\",\"+++ software, internal, analytic, client, build, method, predictive, service, well, management<br>--- managed, increase, mathematics, health, use, also, automation, country, process, academic\"],[\"+++ career, predictive, big, well, world<br>--- managed, dental, blackrocks, health, action, reaching, receive, market, also, automation\",\"+++ career, big, agency, also, etc, build<br>--- fulltime, secretary, dental, ie, health, action, incredible, script, market, essential\",\"+++ great, engineer, career, predictive, big, service, agency, get, well, contract<br>--- begin, managed, dental, health, market, also, country, programming, process, academic\",\"+++ startup, today, career, predictive, service, please, must, well, posted, professional<br>--- managed, dental, health, use, issuer, market, also, exerting, country, employment\",\"+++ great, software, set, career, predictive, big, service, agency, also, well<br>--- managed, dental, increase, health, market, automation, country, programming, process, academic\"],[\"+++ receive, origin, andor, method, career, predictive, education, analytic, research, color<br>--- managed, without, blackrocks, mathematics, action, reaching, use, automation, country, employment\",\"+++ method, career, equal, education, program, design, application, within, etc, employer<br>--- fulltime, secretary, without, ie, mathematics, action, incredible, script, receive, use\",\"+++ system, career, predictive, service, security, database, analytic, regard, application, status<br>--- begin, managed, without, mathematics, receive, use, country, employment, process, academic\",\"+++ employment, method, use, career, predictive, orientation, service, professional, database, analytic<br>--- managed, without, mathematics, receive, issuer, exerting, country, programming, process, academic\",\"+++ software, career, analytic, client, health, method, predictive, service, color, management<br>--- managed, without, increase, mathematics, receive, use, also, automation, country, employment\"],[\"+++ andor, predictive, big, member, plus, color, programming, chance, world<br>--- managed, blackrocks, critical, google, health, action, reaching, receive, sport, also\",\"+++ big, diversity, equal, design, also, creating, etc, employer, plus, form<br>--- fulltime, secretary, ie, critical, google, health, action, incredible, script, sport\",\"+++ system, predictive, big, status, programming, chance<br>--- begin, managed, critical, google, health, sport, also, country, employment, academic\",\"+++ employment, decision, today, predictive, status, plus, color, member, chance, algorithm<br>--- managed, critical, google, health, use, issuer, sport, also, exerting, country\",\"+++ set, system, unique, predictive, big, read, also, status, world, plus<br>--- managed, increase, critical, google, health, sport, automation, country, employment, academic\"],[\"+++ artificial, andor, method, public, career, predictive, report, research, change, structured<br>--- managed, goal, access, blackrocks, action, reaching, receive, use, clinical, automation\",\"+++ method, career, study, etc, diverse, structured, health, build<br>--- fulltime, goal, secretary, access, ie, action, incredible, script, use, clinical\",\"+++ artificial, career, predictive, report, database, security, area, status, structured, client<br>--- begin, managed, goal, access, use, clinical, country, process, academic, youll\",\"+++ training, method, decision, use, career, predictive, report, database, area, status<br>--- managed, goal, access, issuer, clinical, exerting, country, programming, employment, process\",\"+++ artificial, software, set, method, career, predictive, report, database, management, area<br>--- managed, goal, access, increase, use, clinical, also, automation, country, process\"]],\"z\":[[0.9549676329862088,0.9779553596031965,0.937070938215103,0.937070938215103,0.8994677705499705],[1.0,0.9945740640260445,0.9665831244778614,0.9722991689750693,0.9490662139219015],[0.9549676329862088,0.9608062709966406,0.9490662139219015,0.9309749784296808,0.91858098284385],[0.9779553596031965,0.9490662139219015,0.9945740640260445,0.9722991689750693,0.9490662139219015],[0.9490662139219015,0.9835526315789475,0.9608062709966406,0.9490662139219015,0.9309749784296808]],\"type\":\"heatmap\"}],                        {\"height\":950,\"template\":{\"data\":{\"barpolar\":[{\"marker\":{\"line\":{\"color\":\"#E5ECF6\",\"width\":0.5},\"pattern\":{\"fillmode\":\"overlay\",\"size\":10,\"solidity\":0.2}},\"type\":\"barpolar\"}],\"bar\":[{\"error_x\":{\"color\":\"#2a3f5f\"},\"error_y\":{\"color\":\"#2a3f5f\"},\"marker\":{\"line\":{\"color\":\"#E5ECF6\",\"width\":0.5},\"pattern\":{\"fillmode\":\"overlay\",\"size\":10,\"solidity\":0.2}},\"type\":\"bar\"}],\"carpet\":[{\"aaxis\":{\"endlinecolor\":\"#2a3f5f\",\"gridcolor\":\"white\",\"linecolor\":\"white\",\"minorgridcolor\":\"white\",\"startlinecolor\":\"#2a3f5f\"},\"baxis\":{\"endlinecolor\":\"#2a3f5f\",\"gridcolor\":\"white\",\"linecolor\":\"white\",\"minorgridcolor\":\"white\",\"startlinecolor\":\"#2a3f5f\"},\"type\":\"carpet\"}],\"choropleth\":[{\"colorbar\":{\"outlinewidth\":0,\"ticks\":\"\"},\"type\":\"choropleth\"}],\"contourcarpet\":[{\"colorbar\":{\"outlinewidth\":0,\"ticks\":\"\"},\"type\":\"contourcarpet\"}],\"contour\":[{\"colorbar\":{\"outlinewidth\":0,\"ticks\":\"\"},\"colorscale\":[[0.0,\"#0d0887\"],[0.1111111111111111,\"#46039f\"],[0.2222222222222222,\"#7201a8\"],[0.3333333333333333,\"#9c179e\"],[0.4444444444444444,\"#bd3786\"],[0.5555555555555556,\"#d8576b\"],[0.6666666666666666,\"#ed7953\"],[0.7777777777777778,\"#fb9f3a\"],[0.8888888888888888,\"#fdca26\"],[1.0,\"#f0f921\"]],\"type\":\"contour\"}],\"heatmapgl\":[{\"colorbar\":{\"outlinewidth\":0,\"ticks\":\"\"},\"colorscale\":[[0.0,\"#0d0887\"],[0.1111111111111111,\"#46039f\"],[0.2222222222222222,\"#7201a8\"],[0.3333333333333333,\"#9c179e\"],[0.4444444444444444,\"#bd3786\"],[0.5555555555555556,\"#d8576b\"],[0.6666666666666666,\"#ed7953\"],[0.7777777777777778,\"#fb9f3a\"],[0.8888888888888888,\"#fdca26\"],[1.0,\"#f0f921\"]],\"type\":\"heatmapgl\"}],\"heatmap\":[{\"colorbar\":{\"outlinewidth\":0,\"ticks\":\"\"},\"colorscale\":[[0.0,\"#0d0887\"],[0.1111111111111111,\"#46039f\"],[0.2222222222222222,\"#7201a8\"],[0.3333333333333333,\"#9c179e\"],[0.4444444444444444,\"#bd3786\"],[0.5555555555555556,\"#d8576b\"],[0.6666666666666666,\"#ed7953\"],[0.7777777777777778,\"#fb9f3a\"],[0.8888888888888888,\"#fdca26\"],[1.0,\"#f0f921\"]],\"type\":\"heatmap\"}],\"histogram2dcontour\":[{\"colorbar\":{\"outlinewidth\":0,\"ticks\":\"\"},\"colorscale\":[[0.0,\"#0d0887\"],[0.1111111111111111,\"#46039f\"],[0.2222222222222222,\"#7201a8\"],[0.3333333333333333,\"#9c179e\"],[0.4444444444444444,\"#bd3786\"],[0.5555555555555556,\"#d8576b\"],[0.6666666666666666,\"#ed7953\"],[0.7777777777777778,\"#fb9f3a\"],[0.8888888888888888,\"#fdca26\"],[1.0,\"#f0f921\"]],\"type\":\"histogram2dcontour\"}],\"histogram2d\":[{\"colorbar\":{\"outlinewidth\":0,\"ticks\":\"\"},\"colorscale\":[[0.0,\"#0d0887\"],[0.1111111111111111,\"#46039f\"],[0.2222222222222222,\"#7201a8\"],[0.3333333333333333,\"#9c179e\"],[0.4444444444444444,\"#bd3786\"],[0.5555555555555556,\"#d8576b\"],[0.6666666666666666,\"#ed7953\"],[0.7777777777777778,\"#fb9f3a\"],[0.8888888888888888,\"#fdca26\"],[1.0,\"#f0f921\"]],\"type\":\"histogram2d\"}],\"histogram\":[{\"marker\":{\"pattern\":{\"fillmode\":\"overlay\",\"size\":10,\"solidity\":0.2}},\"type\":\"histogram\"}],\"mesh3d\":[{\"colorbar\":{\"outlinewidth\":0,\"ticks\":\"\"},\"type\":\"mesh3d\"}],\"parcoords\":[{\"line\":{\"colorbar\":{\"outlinewidth\":0,\"ticks\":\"\"}},\"type\":\"parcoords\"}],\"pie\":[{\"automargin\":true,\"type\":\"pie\"}],\"scatter3d\":[{\"line\":{\"colorbar\":{\"outlinewidth\":0,\"ticks\":\"\"}},\"marker\":{\"colorbar\":{\"outlinewidth\":0,\"ticks\":\"\"}},\"type\":\"scatter3d\"}],\"scattercarpet\":[{\"marker\":{\"colorbar\":{\"outlinewidth\":0,\"ticks\":\"\"}},\"type\":\"scattercarpet\"}],\"scattergeo\":[{\"marker\":{\"colorbar\":{\"outlinewidth\":0,\"ticks\":\"\"}},\"type\":\"scattergeo\"}],\"scattergl\":[{\"marker\":{\"colorbar\":{\"outlinewidth\":0,\"ticks\":\"\"}},\"type\":\"scattergl\"}],\"scattermapbox\":[{\"marker\":{\"colorbar\":{\"outlinewidth\":0,\"ticks\":\"\"}},\"type\":\"scattermapbox\"}],\"scatterpolargl\":[{\"marker\":{\"colorbar\":{\"outlinewidth\":0,\"ticks\":\"\"}},\"type\":\"scatterpolargl\"}],\"scatterpolar\":[{\"marker\":{\"colorbar\":{\"outlinewidth\":0,\"ticks\":\"\"}},\"type\":\"scatterpolar\"}],\"scatter\":[{\"fillpattern\":{\"fillmode\":\"overlay\",\"size\":10,\"solidity\":0.2},\"type\":\"scatter\"}],\"scatterternary\":[{\"marker\":{\"colorbar\":{\"outlinewidth\":0,\"ticks\":\"\"}},\"type\":\"scatterternary\"}],\"surface\":[{\"colorbar\":{\"outlinewidth\":0,\"ticks\":\"\"},\"colorscale\":[[0.0,\"#0d0887\"],[0.1111111111111111,\"#46039f\"],[0.2222222222222222,\"#7201a8\"],[0.3333333333333333,\"#9c179e\"],[0.4444444444444444,\"#bd3786\"],[0.5555555555555556,\"#d8576b\"],[0.6666666666666666,\"#ed7953\"],[0.7777777777777778,\"#fb9f3a\"],[0.8888888888888888,\"#fdca26\"],[1.0,\"#f0f921\"]],\"type\":\"surface\"}],\"table\":[{\"cells\":{\"fill\":{\"color\":\"#EBF0F8\"},\"line\":{\"color\":\"white\"}},\"header\":{\"fill\":{\"color\":\"#C8D4E3\"},\"line\":{\"color\":\"white\"}},\"type\":\"table\"}]},\"layout\":{\"annotationdefaults\":{\"arrowcolor\":\"#2a3f5f\",\"arrowhead\":0,\"arrowwidth\":1},\"autotypenumbers\":\"strict\",\"coloraxis\":{\"colorbar\":{\"outlinewidth\":0,\"ticks\":\"\"}},\"colorscale\":{\"diverging\":[[0,\"#8e0152\"],[0.1,\"#c51b7d\"],[0.2,\"#de77ae\"],[0.3,\"#f1b6da\"],[0.4,\"#fde0ef\"],[0.5,\"#f7f7f7\"],[0.6,\"#e6f5d0\"],[0.7,\"#b8e186\"],[0.8,\"#7fbc41\"],[0.9,\"#4d9221\"],[1,\"#276419\"]],\"sequential\":[[0.0,\"#0d0887\"],[0.1111111111111111,\"#46039f\"],[0.2222222222222222,\"#7201a8\"],[0.3333333333333333,\"#9c179e\"],[0.4444444444444444,\"#bd3786\"],[0.5555555555555556,\"#d8576b\"],[0.6666666666666666,\"#ed7953\"],[0.7777777777777778,\"#fb9f3a\"],[0.8888888888888888,\"#fdca26\"],[1.0,\"#f0f921\"]],\"sequentialminus\":[[0.0,\"#0d0887\"],[0.1111111111111111,\"#46039f\"],[0.2222222222222222,\"#7201a8\"],[0.3333333333333333,\"#9c179e\"],[0.4444444444444444,\"#bd3786\"],[0.5555555555555556,\"#d8576b\"],[0.6666666666666666,\"#ed7953\"],[0.7777777777777778,\"#fb9f3a\"],[0.8888888888888888,\"#fdca26\"],[1.0,\"#f0f921\"]]},\"colorway\":[\"#636efa\",\"#EF553B\",\"#00cc96\",\"#ab63fa\",\"#FFA15A\",\"#19d3f3\",\"#FF6692\",\"#B6E880\",\"#FF97FF\",\"#FECB52\"],\"font\":{\"color\":\"#2a3f5f\"},\"geo\":{\"bgcolor\":\"white\",\"lakecolor\":\"white\",\"landcolor\":\"#E5ECF6\",\"showlakes\":true,\"showland\":true,\"subunitcolor\":\"white\"},\"hoverlabel\":{\"align\":\"left\"},\"hovermode\":\"closest\",\"mapbox\":{\"style\":\"light\"},\"paper_bgcolor\":\"white\",\"plot_bgcolor\":\"#E5ECF6\",\"polar\":{\"angularaxis\":{\"gridcolor\":\"white\",\"linecolor\":\"white\",\"ticks\":\"\"},\"bgcolor\":\"#E5ECF6\",\"radialaxis\":{\"gridcolor\":\"white\",\"linecolor\":\"white\",\"ticks\":\"\"}},\"scene\":{\"xaxis\":{\"backgroundcolor\":\"#E5ECF6\",\"gridcolor\":\"white\",\"gridwidth\":2,\"linecolor\":\"white\",\"showbackground\":true,\"ticks\":\"\",\"zerolinecolor\":\"white\"},\"yaxis\":{\"backgroundcolor\":\"#E5ECF6\",\"gridcolor\":\"white\",\"gridwidth\":2,\"linecolor\":\"white\",\"showbackground\":true,\"ticks\":\"\",\"zerolinecolor\":\"white\"},\"zaxis\":{\"backgroundcolor\":\"#E5ECF6\",\"gridcolor\":\"white\",\"gridwidth\":2,\"linecolor\":\"white\",\"showbackground\":true,\"ticks\":\"\",\"zerolinecolor\":\"white\"}},\"shapedefaults\":{\"line\":{\"color\":\"#2a3f5f\"}},\"ternary\":{\"aaxis\":{\"gridcolor\":\"white\",\"linecolor\":\"white\",\"ticks\":\"\"},\"baxis\":{\"gridcolor\":\"white\",\"linecolor\":\"white\",\"ticks\":\"\"},\"bgcolor\":\"#E5ECF6\",\"caxis\":{\"gridcolor\":\"white\",\"linecolor\":\"white\",\"ticks\":\"\"}},\"title\":{\"x\":0.05},\"xaxis\":{\"automargin\":true,\"gridcolor\":\"white\",\"linecolor\":\"white\",\"ticks\":\"\",\"title\":{\"standoff\":15},\"zerolinecolor\":\"white\",\"zerolinewidth\":2},\"yaxis\":{\"automargin\":true,\"gridcolor\":\"white\",\"linecolor\":\"white\",\"ticks\":\"\",\"title\":{\"standoff\":15},\"zerolinecolor\":\"white\",\"zerolinewidth\":2}}},\"title\":{\"text\":\"Topic difference between LDA Models on Job Postings Data Set and Courses Data Set)[jaccard distance]\"},\"width\":950,\"xaxis\":{\"title\":{\"text\":\"topic\"}},\"yaxis\":{\"title\":{\"text\":\"topic\"}}},                        {\"responsive\": true}                    ).then(function(){\n",
       "                            \n",
       "var gd = document.getElementById('3e1a0feb-0ca0-4c5e-9b82-8281400757ad');\n",
       "var x = new MutationObserver(function (mutations, observer) {{\n",
       "        var display = window.getComputedStyle(gd).display;\n",
       "        if (!display || display === 'none') {{\n",
       "            console.log([gd, 'removed!']);\n",
       "            Plotly.purge(gd);\n",
       "            observer.disconnect();\n",
       "        }}\n",
       "}});\n",
       "\n",
       "// Listen for the removal of the full notebook cells\n",
       "var notebookContainer = gd.closest('#notebook-container');\n",
       "if (notebookContainer) {{\n",
       "    x.observe(notebookContainer, {childList: true});\n",
       "}}\n",
       "\n",
       "// Listen for the clearing of the current output cell\n",
       "var outputEl = gd.closest('.output');\n",
       "if (outputEl) {{\n",
       "    x.observe(outputEl, {childList: true});\n",
       "}}\n",
       "\n",
       "                        })                };                });            </script>        </div>"
      ]
     },
     "metadata": {},
     "output_type": "display_data"
    }
   ],
   "source": [
    "#Visualization for Comparing LDA Models on Job Postings and Northeastern Courses Dataset\n",
    "def plot_difference_plotly(mdiff, title=\"\", annotation=None):\n",
    "    \"\"\"Plot the difference between models.\n",
    "\n",
    "    Uses plotly as the backend.\"\"\"\n",
    "\n",
    "\n",
    "    annotation_html = None\n",
    "    if annotation is not None:\n",
    "        annotation_html = [\n",
    "            [\n",
    "                \"+++ {}<br>--- {}\".format(\", \".join(int_tokens), \", \".join(diff_tokens))\n",
    "                for (int_tokens, diff_tokens) in row\n",
    "            ]\n",
    "            for row in annotation\n",
    "        ]\n",
    "\n",
    "    data = go.Heatmap(z=mdiff, colorscale='Turbo', text=annotation_html)\n",
    "    layout = go.Layout(width=950, height=950, title=title, xaxis=dict(title=\"topic\"), yaxis=dict(title=\"topic\"))\n",
    "    py.iplot(dict(data=[data], layout=layout))\n",
    "\n",
    "#visualizaitons\n",
    "mdiff, annotation = lda_model.diff(lda_model_1, distance='jaccard', num_words=100)\n",
    "plot_difference_plotly(mdiff, title=\"Topic difference between LDA Models on Job Postings Data Set and Courses Data Set)[jaccard distance]\", annotation=annotation)"
   ]
  },
  {
   "cell_type": "code",
   "execution_count": null,
   "id": "e53440a9",
   "metadata": {},
   "outputs": [],
   "source": []
  }
 ],
 "metadata": {
  "kernelspec": {
   "display_name": "Python 3 (ipykernel)",
   "language": "python",
   "name": "python3"
  },
  "language_info": {
   "codemirror_mode": {
    "name": "ipython",
    "version": 3
   },
   "file_extension": ".py",
   "mimetype": "text/x-python",
   "name": "python",
   "nbconvert_exporter": "python",
   "pygments_lexer": "ipython3",
   "version": "3.10.8"
  },
  "vscode": {
   "interpreter": {
    "hash": "aee8b7b246df8f9039afb4144a1f6fd8d2ca17a180786b69acc140d282b71a49"
   }
  }
 },
 "nbformat": 4,
 "nbformat_minor": 5
}
